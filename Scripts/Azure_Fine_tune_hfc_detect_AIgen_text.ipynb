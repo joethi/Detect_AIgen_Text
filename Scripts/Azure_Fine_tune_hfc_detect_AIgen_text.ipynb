{
 "cells": [
  {
   "cell_type": "code",
   "execution_count": 1,
   "metadata": {},
   "outputs": [],
   "source": [
    "# pip install evaluate"
   ]
  },
  {
   "cell_type": "code",
   "execution_count": 2,
   "metadata": {},
   "outputs": [
    {
     "name": "stderr",
     "output_type": "stream",
     "text": [
      "/opt/anaconda3/envs/Azure_end_to_end_project/lib/python3.12/site-packages/tqdm/auto.py:21: TqdmWarning: IProgress not found. Please update jupyter and ipywidgets. See https://ipywidgets.readthedocs.io/en/stable/user_install.html\n",
      "  from .autonotebook import tqdm as notebook_tqdm\n"
     ]
    }
   ],
   "source": [
    "import numpy as np\n",
    "import pandas as pd\n",
    "from sklearn import metrics\n",
    "import transformers\n",
    "import torch\n",
    "from torch.utils.data import Dataset, DataLoader, RandomSampler, SequentialSampler\n",
    "from transformers import BertTokenizer, BertModel, BertConfig"
   ]
  },
  {
   "cell_type": "code",
   "execution_count": 3,
   "metadata": {},
   "outputs": [],
   "source": [
    "# # Setting up the device for GPU usage\n",
    "from torch import cuda\n",
    "device = 'cuda' if cuda.is_available() else 'cpu'"
   ]
  },
  {
   "cell_type": "code",
   "execution_count": 4,
   "metadata": {},
   "outputs": [
    {
     "name": "stdout",
     "output_type": "stream",
     "text": [
      "device:  cpu\n"
     ]
    }
   ],
   "source": [
    "print(\"device: \", device)"
   ]
  },
  {
   "cell_type": "markdown",
   "metadata": {},
   "source": [
    "#### Load the Dataset:"
   ]
  },
  {
   "cell_type": "code",
   "execution_count": 5,
   "metadata": {},
   "outputs": [],
   "source": [
    "hmn_df = pd.read_csv(\"../Clean_data/human_wrttn_text.csv\")\n",
    "ai_df = pd.read_csv(\"../Clean_data/ai_gen_text.csv\")"
   ]
  },
  {
   "cell_type": "markdown",
   "metadata": {},
   "source": [
    "#### Concatenate the Datasets and Change the Feature Type of the Labela:"
   ]
  },
  {
   "cell_type": "code",
   "execution_count": 6,
   "metadata": {},
   "outputs": [
    {
     "name": "stdout",
     "output_type": "stream",
     "text": [
      "daatset_df:\n",
      "                                                 Text  label\n",
      "0  12 Years a Slave An Analysis of the Film Essay...      0\n",
      "1  20 Social Media Post Ideas to Radically Simpli...      0\n",
      "2  2022 Russian Invasion of Ukraine in Global Med...      0\n",
      "3  533 US 27 2001 Kyllo v United States The Use o...      0\n",
      "4  A Charles Schwab Corporation Case Essay\\n\\nCha...      0\n"
     ]
    }
   ],
   "source": [
    "from datasets import Dataset, ClassLabel, Features, Value\n",
    "dataset_df = pd.concat([hmn_df, ai_df], ignore_index=True)\n",
    "print(\"daatset_df:\\n\", dataset_df.head())\n",
    "features_chng = Features({\"Text\": Value(\"string\"),\"label\": ClassLabel(num_classes=2,names=[0,1])})\n",
    "dataset = Dataset.from_pandas(dataset_df, features=features_chng)"
   ]
  },
  {
   "cell_type": "code",
   "execution_count": 7,
   "metadata": {},
   "outputs": [
    {
     "data": {
      "text/plain": [
       "{'Text': Value(dtype='string', id=None),\n",
       " 'label': ClassLabel(names=[0, 1], id=None)}"
      ]
     },
     "execution_count": 7,
     "metadata": {},
     "output_type": "execute_result"
    }
   ],
   "source": [
    "type(dataset[0][\"label\"])\n",
    "dataset.features"
   ]
  },
  {
   "cell_type": "code",
   "execution_count": 8,
   "metadata": {},
   "outputs": [],
   "source": [
    "# dataset.class_encode_column('label')\n",
    "# dataset"
   ]
  },
  {
   "cell_type": "markdown",
   "metadata": {},
   "source": [
    "#### Split the Datasets into Train and Test Dataset:"
   ]
  },
  {
   "cell_type": "code",
   "execution_count": 9,
   "metadata": {},
   "outputs": [
    {
     "name": "stdout",
     "output_type": "stream",
     "text": [
      "train_points:  10 \n",
      "val_points:  2\n"
     ]
    }
   ],
   "source": [
    "train_points = 10\n",
    "val_points = int(int(train_points/0.8) * 0.2)\n",
    "print(\"train_points: \", train_points, \"\\nval_points: \", val_points)\n",
    "dataset_dict = dataset.train_test_split(test_size=0.2, stratify_by_column=\"label\")\n",
    "small_train_dataset = dataset_dict[\"train\"].shuffle(seed=40).select(range(train_points))\n",
    "small_test_dataset = dataset_dict[\"test\"].shuffle(seed=40).select(range(val_points))"
   ]
  },
  {
   "cell_type": "code",
   "execution_count": 37,
   "metadata": {},
   "outputs": [
    {
     "data": {
      "text/plain": [
       "['Air France Company’s Costs and Revenue Structure Report\\n\\nTable of Contents\\n 1 Introduction\\n 2 Direct Operating Costs\\n 3 Indirect Airline Operating Costs\\n 4 Revenues\\n 5 Conclusion\\n 6 References\\n\\nIntroduction\\n\\nFor a long period the airline business has been categorized as ‘lucrative’ The notion that the airline business is lucrative is partly perpetuated by the fact that it is the most costly form of transport Also the huge capital base of the airline business makes it one of the most stable types of business For instance the assets of an airline at any given time include planes hangers and cargo bays which translate into a lot of capital base for an airline\\n\\nConsequently various airlines utilize a set of factors when they are coming up with different costs for their products and services However sources of revenue for an airline remain the most prominent determinant of cost This is also the reason why there are big disparities in costs between different airlines This report seeks to identify the factors that contribute to the cost of an airline using Air France as a model\\n\\nBesides the report describes the different sources of revenue for the airline Air France AF is the main airline in France and it has its headquarters in Paris The airline is owned by the Sky Team Global Alliance jointly with Air FranceKLM AF’s business includes cargo and passengers in both France and 93 other countries around the world The airline has been in existence since 1933 as a result of a merger between several airlinebusinesses of the time\\n\\nCurrently the airline is categorized as a business leader due to the market share it commands in France and other parts of the world Consequently at any given time matters to do with costing and revenue are pertinent to AF As a big business AF encounters significant direct and indirect operating costs which are correlated with revenue to determine appropriate costing This report utilizes the annual financial report for AF to identify the factors that contribute to its costs about its various sources of revenue\\n\\nDirect Operating Costs\\n\\nAF’s direct operating costs constitute a wide range of factors but wages salaries and fuel dominate this category Fuel costs make up the secondhighest operating costs and they reflect global patterns in the airline industry However the escalating salary costs have to do with the size of the AF As a ‘giant’ airline AF requires a higher threshold of employees for its maintenance needs For its costing needs the airline is more likely to rely on salary and wage costs because this factor is more stable than fuel prices For instance the company’s longterm plans are often destabilized by changes in fuel costs\\n\\nEquipment and plant maintenance make up 9 of all direct costs at AF This unexpected factor is constant and it is only expected to affect the prices of air tickets in the long term Although fuel is only the second significant factor as far as direct costs are concerned its fluctuating nature makes it a major determinant of shortterm airlinecosts Catering and chartering costs makeup only a small portion of AF’s online but the company’s annual report reveals their significance in attracting and retaining customers Air France 2012 For example most of AF’s advertisements focus on passenger comfort for the company to gain a muchneeded market share\\n\\nIndirect Airline Operating Costs\\n\\nThe indirect airline operating costs are also a significant factor in airline costs although they do not carry as much weight as direct factors Nevertheless indirect operating costs are significant as far as industry standards are concerned In the case of AF most of its indirect operating costs are incurred through landing fees and enroute charges These cost factors are important to AF because they are part of the core determinants of product costs\\n\\nFor example these types of costs are different and vary from one area of jurisdiction to the other The airline does not have any powers to control these types of costs and the customer often bears these expenses directly Handling charges and other operating costs also make up a significant portion of the indirect operating costs This category of expenses is important for AF in the company’s quest to maintain high standards This cost factor is also static and it is directly passed on to consumers\\n\\nAnother indirect cost factor is aircraft operating and lease costs This factor changes by various stages of business AF can use the lease costs to stabilize its business in instances of unstable environments In early 2012 “faced with negative results the Air FranceKLM Board of Directors set three priorities restoring competitiveness through costcutting restructuring the short and mediumhaul operations and rapidly reducing debt” Air France 2012 For example leased aircraft can be essential in bringing supply and demand equilibrium to the business This cost factor is a good cost strategy for AF to gain lost ground in instances of slowdowns in performance\\n\\nRevenues\\n\\nPassengers are the main sources of revenue for AF and this trend aligns with the company’s business model Overall AF generated approximately 2563 billion Euros and passengers accounted for 79 of this income On the other hand this revenue indicates success on the part of AF whereby the company can record a load factor of 831  Eventually the company’s costing practices are substantiated by the revenue it generates from its passenger service\\n\\nThere is an ongoing struggle among various airline businesses to make cargo a significant incomegenerating factor Consequently all major airlines around the world endeavor to generate at least 10 of their revenue from cargo business Unlike passengerrelated prices cargo costs remain largely stable Therefore the 12 revenue from the cargo business indicates that AF is indeed a global leader in the airline business The most important costing factor for AF as per the company’s revenue structure is fuel costs human resource elements and advertising costs As a big company AF manages to rake in revenue from its maintenance business whereby it handles 1300 aircraft per year Also AF has managed to earn an additional 5 in revenue from its diversified business sources\\n\\nConclusion\\n\\nAF costs are mainly aimed at maintaining the airline’s position as a market leader whilst managing to achieve positive growth The airline’s operations still follow the traditional business model of business whereby various types of products are offered with the view of maximizing revenue and catering to a wide range of customers This costing method follows a model whereby “the price is fixed and the main task of revenue management is to maximize returns by controlling capacity” Fedorco  Hospodka 2013 An analysis of AF indicates that wages salaries and fuel costs make up the majority of operating costs at 71\\n\\nConsequently these two factors have a significant impact on the costing strategies that are used by AF Fuel constitutes 35 of AF’s total directoperational costs and this element is passed on to the customer directly When the prices of oil keep changing from time to time it becomes difficult for an airline to maintain stability in its prices Some companies deal with this uncertainty by maintaining stable fare prices and adding fuel surcharges when necessary\\n\\nAF’s pricing strategy is based on class categories where the number of seats in each passenger category remains fixed Consequently the complexities of customer service lead to high costs in employee wages and salaries The fuel and wage factors are responsible for the constantly changing AF ticket prices For instance sometimes the prices of AF air tickets changes from week to week depending on forecasts and capacities Other than fuel and wages all other direct airlineoperating costs for AF do not have any significant effects on costs On the other hand indirect operating costs also carry a significant pricing factor\\n\\nMost indirect costs affect passenger’s ticket prices depending on seasons For instance highdemand seasons naturally nullify the indirect costs factor in several ways The major indirect costs for AF are landing and handling costs If an airplane does not stay on the runway for a significant period these costs automatically come down The reason why the airline is focused on passenger satisfaction and accommodation too much is that this is the main revenue generator for AF Consequently AF’s costs are dominated by employees’ wages because this factor directly contributes to obtaining more passengers\\n\\nReferences\\n\\nAir France 2012 Horizons 2012 annual report  Web\\n\\nFedorco L  Hospodka J 2013 Airline pricing strategies in European airline market  Web\\n',\n",
       " 'Women’s Social Role Over Time Reflected in Literature Essay\\n\\nOver the past several decades gender relations have been a central topic for social scientists This essay argues that the evolution of the social role of women that took place from the AngloSaxon period to the Early Modern period was slow and lacked significant changes as the patriarchal structure remained unshaken\\n\\nTwo renowned works Beowulf and Sir Gawain and the Green Knight from The Old English and Middle English periods respectively demonstrate the ability of females to break social norms and challenge a deep patriarchal social structure Ghani pointed out that the women who exhibited masculine qualities in those two periods in history were associated with villains and monsters 61 The author described how Grendel’s mother and Morgan the Fay challenge the existing rules of the time they lived “The image of Grendel’s mother reflects a threat to the homosocial bond between men that regulates a patriarchal system On the other hand Morgan the Fay is projected as a challenge to Medieval knighthood…” 62\\n\\nThe social perception of gender roles stayed unchanged even in Shakespeare’s time The reign of Elizabeth was based on a patriarchal system with highly unequal power relations between the genders Levis Women were regarded as weaker and less emotionally stable sex And once again Shakespeare masterfully represents the socially unequal society by depicting a woman named Viola who lacked ‘normal’ feminine behavior She possessed certain masculine features such as skillfulness practicality and resourcefulness She was the one who used reason to mitigate an emotional quarrel between Orsino and Olivia Lewis\\n\\nAll in all the evolution of the female gender from the AngloSaxon to the Early Modern period was slight However during all three periods the three works managed to illustrate an alternative reality by presenting female characters with developed masculine qualities\\n\\nWorks Cited\\n\\nGhani Hana “The Feminine Other Monsters and Magic in Beowulf and Sir Gawain and the Green Knight” JLalite Journal of English Studies  vol 2 no1 2021 pp 5563\\n\\nLewis Hannah Gender Roles Reviewed Through Shakespeare’s Twelfth Night with 21st Century Applications 2021 Olivet Nazarene University Honors Scholarship Project\\n',\n",
       " '“Ladies and Gentlemen to the Gas Chamber” by T Borowski Essay\\n\\nLadies and gentlemen to the gas chamber is a collection of short stories where the author describes his experiences in the concentration camp It is a reflection of the events that took place during the Second World War The setting is in Canada and the narrator together with some of his friends are prisoners that have the responsibility of unloading Jewish prisoners who are sent to the country to work The title of the novel is derived from a statement that was being told to the Jews prisoners as they were directed to the gas chambers The prisoners have no other alternative to get their meals and clothes rather than doing this kind of work It is a painful experience especially for the Jews prisoners who are packed in the cars like goods They are denied food and water through their journey and as they arrive they wish for such an offer The pain in the train is too much and so irritating to the guards have to shoot in the air The sound of the bullet has become a very scary thing among the prisoners that basically signifies to them that death is knocking For their lives to be spared and hopefully a promise of deliverance they have to persevere and keep quiet even when they are in dire need The Jews come with food and other belongings of which the food is taken by the prisoners\\n\\nThesis\\n\\nThe characters in the story are filled with horror as they see the unfolding of events among the Jews prisoners Since there is nothing much they can do to help the prisoners they choose to ignore their cries by directing them to the necessary places For those that appear helpless the soldiers have no otherwise but to shoot them dead The soldiers are seen shooting in the air when they can not handle the cry of the Jews prisoners in the trains The shooting is meant to scare them so that they remain quiet They can however of great assistance to them if they provided at least some water to them It would also be better if the prisoners were given an idea of where they were going to psychologically prepare themselves\\n\\nThis was a tactic that was applied by the Nazis to conquer their enemy during world war two As the Jews prisoners were transported to Canada some of them were made to work which provided cheap and free labor The prisoners were to work in the mines construction sites and also carry out some household activities They were a source of cheap labor to the Germans who would concentrate on the war as the prisoners took care of other labor activities Their possessions were also taken in and put into the government coffer This hence meant that there was a double benefit for the German coffer After the Jews prisoners were taken from the trains their personal belonging together with the money that was taken was used to empower the soldiers to fight the war They also had the advantage of being stronger considering that the prisoners were absolutely in their hands They had the option of either sparing their lives or making them work for them or rather kill those that proved to be stubborn and a nuisance The characters of the narrative could be good people that had been changed by the prevailing circumstances\\n\\nFor the prisoners it was a means of survival they had to ignore the cries and pleas of the Jews prisoners and rush for their food The prisoners were required to go to the trains and collect the things the Jews had carried in the trains They would eat the food take some of the clothes and forward the other items to the concerned authority This was the main way through which they would be fed and clothed The soldiers were also under the command of the government to do all that was necessary to ensure order in the camp There was however a lack of concern for humanity following the killings of innocent beings The prisoners were being transported to places they did not know and their efforts to inquire were ignored They lived in fear with a life of uncertainty To them it was either hard labor or face death all this for the mistakes they had not done It was all about the war and letting the strong party win It was a season where every principle of the war wanted to prove to the world that they were the most powerful It did not matter to them who died but rather to prove their superiority\\n\\nReferences\\n\\nThe Norton Anthology of Western Literature Volume 2 8th edition Lawall Sarah ed\\n',\n",
       " 'When Couples Become Parents Report\\n\\nProcreation is the societal norm of marriage If couples cannot have children they may seek other means of having children They may choose adoption or surrogate motherhood Very few couples choose not to have children Prior to having children couples usually enjoy the comfort of each other However the birth of a child leads to drastic changes in how couples associate with each other\\n\\nTransition to parenthood may lead to various challenges that couples must be ready to face Parenthood leads to divisions of work and responsibility according to gender The added responsibilities of parenthood lead to a permanent change in the relationship between the couple\\n\\nTherefore it is critical for the couples to be ready for parenthood Failure to have good preparation may lead to creation of tensions which may threaten the peaceful coexistence of the couples The birth of a baby leads to permanent changes in the couple’s lives This paper focuses on the effects that a baby has on the responsibilities and sexual relationship of the couple These may create tension in the marriage\\n\\nBonnie Fox’s book ‘when couples become parents’ provides a clear explanation of the changes that occur when couples become parents Divisions of work and responsibility based on gender is one the initial changes that occur when couples become parents Usually the society expects women to take care of the children Women feed and clean the children\\n\\nDivision of work and responsibility based on the gender may the source of initial problems in the transition to parenthood This is because it places more childcare responsibilities on women Husbands may be reluctant to share the child rearing duties with their partners\\n\\nDivision of responsibilities may also lead to conflicts among the couple Time pressures are the major factor that leads to conflicts among the couples Division of responsibility forces the new parents to juggle between their parental duties and their careers Fox 2009 p 156\\n\\nTraditionally women are the main gender that takes care of the children In traditional marriages women remain at home looking after the children while the men work However men also look after the children Men may wash feed or cuddle babies when they cry\\n\\nHowever in most instances men care for the babies due to the insistence of their wives Women usually have a special closeness with their children Women may have telepathic communication with their children However there are men who may perform caregiving duties without the insistence of their wives\\n\\nSuch men usually envy the fondness that their wives may have with their children Women usually ensure that the children are well fed and cleaned In some instances women may still perform these duties even if the men were home on a fulltime basis Fox 2009 p 173\\n\\nIt is critical for couples to divide their parental duties among themselves Therefore while one parent is looking after the child the other parent may be performing various housework duties However how the parents share their duties is dependent on how they shared their duties prior to becoming parents Sharing duties increases the mothering that the babies receive This is beneficial in the development of the child\\n\\nHowever the man’s failure to undertake domestic responsibilities or childrearing activities does not mean that he is bad parent The man merely helps her partner in the chores The man may choose to help his partner or not However the society considers women who do not undertake their domestic responsibilities as bad parents\\n\\nThis is because the society considers domestic activities and child rearing activities to be the domain of the woman Motherhood leads to a complete transformation of the woman’s life However there may be very few changes in the man’s life Husbands simply acquire additional responsibilities on their lives\\n\\nHusbands mainly ensure financial provision of the family Therefore children increase the financial burden that husbands have to overcome Fox 2009 p 181\\n\\nThe divisions of role of parenting usually change dramatically after the birth of the baby Women engage in more domestic work than they did prior to the birth of the child After the birth of the baby women usually seek leave from their places of work to bring up the children\\n\\nWomen usually take a few months off to care for the baby In some instances women may quit their jobs to become fulltime parents However men rarely take time off from work to look after their children or wives Those who do spend only a few days away from working taking care of the baby Engaging in domestic chores makes a woman have a feeling of accomplishment\\n\\nHowever the birth of the baby may make the husband engage in less domestic chores This is because the woman may quit work to become a fulltime parent Therefore men may leave all domestic to their wives Engaging in domestic chores and child rearing activities is a tiresome activity to women\\n\\nMost women claim that they do not have spare time for relaxation This is because the birth of the increases their domestic responsibilities Even if women received support from their husbands in domestic chores and child rearing duties they would still feel that they do not have enough time Fox 2009 p 185\\n\\nThe birth of a baby leads to complete transformation of the relationship between the couples It is vital for the couple to ensure that they support each other The couples usually shift their attention to the baby Therefore they may not have time to make their relationship work The birth of the baby leads to drastic changes in the sexual relationship of the couple The birth of the baby usually reduces the frequency of sex\\n\\nVery few couples have sex within the first two months after the birth of the baby Most couples resume sex only after weaning the baby Couples may not have sex due to the infrequent sleep pattern of the baby In addition women are not ready to engage in sex due to the exhaustion of the domestic activities\\n\\nVarious women are not comfortable having sex after the birth of the baby However as the baby grows the couples may start having sex more frequently This is because women have more time for relaxation In most couples their sexual relationship does not revert to the way it was before the pregnancy\\n\\nThe daily stress and exhaustion of women coupled with the lack of a sexual relationship may be detrimental to the marriage During this period most couples may have a feeling of discontent towards their partners\\n\\nThis may ultimately result in the breakup of the marriage On other hand the need to have emotional and sexual satisfaction may compel one or both couples to cheat on their partners Fox 2009 p 250\\n\\nTherefore it is critical for partners to be ready for parenthood The birth of the baby may lead to the creation of various issues that may threaten the peaceful coexistence of the couple\\n\\nBirth of the baby increases the demands of both parents Women are mainly involved in domestic duties and childrearing activities while man ensure they cater for the financial needs of the family The birth of the baby leads to permanent changes in the sexual relationship of the couple\\n\\nReferences\\n\\nFox B 2009 When couples become parents The creation of gender in the transition to parenthood  Toronto University of Toronto\\n',\n",
       " 'Socrates as a Classic of Western Philosophy Essay\\n\\nTable of Contents\\n 1 Introduction\\n 2 Main body\\n 3 Conclusion\\n 4 Reference list\\n\\nIntroduction\\n\\nSocrates was a philosopher who lived between the years 469 and 399 BCE He is one of the few men who created an image for himself as a man fully committed to the virtue of truth His critical reasoning and the way he lived his life has a major influence on western philosophy to date He was a renowned soldier who also served diligently in politics before retiring to work as a stonemason to look after his family\\n\\nMain body\\n\\nLooking at the Greek’s understanding of virtue we realize that virtue varies from one individual to another since they describe it as a skill But for Socrates virtue ought to be similar for everyone at all times and place for that is what real virtue is all about Meno believes that virtue is actually the unending urge for good deeds but Socrates seems to differ with this point of argument He argues that considering different people possess different levels of virtue then it has to vary amongst different people Jowett 2 He goes ahead to mention that it is very normal all around the world for anyone to want his or her believes to be regarded as good This is because no one would want what is regarded as bad whether knowingly or unknowingly The difference in character as seen in different people is a result of differing knowledge possessed by different people Socrates believes that when a person acquires knowledge on what is right then the outcome is the desire to act on it Jowett 13\\n\\nAnother thinker in the name of Aristotle later on came to disapprove this argument by Socrates bringing to our attention the different events where the weakness of will affects our moral judgment At this point Socrates redirects the dialogue asking the question how is one supposed to know what virtue is He raises a dilemma on the dialogue with many questions to ponder on on the aspect of knowledge For example “How can an individual learn what he does not know” He goes further ahead to mention that this could be because this individual already has the information concerning what he is looking for and therefore he does not need to look further Or maybe he is not aware of what he is looking for and therefore may not know even when he finds it Socrates therefore does not respond to Meno’s question about how virtue is acquired because he tries to make us believe that it is hard for us to learn anything about virtue\\n\\nWhen Socrates was in prison awaiting execution his friends came up with a plan to help him escape but instead he decided not to follow it up He was a man ready to face execution rather than abandon his philosophical beliefs Taylor 124 He looks calm and collected even in the face of his death Taylor 126 Crito argues that helping Socrates run away from the arms of law would help him achieve his life obligations of ensuring his friends’ reputations are preserved Socrates strongly dismisses this argument claiming that what matters is the opinion of that person with the relevant knowledge and not that of the general majority He says that the truth should be the only factor to consider in any decisionmaking process and therefore everyone should engage the right moral standards in trying to do this Socrates’ argument applies to him alone considering that we are living in a democratic world where the majority seems to carry the day every time Democracy can either work against you or for you depending on the numbers that oppose or propose to you\\n\\nIn the apology Socrates argues that People should never at any time do wrong even if they are wronged by others He claims that it is never to disobey the state and therefore nobody should ever think about disobeying this institution Tredennick 33 Acting right at any moment should be guided by the moral standards set within a society For this reason I totally disagree with the argument that people should never disobey the state The argument is applicable only when the moral standards set within a society approve the actions of a state and disapproves of the actions of an individual\\n\\nIf ordered by the authorities in our country to do something before obeying it is your responsibility as a citizen to weigh the impacts of this action on the moral standards of our society before we do it Personally I feel that moral standards must always be upheld at any time and therefore if the action is immoral you are justified to disobey In a job contract it is a responsibility of an individual to act as per the agreements of the contract while on the other hand nobody signs a contract with a state\\n\\nSocrates’ defense in the apology looks more of a failure than a success considering that Crito is not convinced The argument that Socrates should not run away from prison but instead face his death to show obedience to the state seems valid to Crito as long as the sentence is totally based on the truth As long as Socrates’ friends still believe in his innocence than his argument still remains unconvincing to them and therefore a failure Crito tries to compare the situation of complete obedience to a state to that of a parent and a child It is wrong for children to disobey their parents but when they grow old enough to know what is wrong and right they have the responsibility to question what is wrong Likewise the state can never be right every time and therefore people have to rise up and take action whenever necessary\\n\\nAccording to Plato knowledge is acquired by looking at past experiences that had a direct or even indirect influence on an individual’s life This argument explains the Socratic dialect concerning knowledge acquisition He explains that the purpose of learning is not all about offering new information but instead revealing what we already knew from past experiences\\n\\nConclusion\\n\\nSocrates’ life offers a lot of teaching that can positively apply in our lives today He offers us a life teaching in truth and how it should be used in making ethical judgments His mistakes provide an insight into the impacts of every decisionmaking process with regard to our lives It should therefore be everyone’s desire to make the right decisions every time and be guided by moral values\\n\\nReference list\\n\\nTaylor Alfred Socrates California Read Books Publishers 2007\\n\\nJowett Benjamin Meno  Forgotten books 2008\\n\\nTredennick Hugh The last days of Socrates  London Penguin Classics 2003\\n',\n",
       " 'Risk Factors Involving People with Ischaemic Heart Disease InDepth Interview Essay\\n\\nIntroduction\\n\\nIschaemic heart disease is characterized by in adequate blood supply to the heart The disease does not have a single dominant cause but has strong relations to several aspects of lifestyle and a significant link to genetic inheritance Fox 1987 Types of diet and drug use or abuse are some of the causative agents of heart disorder Ischaemic heart disease targets people in developed countries according to some studies A high mortality rate is associated with the disease making it one of the leading causes of death in modernized countries This makes it a subject of interest for many medical researchers Corbin  Strauss 2008\\n\\nThe causes of ischaemic heart disease indicate that there is a significant influence of the socialcultural factors in the starting and the course of development of the disease in those people who are already affected In the following interview I sought to examine the influence of lifestyle and socialcultural factors on the health of people suffering from ischaemic heart disease\\n\\nAn indepth interview can be conducted to facilitate qualitative research of the facts and theories regarding the disease Through this kind of research one can make an objective conclusion on the situation regarding the disease Schiffrin 2001\\n\\nUse of Indepth Interview\\n\\nIn the following account of research on ischaemic heart disease the researcher conducts qualitative research and qualitative analysis of the data obtained to determine the cause of the disease An interview with an expert gives a brief but deep insight into the risk factors affecting the health of people suffering from ischaemic heart disease Kvale  Brinkmann 2009\\n\\nAs a researcher I chose to interview an experienced cardiologist to obtain an objective opinion pertaining to ischaemic heart disease The responses from the cardiologist constituted the data for my interview transcript Denzin  Lincoln 2005\\n\\nIn my research the cardiologist first mentioned that the disease is one of the leading causes of death in western countries In this case most western countries are developed countries The disease is one of the many cardiac ailments that result in fatal cardiac action complications About sixty percent of males who succumb from cardiac ailments suffer from ischaemic heart disease The expert further explains that the occurrence of death due to this disease in the female population is slightly lesser but still high at forty eight percent He says that according to this high rate of mortality there is a reason to consider risk factors that people suffering from the disease face Anderson 1973\\n\\nThe Use of Qualitative Research\\n\\nQualitative research examines what certain practice or behavior results to The qualitative approach gives the researchers a deep understanding of what is likely to happen is a certain procedure or practice is embraced by an individual or a group of individuals When conducting a qualitative research data is obtained from a specific preferred source particularly due to the suitability of the particular source as a source of data Patton 2002 In case of a study regarding a disease the study is likely to involve either a patient or an expert in the particular branch of medicine in which the disease lies In this particular study the research involves a cardiac ailment\\n\\nThe researcher seeks to understand the cause of a disease which does not have any one particular cause Flick 1998 Since the development of the disease involves many factors which together contribute to the development of the disease a qualitative research may be necessary ascertain the degree of influence of the disease on the health of the affected people Since the research to be done on the disease is a qualitative research  it is then necessary to seek information from a qualified source so as to be able to obtain relevant information rather than get too much of irrelevant information from random sources\\n\\nQualitative research may use several methods to obtain data Methods such as field studies observation of the phenomena in question and ethnography may be used to obtain the relevant data This particular study involves the opinion of a particular expert in the field Although the data is examined objectively the study involves a single source due to the position of authority of the source regarding the particular disease\\n\\nIndepth interview was used for this particular study This involved direct questions to the interviewee seeking a brief answer which deeply examines the risk factors behind the disease Due to the selection of a single interviewee prior to the study the research lacks randomisation a phenomenon found in many other methods of research In the inquiry regarding this disease the researcher will focus on the phenomenology regarding the development of the disease The data collected from the correspondent in the interview will be closely examined to determine the degree of influence of various factors on the course of development of the cardiac condition\\n\\nThematic Analysis\\n\\nThematic analysis of data collected in a research project is used to categorically analyse data in the various contexts This method is used to determine if any patterns can be discerned in the data collected The researcher does not have to have a prior knowledge of the field in he or she is working in Wolcott 2009 This is a major difference compared to the positivist approach that requires one to have a predetermined expectation of the experiment or research project\\n\\nWhile thematic analysis is an idealistic approach where the outcome of the research is largely unknown the experimental approach is a realist method that seeks to affirm a known possibility This is an advantage to the researcher using qualitative analysis since no prior knowledge of the field is required Thematic analysis is an important approach in qualitative research Brown  Yule 1983\\n\\nExamination of the Data\\n\\nIn this analysis the researcher has to examine the data collected carefully and identify the patterns that can be used to classify the data into categories These categories can also be referred to as the themes that have been discerned in the data by the user The themes are then used to make a conclusion at the end of the research It is these themes that are used to make a purposeful documentation of the conclusion Moreover the themes validate the conclusion of the researcher adding to the existing body of knowledge in the particular field The conclusion of the thematic analysis is the part where the themes are validated using the data collected by the researcher Boyatzis 1998\\n\\nIn the particular research regarding the ischaemic heart disease the researcher examines the possibility of a pattern existing in the risk factors that lead to the development of the disease These patterns were then used to determine the general behaviour that would present most of the patterns to a significant degree This can then be used to identify the general behaviour that leads to the worsening or improvement of the condition people suffering from the particular disease\\n\\nFinal Deduction\\n\\nIn the analysis of the data collected from the respondent the content of the data collected from the interview will be analysed objectively to yield an independent conclusion on the risk factors that affect the development of the heart ailment and the conditions that may worsen the situation Khan 2006\\n\\nInterview Transcript\\n\\nAccording to my interview with the cardiologist ischaemic heart disease presents obvious symptoms that indicate the presence of a defect of the cardiac system An otherwise healthy person starts to show signs of physical stress on being subjected to mild physical strain The strain considered in this case is physical exhaustion of the patient Bourgeault et al 2010 Chest pains particularly to the left of the chest cavity may indicate a developing heart condition The symptoms may present in a mild manner initially but may progress into serious and uncomfortable cardiac condition Gillinov  Nissen 2012\\n\\nThis is can be evidenced by the perspective of my correspondent “Ischaemic heart disease presents itself in a manner that suggest that there is an obvious defect of the heart Many heart diseases result to chest pain in their advanced stages The patient will normally experience abnormal exhaustion after a mild physical strain Although this may not prompt a certain diagnosis with the disease it indicates that there are high chances that the symptoms are a result of the ischaemic heart disease\\n\\nThe doctor pointed out that the physical condition behind the symptoms of the disease is primarily the obstruction of the coronary artery such that the blood supply to the cardiac tissue is impaired Progressively this leads to weakening of the heart muscles and may result to permanent damage to the heart if a corrective measure is not undertaken “A cardiac arrest is the final stage of the disease if the condition is left unattended or the patient is poorly monitored”\\n\\nThemes Developed\\n\\nEffect of Dietary patterns\\n\\n“In some people fatty diets result in excess cholesterol in the blood Some proteins also result to high blood cholesterol in some individuals Blood cholesterol is linked to the genome of a particular person This is because the enzymes that break down this substance are produced in different levels depending on each individual’s gene composition A person who ingests high cholesterol food products risks the development of atherosclerosis Khan 2006\\n\\nThis is a condition where fat deposits on the walls of blood vessels over a long period of time “The doctor notes that the deposit of fat in the vessels takes time so one may not notice the changing composition of diet in one’s life “Eventual blockage of the coronary artery results in a heart failure or an acute impairment of the heart’s activities” This situation worsens the condition of people suffering from ischaemic heart disease Naff 2008\\n\\nSmoking\\n\\n“Smoking is widespread among majority of cultures around the world Although it seems harmless due to its slow action smoking severely affects the heart muscles and the arteries supplying blood to the heart” This is due to the presence of the substance nicotine in the inhaled contents of the smoke Fox 1987 “A small amount of nicotine has the effect of hardening the blood vessels Significant narrowing of the vessels is also seen in the individuals who smoke regularly This habit combined with other factors may result in a worsening heart condition in people suffering from ischaemic heart disease The condition worsens with stress build up and high blood pressure” People who do not smoke have a better chance of fighting against the ailment\\n\\nLack of Enough Exercise\\n\\nThis is another risk that affects people with ischaemic heart disease “Exercise plays an important role in ensuring that the composition of blood stays balanced People who lack exercise have high fat and cholesterol levels in their blood In western cultures where daily strain at work takes all time it is usually difficult for the working class to develop an exercising habit A person with ischaemic heart disease who keeps on working without any exercise is likely to worsen the condition Chances of survival of such people are also slim” Accumulation of fat and cholesterol in the bloodstream could easily initiate a cardiac arrest in a patient suffering from ischaemic heart disease\\n\\nCultural Behaviours\\n\\n“Health behaviours of people suffering from ischaemic heart disease Different cultures may influence people in a manner that affects their health In some cultures women suffering from ischaemic heart disease may act in a way as to control the disease even without their consciousness of their actions” Lower stress levels among the female population put women at an advantage in the control of the disease Falk et al 2010 In other societies the role of certain people or age group may put pressure on an ischaemic heart disease patient “Since the disease is worsened by an adverse psychological situation more responsibilities an individual has in a community the more serious the condition of the person suffering from ischaemic heart disease becomes This is due to increased blood pressure If the blood pressure goes beyond the normal then the results may be fatal”\\n\\nThematic Analysis of the Interview Transcript\\n\\nThe quotations above constitute the answers given by the doctor regarding the risk factors that lead to development of ischaemic heart disease It is clear that the disease does not have a definite cause In addition the disease is affected by several behavioural factors in its development\\n\\nA single phenomenon is supported by most of the themes regarding the disease Factors that lead to accumulation of fat deposits in the blood vessels lead to worse conditions in people suffering from ischaemic heart disease Particularly inadequate exercise and poor diet have a similar effect of allowing cholesterol and fat to accumulate in the vessels Both practices lead to development of antheroma This suggests that any behaviour or diet that results in a high cholesterol and fat content in the blood affects people suffering from ischaemic\\n\\nAnother pattern seen in the evidence from the doctor’s speech is the high blood pressure Smoking which results in narrowing of the vessels and eventually an abnormally high blood pressure worsens the condition of the patient with the ischaemic heart disease On the other hand cultural roles of a member of a community are also another factor affecting the course of development of the disease in a person who is already living with the disease High stress levels lead to increase in blood pressure in any human being In turn the high blood pressure puts strain on the heart A person with ischaemic heart disease is likely to have more complications due to high blood pressure Any factor that increases blood pressure of an individual with ischaemic heart disease results in a worsening condition Creswell  Creswell 2009\\n\\nConclusion\\n\\nThe themes analysed indicate that the risk factors that are featured in the doctor’s speech have an underlying common effect The two distinctive common effects of the risk factors are increased blood pressure beyond normal range and change in composition of the blood to include a high fat and cholesterol content\\n\\nAlthough the risk factors are distinctive they seem to converge to a single conclusion Any behaviour or cultural factor that leads to abnormal rise in blood pressure or causes high blood cholesterol levels affects people with ischaemic heart disease negatively\\n\\nHowever some factors have a significantly higher effect on the possibility of the disease developing in a particular patient The explanations of the doctor point out to the practices that are necessary to avoid advancement of the disease Some of the factors affecting the development of the disease have been given special attention by the cardiologist Smith 1992\\n\\nIt is evident that the lifestyle of an individual is the major determinant of the presence of risk factors Smoking and hypertension are all closely associated with the lifestyle of an individual Shneidman 1951 Although age is a risk factor it is not controllable at the moment This is supported by the fact that the doctor does not mention anything to do with a solution to the age factor Johnstone 2002 All the other three factors are controllable through a change of life style\\n\\nReferences\\n\\nAnderson C R 1973 Heart attack  Nashville Tenn Southern Pub Association\\n\\nBourgeault I L Dingwall R  Vries R G 2010 The SAGE handbook of qualitative methods in health research  Los Angeles SAGE\\n\\nBoyatzis R E 1998 Transforming qualitative information thematic analysis and code development  Thousand Oaks CA Sage Publications\\n\\nBrown G  Yule G 1983 Thematic analysis  Cambridge Cambridge University Press\\n\\nCorbin J M  Strauss A L 2008 Basics of qualitative research techniques and procedures for developing grounded theory 3rd ed Los Angeles Calif Sage Publications\\n\\nCreswell J W  Creswell J W 2009 Research design qualitative quantitative and mixed methods approaches 3rd ed Los Angeles Sage\\n\\nDenzin N K  Lincoln Y S 2005 The SAGE handbook of qualitative research 3rd ed Thousand Oaks Sage Publications\\n\\nFalk E Shah P K  Feyter P 2010 Ischaemic Heart Disease  London Manson Pub\\n\\nFlick U 1998 An introduction to qualitative research  London Sage\\n\\nFox K M 1987 Ischaemic heart disease  Lancaster England MTP Press\\n\\nGillinov M  Nissen S E 2012 Heart 411 the only guide to heart health you’ll ever need  New York Three Rivers Press\\n\\nJohnstone B 2002 Thematic analysis  Malden Mass Blackwell\\n\\nKhan M I 2006 Encyclopedia of heart diseases  Burlington MA Elsevier Academic\\n\\nKvale S  Brinkmann S 2009 InterViews learning the craft of qualitative research interviewing 2nd ed Los Angeles Sage Publications\\n\\nNaff C F 2008 Heart disease  Detroit Gale Cengage Learning\\n\\nPatton M Q 2002 Qualitative research and evaluation methods 3 ed Thousand Oaks Calif Sage Publications\\n\\nSchiffrin D Tannen D  Hamilton H E 2001 The handbook of discourse analysis  Malden Mass Blackwell Publishers\\n\\nShneidman E S 1951 Thematic test analysis  New York Grune  Stratton\\n\\nSmith C P 1992 Motivation and personality handbook of thematic content analysis  Cambridge England Cambridge University Press\\n\\nWolcott H F 2009 Writing up qualitative research 3 ed Thousand Oaks Calif SAGE Publications\\n',\n",
       " 'Oh no I dropped my ice cream cone on the ground and its ruined I feel sad and disappointed',\n",
       " 'The partsofspeech tag for the word PLEASE in this sentence is INTJ Interjection',\n",
       " 'The article provides instructions on how to disassemble and reassemble a phone including the use of Torx screwdriver heads a small flathead tool and caution when removing the battery',\n",
       " 'Running a Business of Your Own or Being Employed in a Big Corporation Essay\\n\\nWorking is an activity that human beings have to do to survive and support themselves and their families In the world today there are diverse business opportunities available for people to explore and exhaust At the same time with good educational background and experience people can get the jobs of their dream where enumeration is in terms of six figures The decision of whether to run one’s own business or to stick to formal employment depends on the individual The purpose of this paper is to compare and distinguish the differences between running a business and employment in a big corporation The main points of discussion are income freedom and control and flexibility\\n\\nThe most notable and common difference that has led to controversies in the working place is freedom It is the desire of everyone to have some sense of freedom and to be in control Working in a setup where one is employed can deny him the sense of control that they desire since being an employee means one has to be under some higher authority in the name of a boss At the same time one is tied down with the company’s policies and rules On the other hand running a business gives one control of everything that goes on in the business This means that one becomes a boss of his or her own\\n\\nComparing these two scenarios brings us to another difference of money factor Running a business is a risky affair and requires one to have considered all the factors involved before beginning Income normally varies in businesses there is no constant flow of income There are instances when business is good meaning more cash is flowing in but when business is bad one can even go at a loss Depending on the viability of the business then income can be a motivational factor to make one fully concentrate on his or her own business This is because a viable business can instantly shoot one to riches Unlike businesses employment guarantees one income at the end of a payment period which is normally on monthly basis Even upon retirement one is guaranteed a good retirement package that will benefit him or her In addition to a good salary there are accompaniments in the name of allowances that are very inviting especially with higher positions in the big companies\\n\\nThe last difference seen in these tow scenarios is one’s flexibility In running a business one is assured of flexibility in terms of time One can go to work any time they feel like and close business whenever they want and depending on the nature of business one can even work from home and make good money They do not have to undergo the hustle of traffic and stressful work place environment This is in contrast with employment as there are company rules that have to be followed to the letter For example employees might be required to arrive to work at 8 am every working day and leave work at 5 pm\\n\\nWhichever way one wants to go solely depends on their choice One can even run a business at the same time working under employment This is more recommended because once the business picks it can be easier to focus fully on the business and quit employment Business is also recommended because it creates job opportunities for others\\n']"
      ]
     },
     "execution_count": 37,
     "metadata": {},
     "output_type": "execute_result"
    }
   ],
   "source": [
    "small_train_dataset[\"Text\"]"
   ]
  },
  {
   "cell_type": "code",
   "execution_count": 38,
   "metadata": {},
   "outputs": [
    {
     "data": {
      "text/plain": [
       "[0, 0, 0, 0, 0, 0, 1, 1, 1, 0]"
      ]
     },
     "execution_count": 38,
     "metadata": {},
     "output_type": "execute_result"
    }
   ],
   "source": [
    "small_train_dataset[\"label\"]"
   ]
  },
  {
   "cell_type": "code",
   "execution_count": 10,
   "metadata": {},
   "outputs": [
    {
     "data": {
      "text/plain": [
       "DatasetDict({\n",
       "    train: Dataset({\n",
       "        features: ['Text', 'label'],\n",
       "        num_rows: 205268\n",
       "    })\n",
       "    test: Dataset({\n",
       "        features: ['Text', 'label'],\n",
       "        num_rows: 51318\n",
       "    })\n",
       "})"
      ]
     },
     "execution_count": 10,
     "metadata": {},
     "output_type": "execute_result"
    }
   ],
   "source": [
    "dataset_dict"
   ]
  },
  {
   "cell_type": "markdown",
   "metadata": {},
   "source": [
    "#### Tokenize the Datasets:"
   ]
  },
  {
   "cell_type": "code",
   "execution_count": 11,
   "metadata": {},
   "outputs": [
    {
     "name": "stderr",
     "output_type": "stream",
     "text": [
      "/opt/anaconda3/envs/Azure_end_to_end_project/lib/python3.12/site-packages/transformers/tokenization_utils_base.py:1601: FutureWarning: `clean_up_tokenization_spaces` was not set. It will be set to `True` by default. This behavior will be depracted in transformers v4.45, and will be then set to `False` by default. For more details check this issue: https://github.com/huggingface/transformers/issues/31884\n",
      "  warnings.warn(\n"
     ]
    }
   ],
   "source": [
    "from transformers import AutoTokenizer\n",
    "tokenizer = AutoTokenizer.from_pretrained(\"google-bert/bert-base-uncased\")"
   ]
  },
  {
   "cell_type": "code",
   "execution_count": 12,
   "metadata": {},
   "outputs": [],
   "source": [
    "def tokenize_function(examples):\n",
    "    return tokenizer(examples[\"Text\"], padding=\"max_length\", truncation=True)"
   ]
  },
  {
   "cell_type": "code",
   "execution_count": 13,
   "metadata": {},
   "outputs": [
    {
     "name": "stderr",
     "output_type": "stream",
     "text": [
      "Map:   0%|          | 0/10 [00:00<?, ? examples/s]"
     ]
    },
    {
     "name": "stderr",
     "output_type": "stream",
     "text": [
      "Map: 100%|██████████| 10/10 [00:00<00:00, 191.44 examples/s]\n",
      "Map: 100%|██████████| 2/2 [00:00<00:00, 133.32 examples/s]\n"
     ]
    }
   ],
   "source": [
    "tokenized_sml_trn_ds = small_train_dataset.map(tokenize_function, batched=True)\n",
    "tokenized_sml_tst_ds = small_test_dataset.map(tokenize_function, batched=True)"
   ]
  },
  {
   "cell_type": "code",
   "execution_count": 14,
   "metadata": {},
   "outputs": [
    {
     "data": {
      "text/plain": [
       "'[CLS] air france company ’ s costs and revenue structure report table of contents 1 introduction 2 direct operating costs 3 indirect airline operating costs 4 revenues 5 conclusion 6 references introduction for a long period the airline business has been categorized as ‘ lucrative ’ the notion that the airline business is lucrative is partly perpetuated by the fact that it is the most costly form of transport also the huge capital base of the airline business makes it one of the most stable types of business for instance the assets of an airline at any given time include planes hangers and cargo bays which translate into a lot of capital base for an airline consequently various airlines utilize a set of factors when they are coming up with different costs for their products and services however sources of revenue for an airline remain the most prominent determinant of cost this is also the reason why there are big disparities in costs between different airlines this report seeks to identify the factors that contribute to the cost of an airline using air france as a model besides the report describes the different sources of revenue for the airline air france af is the main airline in france and it has its headquarters in paris the airline is owned by the sky team global alliance jointly with air franceklm af ’ s business includes cargo and passengers in both france and 93 other countries around the world the airline has been in existence since 1933 as a result of a merger between several airlinebusinesses of the time currently the airline is categorized as a business leader due to the market share it commands in france and other parts of the world consequently at any given time matters to do with costing and revenue are pertinent to af as a big business af encounters significant direct and indirect operating costs which are correlated with revenue to determine appropriate costing this report utilizes the annual financial report for af to identify the factors that contribute to its costs about its various sources of revenue direct operating costs af ’ s direct operating costs constitute a wide range of factors but wages salaries and fuel dominate this category fuel costs make up the secondhighest operating costs and they reflect global patterns in the airline industry however the escalating salary costs have to do with the size of the af as a ‘ giant ’ airline af requires a higher threshold of employees for its maintenance needs for its costing needs the airline is more likely to rely on salary and wage costs because this factor is more stable than fuel prices for instance the company ’ s longterm plans are often destabilized by changes in fuel costs equipment and plant maintenance make up 9 of all direct costs at af this unexpected factor is constant and it is only expected [SEP]'"
      ]
     },
     "execution_count": 14,
     "metadata": {},
     "output_type": "execute_result"
    }
   ],
   "source": [
    "tokenizer.decode(tokenized_sml_trn_ds[\"input_ids\"][0])"
   ]
  },
  {
   "cell_type": "code",
   "execution_count": 15,
   "metadata": {},
   "outputs": [],
   "source": [
    "# [len(tokenized_sml_trn_ds[\"input_ids\"][i]) for i in range(1000)]"
   ]
  },
  {
   "cell_type": "markdown",
   "metadata": {},
   "source": [
    "### Train the Model using Native PyTorch:"
   ]
  },
  {
   "cell_type": "code",
   "execution_count": 16,
   "metadata": {},
   "outputs": [],
   "source": [
    "# Remove the columns named \"Text\" since the model won't accept the text strings.\n",
    "tokenized_sml_trn_ds = tokenized_sml_trn_ds.remove_columns([\"Text\"])\n",
    "tokenized_sml_tst_ds = tokenized_sml_tst_ds.remove_columns([\"Text\"])"
   ]
  },
  {
   "cell_type": "code",
   "execution_count": 17,
   "metadata": {},
   "outputs": [
    {
     "data": {
      "text/plain": [
       "Dataset({\n",
       "    features: ['label', 'input_ids', 'token_type_ids', 'attention_mask'],\n",
       "    num_rows: 2\n",
       "})"
      ]
     },
     "execution_count": 17,
     "metadata": {},
     "output_type": "execute_result"
    }
   ],
   "source": [
    "tokenized_sml_trn_ds\n",
    "tokenized_sml_tst_ds"
   ]
  },
  {
   "cell_type": "code",
   "execution_count": 18,
   "metadata": {},
   "outputs": [],
   "source": [
    "# Rename the column name \"label\" to \"labels\" as this is expected for the model input.\n",
    "tokenized_sml_trn_ds = tokenized_sml_trn_ds.rename_column(\"label\",\"labels\")\n",
    "tokenized_sml_tst_ds = tokenized_sml_tst_ds.rename_column(\"label\",\"labels\")"
   ]
  },
  {
   "cell_type": "code",
   "execution_count": 19,
   "metadata": {},
   "outputs": [
    {
     "data": {
      "text/plain": [
       "Dataset({\n",
       "    features: ['labels', 'input_ids', 'token_type_ids', 'attention_mask'],\n",
       "    num_rows: 10\n",
       "})"
      ]
     },
     "execution_count": 19,
     "metadata": {},
     "output_type": "execute_result"
    }
   ],
   "source": [
    "tokenized_sml_trn_ds"
   ]
  },
  {
   "cell_type": "code",
   "execution_count": 20,
   "metadata": {},
   "outputs": [
    {
     "data": {
      "text/plain": [
       "Dataset({\n",
       "    features: ['labels', 'input_ids', 'token_type_ids', 'attention_mask'],\n",
       "    num_rows: 2\n",
       "})"
      ]
     },
     "execution_count": 20,
     "metadata": {},
     "output_type": "execute_result"
    }
   ],
   "source": [
    "tokenized_sml_tst_ds"
   ]
  },
  {
   "cell_type": "markdown",
   "metadata": {},
   "source": [
    "#### Set the Data Format to Torch:"
   ]
  },
  {
   "cell_type": "code",
   "execution_count": 21,
   "metadata": {},
   "outputs": [],
   "source": [
    "tokenized_sml_trn_ds.set_format(\"torch\")\n",
    "tokenized_sml_tst_ds.set_format(\"torch\")"
   ]
  },
  {
   "cell_type": "code",
   "execution_count": 22,
   "metadata": {},
   "outputs": [
    {
     "data": {
      "text/plain": [
       "tensor([ 101, 2250, 2605, 2194, 1521])"
      ]
     },
     "execution_count": 22,
     "metadata": {},
     "output_type": "execute_result"
    }
   ],
   "source": [
    "tokenized_sml_trn_ds[\"input_ids\"][0][:5]"
   ]
  },
  {
   "cell_type": "markdown",
   "metadata": {},
   "source": [
    "#### Prepare the DataLoader:\n"
   ]
  },
  {
   "cell_type": "code",
   "execution_count": 23,
   "metadata": {},
   "outputs": [],
   "source": [
    "from torch.utils.data import DataLoader\n",
    "train_dataloader = DataLoader(tokenized_sml_trn_ds, shuffle=True, batch_size=8)\n",
    "eval_dataloader = DataLoader(tokenized_sml_tst_ds, shuffle=True, batch_size=8)"
   ]
  },
  {
   "cell_type": "code",
   "execution_count": 24,
   "metadata": {},
   "outputs": [
    {
     "name": "stderr",
     "output_type": "stream",
     "text": [
      "A parameter name that contains `beta` will be renamed internally to `bias`. Please use a different name to suppress this warning.\n",
      "A parameter name that contains `gamma` will be renamed internally to `weight`. Please use a different name to suppress this warning.\n",
      "A parameter name that contains `beta` will be renamed internally to `bias`. Please use a different name to suppress this warning.\n",
      "A parameter name that contains `gamma` will be renamed internally to `weight`. Please use a different name to suppress this warning.\n",
      "A parameter name that contains `beta` will be renamed internally to `bias`. Please use a different name to suppress this warning.\n",
      "A parameter name that contains `gamma` will be renamed internally to `weight`. Please use a different name to suppress this warning.\n",
      "A parameter name that contains `beta` will be renamed internally to `bias`. Please use a different name to suppress this warning.\n",
      "A parameter name that contains `gamma` will be renamed internally to `weight`. Please use a different name to suppress this warning.\n",
      "A parameter name that contains `beta` will be renamed internally to `bias`. Please use a different name to suppress this warning.\n",
      "A parameter name that contains `gamma` will be renamed internally to `weight`. Please use a different name to suppress this warning.\n",
      "A parameter name that contains `beta` will be renamed internally to `bias`. Please use a different name to suppress this warning.\n",
      "A parameter name that contains `gamma` will be renamed internally to `weight`. Please use a different name to suppress this warning.\n",
      "A parameter name that contains `beta` will be renamed internally to `bias`. Please use a different name to suppress this warning.\n",
      "A parameter name that contains `gamma` will be renamed internally to `weight`. Please use a different name to suppress this warning.\n",
      "A parameter name that contains `beta` will be renamed internally to `bias`. Please use a different name to suppress this warning.\n",
      "A parameter name that contains `gamma` will be renamed internally to `weight`. Please use a different name to suppress this warning.\n",
      "A parameter name that contains `beta` will be renamed internally to `bias`. Please use a different name to suppress this warning.\n",
      "A parameter name that contains `gamma` will be renamed internally to `weight`. Please use a different name to suppress this warning.\n",
      "A parameter name that contains `beta` will be renamed internally to `bias`. Please use a different name to suppress this warning.\n",
      "A parameter name that contains `gamma` will be renamed internally to `weight`. Please use a different name to suppress this warning.\n",
      "A parameter name that contains `beta` will be renamed internally to `bias`. Please use a different name to suppress this warning.\n",
      "A parameter name that contains `gamma` will be renamed internally to `weight`. Please use a different name to suppress this warning.\n",
      "A parameter name that contains `beta` will be renamed internally to `bias`. Please use a different name to suppress this warning.\n",
      "A parameter name that contains `gamma` will be renamed internally to `weight`. Please use a different name to suppress this warning.\n",
      "A parameter name that contains `beta` will be renamed internally to `bias`. Please use a different name to suppress this warning.\n",
      "A parameter name that contains `gamma` will be renamed internally to `weight`. Please use a different name to suppress this warning.\n",
      "A parameter name that contains `beta` will be renamed internally to `bias`. Please use a different name to suppress this warning.\n",
      "A parameter name that contains `gamma` will be renamed internally to `weight`. Please use a different name to suppress this warning.\n",
      "A parameter name that contains `beta` will be renamed internally to `bias`. Please use a different name to suppress this warning.\n",
      "A parameter name that contains `gamma` will be renamed internally to `weight`. Please use a different name to suppress this warning.\n",
      "A parameter name that contains `beta` will be renamed internally to `bias`. Please use a different name to suppress this warning.\n",
      "A parameter name that contains `gamma` will be renamed internally to `weight`. Please use a different name to suppress this warning.\n",
      "A parameter name that contains `beta` will be renamed internally to `bias`. Please use a different name to suppress this warning.\n",
      "A parameter name that contains `gamma` will be renamed internally to `weight`. Please use a different name to suppress this warning.\n",
      "A parameter name that contains `beta` will be renamed internally to `bias`. Please use a different name to suppress this warning.\n",
      "A parameter name that contains `gamma` will be renamed internally to `weight`. Please use a different name to suppress this warning.\n",
      "A parameter name that contains `beta` will be renamed internally to `bias`. Please use a different name to suppress this warning.\n",
      "A parameter name that contains `gamma` will be renamed internally to `weight`. Please use a different name to suppress this warning.\n",
      "A parameter name that contains `beta` will be renamed internally to `bias`. Please use a different name to suppress this warning.\n",
      "A parameter name that contains `gamma` will be renamed internally to `weight`. Please use a different name to suppress this warning.\n",
      "A parameter name that contains `beta` will be renamed internally to `bias`. Please use a different name to suppress this warning.\n",
      "A parameter name that contains `gamma` will be renamed internally to `weight`. Please use a different name to suppress this warning.\n",
      "A parameter name that contains `beta` will be renamed internally to `bias`. Please use a different name to suppress this warning.\n",
      "A parameter name that contains `gamma` will be renamed internally to `weight`. Please use a different name to suppress this warning.\n",
      "A parameter name that contains `beta` will be renamed internally to `bias`. Please use a different name to suppress this warning.\n",
      "A parameter name that contains `gamma` will be renamed internally to `weight`. Please use a different name to suppress this warning.\n",
      "A parameter name that contains `beta` will be renamed internally to `bias`. Please use a different name to suppress this warning.\n",
      "A parameter name that contains `gamma` will be renamed internally to `weight`. Please use a different name to suppress this warning.\n",
      "A parameter name that contains `beta` will be renamed internally to `bias`. Please use a different name to suppress this warning.\n",
      "A parameter name that contains `gamma` will be renamed internally to `weight`. Please use a different name to suppress this warning.\n",
      "A parameter name that contains `beta` will be renamed internally to `bias`. Please use a different name to suppress this warning.\n",
      "A parameter name that contains `gamma` will be renamed internally to `weight`. Please use a different name to suppress this warning.\n",
      "Some weights of BertForSequenceClassification were not initialized from the model checkpoint at google-bert/bert-base-uncased and are newly initialized: ['classifier.bias', 'classifier.weight']\n",
      "You should probably TRAIN this model on a down-stream task to be able to use it for predictions and inference.\n"
     ]
    }
   ],
   "source": [
    "from transformers import AutoModelForSequenceClassification\n",
    "model = AutoModelForSequenceClassification.from_pretrained(\"google-bert/bert-base-uncased\", num_labels=2)"
   ]
  },
  {
   "cell_type": "code",
   "execution_count": 25,
   "metadata": {},
   "outputs": [],
   "source": [
    "from torch.optim import AdamW\n",
    "optimizer = AdamW(model.parameters(), lr=5e-5)"
   ]
  },
  {
   "cell_type": "code",
   "execution_count": 26,
   "metadata": {},
   "outputs": [],
   "source": [
    "from transformers import get_scheduler\n",
    "num_epochs = 1\n",
    "num_training_steps = num_epochs * len(train_dataloader)\n",
    "lr_scheduler = get_scheduler(\n",
    "    name=\"linear\", optimizer=optimizer, num_warmup_steps=0, num_training_steps=num_training_steps)"
   ]
  },
  {
   "cell_type": "code",
   "execution_count": 27,
   "metadata": {},
   "outputs": [
    {
     "data": {
      "text/plain": [
       "BertForSequenceClassification(\n",
       "  (bert): BertModel(\n",
       "    (embeddings): BertEmbeddings(\n",
       "      (word_embeddings): Embedding(30522, 768, padding_idx=0)\n",
       "      (position_embeddings): Embedding(512, 768)\n",
       "      (token_type_embeddings): Embedding(2, 768)\n",
       "      (LayerNorm): LayerNorm((768,), eps=1e-12, elementwise_affine=True)\n",
       "      (dropout): Dropout(p=0.1, inplace=False)\n",
       "    )\n",
       "    (encoder): BertEncoder(\n",
       "      (layer): ModuleList(\n",
       "        (0-11): 12 x BertLayer(\n",
       "          (attention): BertAttention(\n",
       "            (self): BertSdpaSelfAttention(\n",
       "              (query): Linear(in_features=768, out_features=768, bias=True)\n",
       "              (key): Linear(in_features=768, out_features=768, bias=True)\n",
       "              (value): Linear(in_features=768, out_features=768, bias=True)\n",
       "              (dropout): Dropout(p=0.1, inplace=False)\n",
       "            )\n",
       "            (output): BertSelfOutput(\n",
       "              (dense): Linear(in_features=768, out_features=768, bias=True)\n",
       "              (LayerNorm): LayerNorm((768,), eps=1e-12, elementwise_affine=True)\n",
       "              (dropout): Dropout(p=0.1, inplace=False)\n",
       "            )\n",
       "          )\n",
       "          (intermediate): BertIntermediate(\n",
       "            (dense): Linear(in_features=768, out_features=3072, bias=True)\n",
       "            (intermediate_act_fn): GELUActivation()\n",
       "          )\n",
       "          (output): BertOutput(\n",
       "            (dense): Linear(in_features=3072, out_features=768, bias=True)\n",
       "            (LayerNorm): LayerNorm((768,), eps=1e-12, elementwise_affine=True)\n",
       "            (dropout): Dropout(p=0.1, inplace=False)\n",
       "          )\n",
       "        )\n",
       "      )\n",
       "    )\n",
       "    (pooler): BertPooler(\n",
       "      (dense): Linear(in_features=768, out_features=768, bias=True)\n",
       "      (activation): Tanh()\n",
       "    )\n",
       "  )\n",
       "  (dropout): Dropout(p=0.1, inplace=False)\n",
       "  (classifier): Linear(in_features=768, out_features=2, bias=True)\n",
       ")"
      ]
     },
     "execution_count": 27,
     "metadata": {},
     "output_type": "execute_result"
    }
   ],
   "source": [
    "device = torch.device(\"cuda\") if torch.cuda.is_available() else torch.device(\"cpu\")\n",
    "model.to(device)"
   ]
  },
  {
   "cell_type": "markdown",
   "metadata": {},
   "source": [
    "#### Training Loop:"
   ]
  },
  {
   "cell_type": "code",
   "execution_count": 28,
   "metadata": {},
   "outputs": [
    {
     "name": "stderr",
     "output_type": "stream",
     "text": [
      "100%|██████████| 2/2 [00:06<00:00,  2.93s/it]"
     ]
    }
   ],
   "source": [
    "from tqdm.auto import tqdm\n",
    "progress_bar = tqdm(range(num_training_steps))\n",
    "model.train()\n",
    "count = 0\n",
    "for epoch in range(num_epochs): \n",
    "    for batch in train_dataloader:\n",
    "        count += 1\n",
    "        batch = {k: v.to(device) for k, v in batch.items()}\n",
    "        # if epoch == 0 and count == 1:\n",
    "        #     print(\"batch: \", batch)  \n",
    "            # break\n",
    "        # import pdb; pdb.set_trace() \n",
    "        outputs = model(**batch)\n",
    "        loss = outputs.loss\n",
    "        loss.backward()\n",
    "        optimizer.step()\n",
    "        lr_scheduler.step()\n",
    "        optimizer.zero_grad()\n",
    "        progress_bar.update(1)"
   ]
  },
  {
   "cell_type": "code",
   "execution_count": 29,
   "metadata": {},
   "outputs": [
    {
     "data": {
      "text/plain": [
       "torch.Size([2, 512])"
      ]
     },
     "execution_count": 29,
     "metadata": {},
     "output_type": "execute_result"
    }
   ],
   "source": [
    "batch['token_type_ids'].size()"
   ]
  },
  {
   "cell_type": "code",
   "execution_count": 30,
   "metadata": {},
   "outputs": [
    {
     "name": "stdout",
     "output_type": "stream",
     "text": [
      "key: labels\n",
      "key: input_ids\n",
      "key: token_type_ids\n",
      "key: attention_mask\n"
     ]
    }
   ],
   "source": [
    "for key in batch.keys():\n",
    "    print(\"key:\", key) "
   ]
  },
  {
   "cell_type": "markdown",
   "metadata": {},
   "source": [
    "### Evaluation Phase:"
   ]
  },
  {
   "cell_type": "code",
   "execution_count": 31,
   "metadata": {},
   "outputs": [
    {
     "data": {
      "text/plain": [
       "{'accuracy': 0.5}"
      ]
     },
     "execution_count": 31,
     "metadata": {},
     "output_type": "execute_result"
    }
   ],
   "source": [
    "import evaluate\n",
    "\n",
    "metric = evaluate.load(\"accuracy\")\n",
    "model.eval()\n",
    "for batch in eval_dataloader:\n",
    "    batch = {k: v.to(device) for k, v in batch.items()}\n",
    "    with torch.no_grad():\n",
    "        outputs = model(**batch)\n",
    "\n",
    "    logits = outputs.logits\n",
    "    predictions = torch.argmax(logits, dim=-1)\n",
    "    metric.add_batch(predictions=predictions, references=batch[\"labels\"])\n",
    "\n",
    "metric.compute()"
   ]
  },
  {
   "cell_type": "code",
   "execution_count": 32,
   "metadata": {},
   "outputs": [
    {
     "data": {
      "text/plain": [
       "tensor([[ 0.2564, -0.2105],\n",
       "        [ 0.9349, -0.1783]])"
      ]
     },
     "execution_count": 32,
     "metadata": {},
     "output_type": "execute_result"
    }
   ],
   "source": [
    "logits"
   ]
  },
  {
   "cell_type": "code",
   "execution_count": 33,
   "metadata": {},
   "outputs": [
    {
     "data": {
      "text/plain": [
       "tensor([0, 0])"
      ]
     },
     "execution_count": 33,
     "metadata": {},
     "output_type": "execute_result"
    }
   ],
   "source": [
    "torch.argmax(logits, dim=-1)"
   ]
  },
  {
   "cell_type": "code",
   "execution_count": 34,
   "metadata": {},
   "outputs": [
    {
     "name": "stdout",
     "output_type": "stream",
     "text": [
      "a:  tensor([[-1.2056,  0.6011, -0.0492,  0.8874,  0.6192],\n",
      "        [ 0.1468,  0.8607, -0.1618, -1.0110, -0.7793],\n",
      "        [ 1.3339, -0.4117,  0.6538, -1.8481, -0.6404],\n",
      "        [ 1.6501, -1.2440,  0.8982, -0.9876,  0.9745]])\n"
     ]
    },
    {
     "data": {
      "text/plain": [
       "tensor([3, 1, 0, 0])"
      ]
     },
     "execution_count": 34,
     "metadata": {},
     "output_type": "execute_result"
    }
   ],
   "source": [
    "a = torch.randn(4, 5)\n",
    "print(\"a: \", a)\n",
    "torch.argmax(a, dim=-1)"
   ]
  },
  {
   "cell_type": "markdown",
   "metadata": {},
   "source": [
    "### To-do: Code Verification"
   ]
  },
  {
   "cell_type": "code",
   "execution_count": 35,
   "metadata": {},
   "outputs": [
    {
     "data": {
      "text/plain": [
       "{'accuracy': 0.7}"
      ]
     },
     "execution_count": 35,
     "metadata": {},
     "output_type": "execute_result"
    }
   ],
   "source": [
    "import evaluate\n",
    "\n",
    "metric = evaluate.load(\"accuracy\")\n",
    "model.eval()\n",
    "for batch in train_dataloader:\n",
    "    batch = {k: v.to(device) for k, v in batch.items()}\n",
    "    with torch.no_grad():\n",
    "        outputs = model(**batch)\n",
    "\n",
    "    logits = outputs.logits\n",
    "    predictions = torch.argmax(logits, dim=-1)\n",
    "    metric.add_batch(predictions=predictions, references=batch[\"labels\"])\n",
    "\n",
    "metric.compute()"
   ]
  },
  {
   "cell_type": "code",
   "execution_count": null,
   "metadata": {},
   "outputs": [],
   "source": []
  }
 ],
 "metadata": {
  "kernelspec": {
   "display_name": "Azure_end_to_end_project",
   "language": "python",
   "name": "python3"
  },
  "language_info": {
   "codemirror_mode": {
    "name": "ipython",
    "version": 3
   },
   "file_extension": ".py",
   "mimetype": "text/x-python",
   "name": "python",
   "nbconvert_exporter": "python",
   "pygments_lexer": "ipython3",
   "version": "3.12.2"
  }
 },
 "nbformat": 4,
 "nbformat_minor": 2
}
