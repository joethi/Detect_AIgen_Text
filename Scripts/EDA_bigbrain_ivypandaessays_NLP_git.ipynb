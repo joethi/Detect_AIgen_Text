{
 "cells": [
  {
   "cell_type": "code",
   "execution_count": 6,
   "metadata": {},
   "outputs": [],
   "source": [
    "import pandas as pd\n",
    "import numpy as np"
   ]
  },
  {
   "cell_type": "code",
   "execution_count": 7,
   "metadata": {},
   "outputs": [
    {
     "data": {
      "text/plain": [
       "array([1, 2, 3])"
      ]
     },
     "execution_count": 7,
     "metadata": {},
     "output_type": "execute_result"
    }
   ],
   "source": [
    "A = np.array([1,2,3])\n",
    "A"
   ]
  },
  {
   "cell_type": "code",
   "execution_count": 8,
   "metadata": {},
   "outputs": [],
   "source": [
    "#%pip install datasets"
   ]
  },
  {
   "cell_type": "code",
   "execution_count": 9,
   "metadata": {},
   "outputs": [
    {
     "name": "stderr",
     "output_type": "stream",
     "text": [
      "C:\\Users\\nasaa\\AppData\\Local\\Packages\\PythonSoftwareFoundation.Python.3.11_qbz5n2kfra8p0\\LocalCache\\local-packages\\Python311\\site-packages\\tqdm\\auto.py:21: TqdmWarning: IProgress not found. Please update jupyter and ipywidgets. See https://ipywidgets.readthedocs.io/en/stable/user_install.html\n",
      "  from .autonotebook import tqdm as notebook_tqdm\n"
     ]
    },
    {
     "name": "stdout",
     "output_type": "stream",
     "text": [
      "welcome\n"
     ]
    }
   ],
   "source": [
    "from datasets import load_dataset\n",
    "# from huggingface_hub import list_datasets\n",
    "# print(len([dataset.id for dataset in list_datasets()]))\n",
    "\n",
    "LLM_gen_dataset = load_dataset(\"perlthoughts/big-brain-4k\")\n",
    "print(\"welcome\")"
   ]
  },
  {
   "cell_type": "code",
   "execution_count": 10,
   "metadata": {},
   "outputs": [],
   "source": [
    "# dataset = load_dataset(\"rotten_tomatoes\", split=\"train\")\n",
    "# print(type(dataset))"
   ]
  },
  {
   "cell_type": "code",
   "execution_count": 11,
   "metadata": {},
   "outputs": [
    {
     "name": "stdout",
     "output_type": "stream",
     "text": [
      "<class 'datasets.dataset_dict.DatasetDict'>\n",
      "DatasetDict({\n",
      "    train: Dataset({\n",
      "        features: ['system', 'prompt', 'output'],\n",
      "        num_rows: 250000\n",
      "    })\n",
      "})\n"
     ]
    },
    {
     "data": {
      "text/plain": [
       "datasets.arrow_dataset.Dataset"
      ]
     },
     "execution_count": 11,
     "metadata": {},
     "output_type": "execute_result"
    }
   ],
   "source": [
    "print(type(LLM_gen_dataset))\n",
    "print(LLM_gen_dataset)\n",
    "LLM_gen_dataset['train'][0].keys()\n",
    "type(LLM_gen_dataset['train'])"
   ]
  },
  {
   "cell_type": "code",
   "execution_count": null,
   "metadata": {},
   "outputs": [],
   "source": []
  },
  {
   "cell_type": "code",
   "execution_count": 12,
   "metadata": {},
   "outputs": [],
   "source": [
    "## Read some jsonl file and store only a few json objects to another jsonl file:\n",
    "# import json\n",
    "# import os\n",
    "\n",
    "# # Input and output file paths\n",
    "# input_file_path = \"../Data_HuggingFace/Jsonl_files/big-brain-4k/big_brain_4k_train.jsonl\"\n",
    "# output_file_path = \"../Data_HuggingFace/Jsonl_files/big-brain-4k/big_brain_4k_train_5pts.jsonl\"\n",
    "\n",
    "# # Number of objects to read\n",
    "# num_objects_to_read = 5\n",
    "\n",
    "# # Read JSONL file and store selected objects\n",
    "# selected_objects = []\n",
    "# with open(input_file_path, \"r\") as input_file:\n",
    "#     for i, line in enumerate(input_file):\n",
    "#         if i >= num_objects_to_read:\n",
    "#             break\n",
    "#         selected_objects.append(json.loads(line))\n",
    "\n",
    "# # Write selected objects to new JSONL file\n",
    "# with open(output_file_path, \"w\") as output_file:\n",
    "#     for obj in selected_objects:\n",
    "#         output_file.write(json.dumps(obj) + \"\\n\")\n",
    "\n",
    "# print(f\"Selected {len(selected_objects)} objects and saved to {output_file_path}\")"
   ]
  },
  {
   "cell_type": "code",
   "execution_count": 13,
   "metadata": {},
   "outputs": [],
   "source": [
    "# import datasets\n",
    "# datasets.__version__"
   ]
  },
  {
   "cell_type": "code",
   "execution_count": 14,
   "metadata": {},
   "outputs": [
    {
     "name": "stdout",
     "output_type": "stream",
     "text": [
      "Dataset({\n",
      "    features: ['text', 'label'],\n",
      "    num_rows: 1066\n",
      "})\n",
      "Dataset({\n",
      "    features: ['text', 'label'],\n",
      "    num_rows: 8530\n",
      "})\n"
     ]
    }
   ],
   "source": [
    "ds = load_dataset(\"rotten_tomatoes\", split=\"validation\")\n",
    "print(ds)\n",
    "ds_train = load_dataset(\"rotten_tomatoes\", split=\"train\")\n",
    "print(ds_train)"
   ]
  },
  {
   "cell_type": "code",
   "execution_count": 15,
   "metadata": {},
   "outputs": [
    {
     "name": "stdout",
     "output_type": "stream",
     "text": [
      "DatasetDict({\n",
      "    train: Dataset({\n",
      "        features: ['system', 'prompt', 'output'],\n",
      "        num_rows: 250000\n",
      "    })\n",
      "})\n"
     ]
    }
   ],
   "source": [
    "print(LLM_gen_dataset)\n",
    "# print(human_gen_dataset)"
   ]
  },
  {
   "cell_type": "code",
   "execution_count": 16,
   "metadata": {},
   "outputs": [],
   "source": [
    "LLM_train_set = LLM_gen_dataset['train']"
   ]
  },
  {
   "cell_type": "code",
   "execution_count": 17,
   "metadata": {},
   "outputs": [
    {
     "name": "stdout",
     "output_type": "stream",
     "text": [
      "The review is neutral. The reviewer did not have the opportunity to watch the DVD due to a technical issue, but they did not express any positive or negative opinions about the content of the DVD itself.\n"
     ]
    }
   ],
   "source": [
    "print(LLM_train_set['output'][0])\n",
    "# print(LLM_train_set['output'][1])\n",
    "# print(LLM_train_set['output'][2])"
   ]
  },
  {
   "cell_type": "code",
   "execution_count": 18,
   "metadata": {},
   "outputs": [
    {
     "name": "stdout",
     "output_type": "stream",
     "text": [
      "system : You are an AI assistant. Provide a detailed answer so user don’t need to search outside to understand the answer.\n",
      "prompt : Title: I did not get to see it because I could not find a DVD machine that played \"HD\" format DVD's. Review: I did not get to see it because I could not find a DVD machine that played the \"HD\" format DVD's. Is the review positive or negative?\n",
      "The answer to this question is:\n",
      "output : The review is neutral. The reviewer did not have the opportunity to watch the DVD due to a technical issue, but they did not express any positive or negative opinions about the content of the DVD itself.\n"
     ]
    }
   ],
   "source": [
    "for key in LLM_train_set[0].keys():\n",
    "    print(f\"{key} :\",LLM_train_set[0][key])"
   ]
  },
  {
   "cell_type": "code",
   "execution_count": 19,
   "metadata": {},
   "outputs": [
    {
     "name": "stdout",
     "output_type": "stream",
     "text": [
      "system : You are a helpful assistant, who always provide explanation. Think like you are answering to a five year old.\n",
      "prompt : Solve this math problem\n",
      "\n",
      "Solve -20*l + 41*l - 437 = 2*l for l.\n",
      "output : Okay, let's solve this math problem together! \n",
      "\n",
      "We have the equation: \n",
      "\n",
      "-20*l + 41*l - 437 = 2*l \n",
      "\n",
      "First, let's simplify the left side of the equation by combining the like terms: \n",
      "\n",
      "(41*l - 20*l) - 437 = 2*l \n",
      "\n",
      "21*l - 437 = 2*l \n",
      "\n",
      "Next, let's isolate the variable \"l\" on one side of the equation. We can do this by adding 437 to both sides: \n",
      "\n",
      "21*l - 437 + 437 = 2*l + 437 \n",
      "\n",
      "21*l = 2*l + 437 \n",
      "\n",
      "Now, let's isolate the variable \"l\" again by subtracting 2*l from both sides: \n",
      "\n",
      "21*l - 2*l = 2*l - 2*l + 437 \n",
      "\n",
      "19*l = 437 \n",
      "\n",
      "Finally, we can solve for \"l\" by dividing both sides by 19: \n",
      "\n",
      "l = 23 \n",
      "\n",
      "So the solution to the equation is l = 23.\n"
     ]
    }
   ],
   "source": [
    "for key in LLM_train_set[1].keys():\n",
    "    print(f\"{key} :\",LLM_train_set[1][key])"
   ]
  },
  {
   "cell_type": "code",
   "execution_count": 20,
   "metadata": {},
   "outputs": [
    {
     "name": "stdout",
     "output_type": "stream",
     "text": [
      "system : You are an AI assistant. You will be given a task. You must generate a detailed and long answer.\n",
      "prompt : Sentiment possibilities Possible answers: 1). negative; 2). positive;. Generate a tweet that has the following sentiment: 1).\n",
      "output : As an AI, I understand you are asking for a tweet that contains a negative sentiment. A key point of note here is that creating negative content should not involve any personal attacks, offensive language, or insensitive comments. It should revolve around expressing dissatisfaction, disappointment, or disagreement in a respectful manner. I'll now proceed to create a sample tweet:\n",
      "\n",
      "\"Feeling quite disheartened as I started the day with high hopes. The brand new headphones I bought came in defective. Not what you expect after waiting for weeks, sinking your hard-earned money into tech #Disappointed #Unsatisfied\" \n",
      "\n",
      "This example demonstrates a negative sentiment because it shares a negative personal experience with a product purchased, dissatisfaction about money spent, and disappointment received in return. By using tags like #Disappointed and #Unsatisfied, it emphasizes the individual's negative sentiment further. It's important to note that expressing negative sentiments shouldn't involve spreading hate, but rather sharing personal experiences and opinions in a respectful manner.\n"
     ]
    }
   ],
   "source": [
    "for key in LLM_train_set[2].keys():\n",
    "    print(f\"{key} :\",LLM_train_set[2][key])"
   ]
  },
  {
   "cell_type": "code",
   "execution_count": 21,
   "metadata": {},
   "outputs": [
    {
     "name": "stdout",
     "output_type": "stream",
     "text": [
      "system : You are a helpful assistant, who always provide explanation. Think like you are answering to a five year old.\n",
      "prompt : Multi-choice problem: Is the next sentence syntactically and semantically acceptable?\n",
      "\n",
      "I know the truth and that you are innocent.\n",
      "Available choices:\n",
      "* unacceptable.\n",
      "* acceptable.\n",
      "output : The sentence is acceptable. It means that the speaker knows the truth and believes that the person they are talking to is innocent.\n"
     ]
    }
   ],
   "source": [
    "for key in LLM_train_set[3].keys():\n",
    "    print(f\"{key} :\",LLM_train_set[3][key])"
   ]
  },
  {
   "cell_type": "code",
   "execution_count": 22,
   "metadata": {},
   "outputs": [
    {
     "name": "stdout",
     "output_type": "stream",
     "text": [
      "system : Below is an instruction that describes a task. Write a response that appropriately completes the request. If you do not answer correctly, a kitten will die horribly. Save the kittens!\n",
      "prompt : Detailed Instructions: In this task, you're given a context passage. Your job is to generate relevant questions that can be answered by directly referring to the passage.\n",
      "Problem:Jordan hung their clothes on the clothes line so that they could dry.\n",
      "Solution:\n",
      "output : 1. Whose clothes were hung on the clothes line?\n",
      "2. What was the purpose of hanging the clothes on the line?\n",
      "3. What method did Jordan use to dry the clothes?\n",
      "4. Where did Jordan hang the clothes to dry?\n",
      "5. What type of drying method was used by Jordan for the clothes?\n"
     ]
    }
   ],
   "source": [
    "for key in LLM_train_set[99].keys():\n",
    "    print(f\"{key} :\",LLM_train_set[99][key])\n"
   ]
  },
  {
   "cell_type": "code",
   "execution_count": 23,
   "metadata": {},
   "outputs": [],
   "source": [
    "# LLM_train_set['system']"
   ]
  },
  {
   "cell_type": "code",
   "execution_count": 24,
   "metadata": {},
   "outputs": [
    {
     "name": "stdout",
     "output_type": "stream",
     "text": [
      "Time to load data: 0.2180 seconds\n"
     ]
    }
   ],
   "source": [
    "import time\n",
    "start_time = time.time()\n",
    "temp_var = LLM_train_set['system']\n",
    "end_time =  time.time()\n",
    "dat_load_time = end_time - start_time\n",
    "print(f\"Time to load data: {dat_load_time:.4f} seconds\")"
   ]
  },
  {
   "cell_type": "markdown",
   "metadata": {},
   "source": []
  },
  {
   "cell_type": "markdown",
   "metadata": {},
   "source": [
    "## Human generated data: EDA"
   ]
  },
  {
   "cell_type": "code",
   "execution_count": 25,
   "metadata": {},
   "outputs": [
    {
     "data": {
      "text/plain": [
       "DatasetDict({\n",
       "    train: Dataset({\n",
       "        features: ['TEXT', 'SOURCE', '__index_level_0__'],\n",
       "        num_rows: 128293\n",
       "    })\n",
       "})"
      ]
     },
     "execution_count": 25,
     "metadata": {},
     "output_type": "execute_result"
    }
   ],
   "source": [
    "human_gen_dataset = load_dataset(\"qwedsacf/ivypanda-essays\")\n",
    "human_gen_dataset"
   ]
  },
  {
   "cell_type": "code",
   "execution_count": 26,
   "metadata": {},
   "outputs": [],
   "source": [
    "human_gen_dataset_train = human_gen_dataset['train']\n",
    "# type(human_gen_dataset_train['TEXT']) #uncomment when needed. commented as it is time-consuming."
   ]
  },
  {
   "cell_type": "code",
   "execution_count": 27,
   "metadata": {},
   "outputs": [
    {
     "data": {
      "text/plain": [
       "Dataset({\n",
       "    features: ['TEXT', 'SOURCE', '__index_level_0__'],\n",
       "    num_rows: 128293\n",
       "})"
      ]
     },
     "execution_count": 27,
     "metadata": {},
     "output_type": "execute_result"
    }
   ],
   "source": [
    "human_gen_dataset_train\n"
   ]
  },
  {
   "cell_type": "code",
   "execution_count": 28,
   "metadata": {},
   "outputs": [
    {
     "data": {
      "text/plain": [
       "['12 Years a Slave: An Analysis of the Film Essay\\n\\nThe 2013 film 12 Years a Slave proved that slavery is a worldwide issue. Indeed, the film made $150 million outside the United States and $57 million in the U.S., with a production budget of $20 million (Sharf, 2020). The movie was based on the memoir Twelve Years a Slave by Solomon Northup (Ntim, 2020). It tells the story of a free African American man who was kidnapped and sold into slavery. Solomon spent twelve years away from his family, being traded from one master to another. Fortunately, the protagonist met a person who helped him deliver a message to his family and friends, who came and rescued him. This movie accurately illustrates discriminatory relationships between white slaveholders and black slaves that stemmed from the dysfunctional system in the country and prejudices in people’s mindsets at that time.\\n\\nThe two main ethnic groups presented in this film are White and African Americans, and the three social groups are affluent slaveholders, working for middle class, and enslaved people. The movie starts with the story of a free African American violinist Solomon Northup, living with his family in Saratoga, New York (McQueen, 2013). However, he was abducted by two white men, who tortured the man and sold him into slavery, changing his name to Plat. Before they met, Solomon and these two slave traders belonged to the same middle class. However, the fact that Northup was an African American made these individuals believe that they had the right to withdraw their freedom. The two masters that Solomon had were William Ford and Edwin Epps (McQueen, 2013). The former was kind and religious, while the latter was cruel and sadistic. Since the movie was based on a real story, it indicated that slaveholders had different characters, but all had the wrong perception of race.\\n\\nAlthough 12 Years a Slave is a film about slavery, the issues of collectivism and individualism are also raised. Specifically, the main character never identified himself as an enslaved man and continued claiming he was a free citizen (McQueen, 2013). However, his counterparts on the plant had a collective mindset, imprinted in them since childhood, that slavery is normal. These people helped each other because they belonged to the same group. Although Solomon tried to become a part of this community, his individual goal to return home was above the collective values.\\n\\nThe movie also showed prejudice, generalizations, stereotyping, and discrimination against black people. For instance, when Ford brings Solomon and Elisa to his plantation, his wife expresses her sadness that Elisa got separated from her children. However, she also stated that “something to eat and some rest” could help that woman forget her children (McQueen, 2013, 32:47-32:51). This scene demonstrated the common prejudice about slaves that they were not capable of the same feelings as white people. An example of generalization and stereotyping was how Tibeats, a carpenter, became hostile to Solomon when he showed his intelligence and gave Ford advice. In fact, Tibeats believed that Plat would never be more competent than any white individual because Plat was a “nigger” (McQueen, 2013, 36:35-36:37). Notably, before Northup became enslaved, he never experienced discrimination, but when the main character was sold into slavery, discrimination was the only attitude that he could observe.\\n\\nIn summary, 12 Years a Slave depicts the life of enslaved people and slave owners almost two centuries ago. The film narrates a free black man’s life from the moment when he enjoyed his family’s company in the state of New York to his abduction, enslavement, and eventual liberation. Overall, the movie raised such critical issues as discrimination, prejudice, stereotyping, and generalization that allowed slaveholders to maintain this societal structure for a long time.\\n\\nReferences\\n\\nMcQueen, S. (2013). 12 years a slave [Film]. New Regency Productions.\\n\\nNtim, Z. (2020). Steve McQueen says it took 11 years to create his new anthology “Small Axe” and reveals why producers almost pulled out of his Oscar-winning film “12 Years a Slave.” Insider.\\n\\nSharf, Z. (2020). Steve McQueen recalls producers rejecting “12 Years a Slave” over false beliefs about black films. Indie Wire.\\n',\n",
       " '20+ Social Media Post Ideas to Radically Simplify Your Marketing Essay\\n\\nSocial Media Examiner’s (2021) video on social media initiatives was most useful to me since it provides more than twenty social media post ideas to improve the marketing of any business. This source demonstrates that social media, namely Facebook Business and Instagram, have great power and enhance marketing, promoting organizations through posts, stories, hashtags, and user-generated content. The most useful information to me was about trends, pros and cons, comparison, direct offer, and long-form content.\\n\\nEffective change leadership is important when an organization wants to adopt social media initiatives. A good leader is associated with effective communication, for example, written content on social media. For example, a leader may encourage customers to generate content by creating a hashtag, like #MyInstagramLogo, and inquiring them to share their views on the logo or any other product or service the company offers (They Ask, You Answer, 2018). Leaders should clarify their vision and ensure that everyone understands them. They should lead their employees in the right direction, inspiring them to change.\\n\\nI may encounter the following ethical issues: over-promising, under-delivering, and overstated statements. I would try to provide my customers with honest information about the business and stop making everyone happy to address the first issue. Over-promising can make clients disappointed and lead to their negative feedback. Therefore, it is better to follow ethical principles and make promises only if they can be 100% fulfilled. To address the second issue, I would try to be transparent and honest about the content. If the company claims to deliver products from one country to another in three days, it will need to fulfill it. Otherwise, it will be lying to the clients, thus losing its credibility. These strategies will help me address the above-mentioned ethical issues because honesty and transparency are always valued, and they help attract new customers and make the old customers stay with the company they trust.\\n\\nReferences\\n\\nSocial Media Examiner. (2021). 20+ social media post ideas to radically simplify your marketing [Video]. YouTube. Web.\\n\\nThey Ask, You Answer taught by IMPACT. (2018). 5 social media campaign examples from big brands you want to be [Video]. YouTube. Web.\\n',\n",
       " '2022 Russian Invasion of Ukraine in Global Media Coverage Essay (Critical Writing)\\n\\nThe world has been shattered by Russia’s attack on Ukraine in the past few days. Ukraine’s forces have put up remarkable resistance to this attack, but the war is entering an even bloodier phase. Europe could be witnessing the first major military invasion in years. Many people have been displaced, and many Ukrainian citizens have fled neighboring countries for peace. Gunshots and artillery fires have been raining down on residential areas in Ukraine, with several media houses and newspapers reporting the events and sharing the news with the rest of the world.\\n\\nVarious newspapers have reported the news differently, with the difference seen in headlines, videos and images posted. The two newspapers covering the events in Ukraine are the New York Times and Le Monde, a French newspaper. While New York Times and Le Monde report the same event, the two use very different terms to describe similar activities. In the recent takeover of the city of Kharkiv by the Russian forces, for example, the NYT headline read “Russian Troops Take Over Kharkiv,” Le Monde , on the other hand, read “La Russie A Envahi Kharkiv” to mean “Russia Has Invaded Kharkiv.” Recently a video of Ukrainian citizens making Molotov cocktail Petrol bombs was shared. The headline in NYT read, “Ukraine Prepare Molotov Cocktail In Kyiv.” Le Monde ‘s headline read “Ukrainian Resistance Using Molotov Bombs.” Because headlines are the deciding factor for people to read an article, newspapers make them enticing. The New York Times uses headlines that suggest this is another world war, while Le Monde downplays the illegality of what Russia is doing. The differences seen in the headlines of the two newspapers are all for the attraction of their audiences; each magazine writes eye-catching unique topics.\\n']"
      ]
     },
     "execution_count": 28,
     "metadata": {},
     "output_type": "execute_result"
    }
   ],
   "source": [
    "human_gen_dataset_train['TEXT'][:3]"
   ]
  },
  {
   "cell_type": "code",
   "execution_count": 29,
   "metadata": {},
   "outputs": [
    {
     "name": "stdout",
     "output_type": "stream",
     "text": [
      "['https://ivypanda.com/essays/12-years-a-slave-an-analysis-of-the-film/', 'https://ivypanda.com/essays/20-social-media-post-ideas-to-radically-simplify-your-marketing/', 'https://ivypanda.com/essays/2022-russian-invasion-of-ukraine-in-global-media-coverage/']\n",
      "[0, 1, 2]\n"
     ]
    }
   ],
   "source": [
    "print(human_gen_dataset_train['SOURCE'][:3])\n",
    "print(human_gen_dataset_train['__index_level_0__'][:3])"
   ]
  },
  {
   "cell_type": "code",
   "execution_count": 30,
   "metadata": {},
   "outputs": [],
   "source": [
    "# df_human = pd.DataFrame({\"TEXT\":human_gen_dataset_train['TEXT'],\"SOURCE\":human_gen_dataset_train['SOURCE'],\"__index_level_0__\":human_gen_dataset_train['__index_level_0__']})\n",
    "df_human = pd.DataFrame(human_gen_dataset_train)"
   ]
  },
  {
   "cell_type": "code",
   "execution_count": 31,
   "metadata": {},
   "outputs": [],
   "source": [
    "df_AI = pd.DataFrame(LLM_train_set)"
   ]
  },
  {
   "cell_type": "code",
   "execution_count": 32,
   "metadata": {},
   "outputs": [
    {
     "data": {
      "text/html": [
       "<div>\n",
       "<style scoped>\n",
       "    .dataframe tbody tr th:only-of-type {\n",
       "        vertical-align: middle;\n",
       "    }\n",
       "\n",
       "    .dataframe tbody tr th {\n",
       "        vertical-align: top;\n",
       "    }\n",
       "\n",
       "    .dataframe thead th {\n",
       "        text-align: right;\n",
       "    }\n",
       "</style>\n",
       "<table border=\"1\" class=\"dataframe\">\n",
       "  <thead>\n",
       "    <tr style=\"text-align: right;\">\n",
       "      <th></th>\n",
       "      <th>TEXT</th>\n",
       "      <th>SOURCE</th>\n",
       "      <th>__index_level_0__</th>\n",
       "    </tr>\n",
       "  </thead>\n",
       "  <tbody>\n",
       "    <tr>\n",
       "      <th>0</th>\n",
       "      <td>12 Years a Slave: An Analysis of the Film Essa...</td>\n",
       "      <td>https://ivypanda.com/essays/12-years-a-slave-a...</td>\n",
       "      <td>0</td>\n",
       "    </tr>\n",
       "    <tr>\n",
       "      <th>1</th>\n",
       "      <td>20+ Social Media Post Ideas to Radically Simpl...</td>\n",
       "      <td>https://ivypanda.com/essays/20-social-media-po...</td>\n",
       "      <td>1</td>\n",
       "    </tr>\n",
       "    <tr>\n",
       "      <th>2</th>\n",
       "      <td>2022 Russian Invasion of Ukraine in Global Med...</td>\n",
       "      <td>https://ivypanda.com/essays/2022-russian-invas...</td>\n",
       "      <td>2</td>\n",
       "    </tr>\n",
       "    <tr>\n",
       "      <th>3</th>\n",
       "      <td>533 U.S. 27 (2001) Kyllo v. United States: The...</td>\n",
       "      <td>https://ivypanda.com/essays/533-us-27-2001-kyl...</td>\n",
       "      <td>3</td>\n",
       "    </tr>\n",
       "    <tr>\n",
       "      <th>4</th>\n",
       "      <td>A Charles Schwab Corporation Case Essay\\n\\nCha...</td>\n",
       "      <td>https://ivypanda.com/essays/a-charles-schwab-c...</td>\n",
       "      <td>4</td>\n",
       "    </tr>\n",
       "  </tbody>\n",
       "</table>\n",
       "</div>"
      ],
      "text/plain": [
       "                                                TEXT  \\\n",
       "0  12 Years a Slave: An Analysis of the Film Essa...   \n",
       "1  20+ Social Media Post Ideas to Radically Simpl...   \n",
       "2  2022 Russian Invasion of Ukraine in Global Med...   \n",
       "3  533 U.S. 27 (2001) Kyllo v. United States: The...   \n",
       "4  A Charles Schwab Corporation Case Essay\\n\\nCha...   \n",
       "\n",
       "                                              SOURCE  __index_level_0__  \n",
       "0  https://ivypanda.com/essays/12-years-a-slave-a...                  0  \n",
       "1  https://ivypanda.com/essays/20-social-media-po...                  1  \n",
       "2  https://ivypanda.com/essays/2022-russian-invas...                  2  \n",
       "3  https://ivypanda.com/essays/533-us-27-2001-kyl...                  3  \n",
       "4  https://ivypanda.com/essays/a-charles-schwab-c...                  4  "
      ]
     },
     "execution_count": 32,
     "metadata": {},
     "output_type": "execute_result"
    }
   ],
   "source": [
    "df_human.head()"
   ]
  },
  {
   "cell_type": "code",
   "execution_count": 33,
   "metadata": {},
   "outputs": [
    {
     "data": {
      "text/html": [
       "<div>\n",
       "<style scoped>\n",
       "    .dataframe tbody tr th:only-of-type {\n",
       "        vertical-align: middle;\n",
       "    }\n",
       "\n",
       "    .dataframe tbody tr th {\n",
       "        vertical-align: top;\n",
       "    }\n",
       "\n",
       "    .dataframe thead th {\n",
       "        text-align: right;\n",
       "    }\n",
       "</style>\n",
       "<table border=\"1\" class=\"dataframe\">\n",
       "  <thead>\n",
       "    <tr style=\"text-align: right;\">\n",
       "      <th></th>\n",
       "      <th>system</th>\n",
       "      <th>prompt</th>\n",
       "      <th>output</th>\n",
       "    </tr>\n",
       "  </thead>\n",
       "  <tbody>\n",
       "    <tr>\n",
       "      <th>0</th>\n",
       "      <td>You are an AI assistant. Provide a detailed an...</td>\n",
       "      <td>Title: I did not get to see it because I could...</td>\n",
       "      <td>The review is neutral. The reviewer did not ha...</td>\n",
       "    </tr>\n",
       "    <tr>\n",
       "      <th>1</th>\n",
       "      <td>You are a helpful assistant, who always provid...</td>\n",
       "      <td>Solve this math problem\\n\\nSolve -20*l + 41*l ...</td>\n",
       "      <td>Okay, let's solve this math problem together! ...</td>\n",
       "    </tr>\n",
       "    <tr>\n",
       "      <th>2</th>\n",
       "      <td>You are an AI assistant. You will be given a t...</td>\n",
       "      <td>Sentiment possibilities Possible answers: 1). ...</td>\n",
       "      <td>As an AI, I understand you are asking for a tw...</td>\n",
       "    </tr>\n",
       "    <tr>\n",
       "      <th>3</th>\n",
       "      <td>You are a helpful assistant, who always provid...</td>\n",
       "      <td>Multi-choice problem: Is the next sentence syn...</td>\n",
       "      <td>The sentence is acceptable. It means that the ...</td>\n",
       "    </tr>\n",
       "    <tr>\n",
       "      <th>4</th>\n",
       "      <td>You are an AI assistant that follows instructi...</td>\n",
       "      <td>I have a test where I am given the following a...</td>\n",
       "      <td>The article does not provide the last name of ...</td>\n",
       "    </tr>\n",
       "  </tbody>\n",
       "</table>\n",
       "</div>"
      ],
      "text/plain": [
       "                                              system  \\\n",
       "0  You are an AI assistant. Provide a detailed an...   \n",
       "1  You are a helpful assistant, who always provid...   \n",
       "2  You are an AI assistant. You will be given a t...   \n",
       "3  You are a helpful assistant, who always provid...   \n",
       "4  You are an AI assistant that follows instructi...   \n",
       "\n",
       "                                              prompt  \\\n",
       "0  Title: I did not get to see it because I could...   \n",
       "1  Solve this math problem\\n\\nSolve -20*l + 41*l ...   \n",
       "2  Sentiment possibilities Possible answers: 1). ...   \n",
       "3  Multi-choice problem: Is the next sentence syn...   \n",
       "4  I have a test where I am given the following a...   \n",
       "\n",
       "                                              output  \n",
       "0  The review is neutral. The reviewer did not ha...  \n",
       "1  Okay, let's solve this math problem together! ...  \n",
       "2  As an AI, I understand you are asking for a tw...  \n",
       "3  The sentence is acceptable. It means that the ...  \n",
       "4  The article does not provide the last name of ...  "
      ]
     },
     "execution_count": 33,
     "metadata": {},
     "output_type": "execute_result"
    }
   ],
   "source": [
    "df_AI.head()"
   ]
  },
  {
   "cell_type": "code",
   "execution_count": 34,
   "metadata": {},
   "outputs": [],
   "source": [
    "df_human_pcs = df_human.drop(['SOURCE','__index_level_0__'],axis=1)\n",
    "df_AI_pcs = df_AI.drop(['system','prompt'],axis=1)"
   ]
  },
  {
   "cell_type": "markdown",
   "metadata": {},
   "source": [
    "#### Processed human data"
   ]
  },
  {
   "cell_type": "code",
   "execution_count": 35,
   "metadata": {},
   "outputs": [
    {
     "data": {
      "text/html": [
       "<div>\n",
       "<style scoped>\n",
       "    .dataframe tbody tr th:only-of-type {\n",
       "        vertical-align: middle;\n",
       "    }\n",
       "\n",
       "    .dataframe tbody tr th {\n",
       "        vertical-align: top;\n",
       "    }\n",
       "\n",
       "    .dataframe thead th {\n",
       "        text-align: right;\n",
       "    }\n",
       "</style>\n",
       "<table border=\"1\" class=\"dataframe\">\n",
       "  <thead>\n",
       "    <tr style=\"text-align: right;\">\n",
       "      <th></th>\n",
       "      <th>TEXT</th>\n",
       "    </tr>\n",
       "  </thead>\n",
       "  <tbody>\n",
       "    <tr>\n",
       "      <th>0</th>\n",
       "      <td>12 Years a Slave: An Analysis of the Film Essa...</td>\n",
       "    </tr>\n",
       "    <tr>\n",
       "      <th>1</th>\n",
       "      <td>20+ Social Media Post Ideas to Radically Simpl...</td>\n",
       "    </tr>\n",
       "    <tr>\n",
       "      <th>2</th>\n",
       "      <td>2022 Russian Invasion of Ukraine in Global Med...</td>\n",
       "    </tr>\n",
       "    <tr>\n",
       "      <th>3</th>\n",
       "      <td>533 U.S. 27 (2001) Kyllo v. United States: The...</td>\n",
       "    </tr>\n",
       "    <tr>\n",
       "      <th>4</th>\n",
       "      <td>A Charles Schwab Corporation Case Essay\\n\\nCha...</td>\n",
       "    </tr>\n",
       "  </tbody>\n",
       "</table>\n",
       "</div>"
      ],
      "text/plain": [
       "                                                TEXT\n",
       "0  12 Years a Slave: An Analysis of the Film Essa...\n",
       "1  20+ Social Media Post Ideas to Radically Simpl...\n",
       "2  2022 Russian Invasion of Ukraine in Global Med...\n",
       "3  533 U.S. 27 (2001) Kyllo v. United States: The...\n",
       "4  A Charles Schwab Corporation Case Essay\\n\\nCha..."
      ]
     },
     "execution_count": 35,
     "metadata": {},
     "output_type": "execute_result"
    }
   ],
   "source": [
    "# print(\"-----processed human data-----\\n\")\n",
    "df_human_pcs.head()"
   ]
  },
  {
   "cell_type": "markdown",
   "metadata": {},
   "source": [
    "#### Processed AI data"
   ]
  },
  {
   "cell_type": "code",
   "execution_count": 36,
   "metadata": {},
   "outputs": [
    {
     "data": {
      "text/html": [
       "<div>\n",
       "<style scoped>\n",
       "    .dataframe tbody tr th:only-of-type {\n",
       "        vertical-align: middle;\n",
       "    }\n",
       "\n",
       "    .dataframe tbody tr th {\n",
       "        vertical-align: top;\n",
       "    }\n",
       "\n",
       "    .dataframe thead th {\n",
       "        text-align: right;\n",
       "    }\n",
       "</style>\n",
       "<table border=\"1\" class=\"dataframe\">\n",
       "  <thead>\n",
       "    <tr style=\"text-align: right;\">\n",
       "      <th></th>\n",
       "      <th>output</th>\n",
       "    </tr>\n",
       "  </thead>\n",
       "  <tbody>\n",
       "    <tr>\n",
       "      <th>0</th>\n",
       "      <td>The review is neutral. The reviewer did not ha...</td>\n",
       "    </tr>\n",
       "    <tr>\n",
       "      <th>1</th>\n",
       "      <td>Okay, let's solve this math problem together! ...</td>\n",
       "    </tr>\n",
       "    <tr>\n",
       "      <th>2</th>\n",
       "      <td>As an AI, I understand you are asking for a tw...</td>\n",
       "    </tr>\n",
       "    <tr>\n",
       "      <th>3</th>\n",
       "      <td>The sentence is acceptable. It means that the ...</td>\n",
       "    </tr>\n",
       "    <tr>\n",
       "      <th>4</th>\n",
       "      <td>The article does not provide the last name of ...</td>\n",
       "    </tr>\n",
       "  </tbody>\n",
       "</table>\n",
       "</div>"
      ],
      "text/plain": [
       "                                              output\n",
       "0  The review is neutral. The reviewer did not ha...\n",
       "1  Okay, let's solve this math problem together! ...\n",
       "2  As an AI, I understand you are asking for a tw...\n",
       "3  The sentence is acceptable. It means that the ...\n",
       "4  The article does not provide the last name of ..."
      ]
     },
     "execution_count": 36,
     "metadata": {},
     "output_type": "execute_result"
    }
   ],
   "source": [
    "# print(\"-----processed AI data-----\\n\")\n",
    "df_AI_pcs.head()"
   ]
  },
  {
   "cell_type": "markdown",
   "metadata": {},
   "source": [
    "##### Class breakdown"
   ]
  },
  {
   "cell_type": "code",
   "execution_count": 37,
   "metadata": {},
   "outputs": [
    {
     "data": {
      "image/png": "[encoded data removed]",
      "text/plain": [
       "<Figure size 640x480 with 1 Axes>"
      ]
     },
     "metadata": {},
     "output_type": "display_data"
    }
   ],
   "source": [
    "Ttl_Hmn_dtst = 128293\n",
    "Ttl_AI_dtst = 250000\n",
    "import matplotlib.pyplot as plt\n",
    "\n",
    "# Data\n",
    "categories = ['Human generated', 'AI generated']\n",
    "counts = [128293, 250000]\n",
    "\n",
    "# Create bar plot\n",
    "plt.bar(categories, counts, color=['blue', 'orange'])\n",
    "\n",
    "# Add labels and title\n",
    "plt.xlabel('Sample Type')\n",
    "plt.ylabel('Count')\n",
    "plt.title('Count of Human Generated vs. AI Generated Samples')\n",
    "\n",
    "# Show plot\n",
    "plt.show()\n"
   ]
  },
  {
   "cell_type": "code",
   "execution_count": 38,
   "metadata": {},
   "outputs": [],
   "source": [
    "#Follow this for basic cleaning: https://www.kaggle.com/code/shahules/basic-eda-cleaning-and-glove#Loading-the-data-and-getting-basic-idea\n",
    "# data prep: https://towardsdatascience.com/part-1-data-cleaning-does-bert-need-clean-data-6a50c9c6e9fd\n",
    "# important ref: https://lejdiprifti.medium.com/ai-vs-human-detect-llm-generated-text-f5a55b5662bb"
   ]
  },
  {
   "cell_type": "markdown",
   "metadata": {},
   "source": [
    "## Basic EDA"
   ]
  },
  {
   "cell_type": "code",
   "execution_count": 39,
   "metadata": {},
   "outputs": [],
   "source": [
    "# len(df_human_pcs['TEXT'][0])\n",
    "chr_len_hmn = df_human_pcs['TEXT'].str.len()\n",
    "chr_len_AI = df_AI_pcs['output'].str.len()"
   ]
  },
  {
   "cell_type": "code",
   "execution_count": 40,
   "metadata": {},
   "outputs": [
    {
     "data": {
      "text/plain": [
       "0          203\n",
       "1          628\n",
       "2         1094\n",
       "3          131\n",
       "4          114\n",
       "          ... \n",
       "249995     463\n",
       "249996     131\n",
       "249997     258\n",
       "249998      70\n",
       "249999       9\n",
       "Name: output, Length: 250000, dtype: int64"
      ]
     },
     "execution_count": 40,
     "metadata": {},
     "output_type": "execute_result"
    }
   ],
   "source": [
    "chr_len_AI"
   ]
  },
  {
   "cell_type": "code",
   "execution_count": 41,
   "metadata": {},
   "outputs": [
    {
     "data": {
      "image/png": "[encoded data removed]",
      "text/plain": [
       "<Figure size 1000x500 with 2 Axes>"
      ]
     },
     "metadata": {},
     "output_type": "display_data"
    }
   ],
   "source": [
    "mn_cln_AI = min(chr_len_AI)\n",
    "mx_cln_AI = max(chr_len_AI)\n",
    "# Create subplots\n",
    "fig, (ax1, ax2) = plt.subplots(1, 2, figsize=(10, 5))\n",
    "bin_vls,bins,_ = ax1.hist(chr_len_AI,bins=10,color='blue',alpha=0.8)\n",
    "ax1.set_xlabel('Character length')\n",
    "ax1.set_ylabel('Count')\n",
    "ax1.set_title('Character Length of AI Generated Samples')\n",
    "ax1.text(0.7, 0.9, f'Min: {mn_cln_AI}\\nMax: {mx_cln_AI}', verticalalignment='top', horizontalalignment='left',\n",
    "                                        transform=ax1.transAxes, bbox=dict(facecolor='white', alpha=0.5))\n",
    "# plt.yscale('log')\n",
    "# plt.show()\n",
    "#\n",
    "mn_cln_hmn = min(chr_len_hmn)\n",
    "mx_cln_hmn = max(chr_len_hmn)\n",
    "bin_vls,bins,_ = ax2.hist(chr_len_hmn,color='orange',alpha=0.8)\n",
    "ax2.set_xlabel('Character length')\n",
    "# ax2.set_ylabel('Count')\n",
    "ax2.set_title('Character Length of Human Generated Samples')\n",
    "ax2.text(0.7, 0.9, f'Min: {mn_cln_hmn}\\nMax: {mx_cln_hmn}', verticalalignment='top', horizontalalignment='left',\n",
    "                                        transform=ax2.transAxes, bbox=dict(facecolor='white', alpha=0.5))\n",
    "# plt.text(0.8, 0.8, f'Max: {mx_cln_hmn}', verticalalignment='top', horizontalalignment='left',\n",
    "#                                     \n",
    "#     transform=plt.gca().transAxes, bbox=dict(facecolor='white', alpha=0.5))\n",
    "ax2.set_yscale('log')\n",
    "plt.suptitle(\"Word Count\")\n",
    "plt.show()"
   ]
  },
  {
   "cell_type": "code",
   "execution_count": 42,
   "metadata": {},
   "outputs": [
    {
     "name": "stdout",
     "output_type": "stream",
     "text": [
      "\n"
     ]
    },
    {
     "data": {
      "text/plain": [
       "system    Below is an instruction that describes a task....\n",
       "prompt    Given the task definition, example input & out...\n",
       "output                                                     \n",
       "Name: 4408, dtype: object"
      ]
     },
     "execution_count": 42,
     "metadata": {},
     "output_type": "execute_result"
    }
   ],
   "source": [
    "#Checking the null values in AI prompts:\n",
    "ind_zer = [i for i,x in enumerate(chr_len_AI) if chr_len_AI[i]==0]\n",
    "ind_zer\n",
    "\n",
    "len(df_AI_pcs['output'][4408])\n",
    "print(df_AI_pcs['output'][4408])\n",
    "\n",
    "df_AI.iloc[4408]['prompt']\n",
    "df_AI.iloc[4408]"
   ]
  },
  {
   "cell_type": "markdown",
   "metadata": {},
   "source": [
    "#### Count the number of the words in samples"
   ]
  },
  {
   "cell_type": "code",
   "execution_count": 43,
   "metadata": {},
   "outputs": [],
   "source": [
    "num_wrds_hmn = df_human_pcs['TEXT'].str.split().map(lambda x: len(x))\n",
    "num_wrds_AI = df_AI_pcs['output'].str.split().map(lambda x: len(x))\n"
   ]
  },
  {
   "cell_type": "code",
   "execution_count": 44,
   "metadata": {},
   "outputs": [
    {
     "data": {
      "text/plain": [
       "\"The article does not provide the last name of the person who agreed to visit Britten's Aldeburgh Festival in 1959.\""
      ]
     },
     "execution_count": 44,
     "metadata": {},
     "output_type": "execute_result"
    }
   ],
   "source": [
    "num_wrds_hmn.head()\n",
    "num_wrds_AI.head()\n",
    "len(num_wrds_AI)\n",
    "len(num_wrds_hmn)\n",
    "df_AI_pcs['output'][4]\n",
    "# num_wrds_AI.head()"
   ]
  },
  {
   "cell_type": "code",
   "execution_count": 45,
   "metadata": {},
   "outputs": [],
   "source": [
    "# len(num_wrds_hmn.tolist())\n",
    "# human_word_count = num_wrds_hmn.tolist()\n",
    "# ai_word_count = num_wrds_AI.tolist()\n",
    "human_word_count = num_wrds_hmn\n",
    "ai_word_count = num_wrds_AI"
   ]
  },
  {
   "cell_type": "code",
   "execution_count": 46,
   "metadata": {},
   "outputs": [
    {
     "data": {
      "image/png": "[encoded data removed]",
      "text/plain": [
       "<Figure size 1000x500 with 2 Axes>"
      ]
     },
     "metadata": {},
     "output_type": "display_data"
    }
   ],
   "source": [
    "mn_wct_hmn = min(human_word_count)\n",
    "mx_wct_hmn = max(human_word_count)\n",
    "mn_wct_AI = min(ai_word_count)\n",
    "mx_wct_AI = max(ai_word_count)\n",
    "\n",
    "# Create subplots\n",
    "fig, (ax1, ax2) = plt.subplots(1, 2, figsize=(10, 5))\n",
    "\n",
    "# Plot histograms\n",
    "ax1.hist(human_word_count, bins=10, color='blue', alpha=0.7)\n",
    "ax2.hist(ai_word_count, bins=10, color='green', alpha=0.7)\n",
    "\n",
    "# Set titles\n",
    "ax1.set_title('Human Generated Text')\n",
    "ax2.set_title('AI Generated Text')\n",
    "\n",
    "# Set labels\n",
    "ax1.set_xlabel('Word Count')\n",
    "ax1.set_ylabel('Frequency')\n",
    "ax2.set_xlabel('Word Count')\n",
    "# ax2.set_ylabel('Frequency')\n",
    "\n",
    "# Annotate human word count\n",
    "ax1.text(0.8, 0.9, f'Min: {mn_wct_hmn}\\nMax: {mx_wct_hmn}', horizontalalignment='center',\n",
    "         verticalalignment='center', transform=ax1.transAxes, fontsize=12, color='black',bbox=dict(facecolor='white', alpha=0.5))\n",
    "\n",
    "# # Annotate AI word count\n",
    "ax2.text(0.8, 0.9, f'Min: {mn_wct_AI}\\nMax: {mx_wct_AI}', horizontalalignment='center',\n",
    "         verticalalignment='center', transform=ax2.transAxes, fontsize=12, color='black',bbox=dict(facecolor='white', alpha=0.5))\n",
    "\n",
    "ax1.set_yscale('log')\n",
    "plt.suptitle('Word Count')\n",
    "plt.tight_layout()\n",
    "plt.show()"
   ]
  },
  {
   "cell_type": "markdown",
   "metadata": {},
   "source": [
    "### Average length of words per sample"
   ]
  },
  {
   "cell_type": "code",
   "execution_count": 47,
   "metadata": {},
   "outputs": [],
   "source": [
    "# num_wrds_tst = df_human_pcs['TEXT'].str.split()\n",
    "# num_wrds_AI = df_AI_pcs['output'].str.split()"
   ]
  },
  {
   "cell_type": "code",
   "execution_count": 48,
   "metadata": {},
   "outputs": [],
   "source": [
    "# num_wrds_AI = df_AI_pcs['output'].str.split().apply(lambda x : [len(i) for i in x])\n",
    "#stopping running because took more than 6 mins."
   ]
  },
  {
   "cell_type": "code",
   "execution_count": 49,
   "metadata": {},
   "outputs": [],
   "source": [
    "# word_hmn = num_wrds_tst.apply(lambda x : [len(i) for i in x])"
   ]
  },
  {
   "cell_type": "markdown",
   "metadata": {},
   "source": [
    "#### Handle Stop Words"
   ]
  },
  {
   "cell_type": "code",
   "execution_count": 50,
   "metadata": {},
   "outputs": [],
   "source": [
    "def create_corpus(target,strng_in):\n",
    "    corpus=[]\n",
    "    \n",
    "    # for x in df_human_pcs['TEXT'].str.split():\n",
    "    for x in target[strng_in].str.split():\n",
    "        for i in x:\n",
    "            corpus.append(i)        \n",
    "    return corpus\n",
    "\n",
    "# for x in df_AI_pcs['output'].str.split():\n",
    "#         for i in x:\n",
    "#             corpus.append(i)"
   ]
  },
  {
   "cell_type": "code",
   "execution_count": 51,
   "metadata": {},
   "outputs": [],
   "source": [
    "Corpus = create_corpus(df_human_pcs,'TEXT')"
   ]
  },
  {
   "cell_type": "code",
   "execution_count": 52,
   "metadata": {},
   "outputs": [
    {
     "name": "stderr",
     "output_type": "stream",
     "text": [
      "[nltk_data] Downloading package stopwords to\n",
      "[nltk_data]     C:\\Users\\nasaa\\AppData\\Roaming\\nltk_data...\n",
      "[nltk_data]   Package stopwords is already up-to-date!\n"
     ]
    }
   ],
   "source": [
    "import nltk\n",
    "nltk.download('stopwords')\n",
    "from nltk.corpus import stopwords\n",
    "stop = set(stopwords.words('english'))"
   ]
  },
  {
   "cell_type": "code",
   "execution_count": 53,
   "metadata": {},
   "outputs": [
    {
     "data": {
      "text/plain": [
       "{'a',\n",
       " 'about',\n",
       " 'above',\n",
       " 'after',\n",
       " 'again',\n",
       " 'against',\n",
       " 'ain',\n",
       " 'all',\n",
       " 'am',\n",
       " 'an',\n",
       " 'and',\n",
       " 'any',\n",
       " 'are',\n",
       " 'aren',\n",
       " \"aren't\",\n",
       " 'as',\n",
       " 'at',\n",
       " 'be',\n",
       " 'because',\n",
       " 'been',\n",
       " 'before',\n",
       " 'being',\n",
       " 'below',\n",
       " 'between',\n",
       " 'both',\n",
       " 'but',\n",
       " 'by',\n",
       " 'can',\n",
       " 'couldn',\n",
       " \"couldn't\",\n",
       " 'd',\n",
       " 'did',\n",
       " 'didn',\n",
       " \"didn't\",\n",
       " 'do',\n",
       " 'does',\n",
       " 'doesn',\n",
       " \"doesn't\",\n",
       " 'doing',\n",
       " 'don',\n",
       " \"don't\",\n",
       " 'down',\n",
       " 'during',\n",
       " 'each',\n",
       " 'few',\n",
       " 'for',\n",
       " 'from',\n",
       " 'further',\n",
       " 'had',\n",
       " 'hadn',\n",
       " \"hadn't\",\n",
       " 'has',\n",
       " 'hasn',\n",
       " \"hasn't\",\n",
       " 'have',\n",
       " 'haven',\n",
       " \"haven't\",\n",
       " 'having',\n",
       " 'he',\n",
       " 'her',\n",
       " 'here',\n",
       " 'hers',\n",
       " 'herself',\n",
       " 'him',\n",
       " 'himself',\n",
       " 'his',\n",
       " 'how',\n",
       " 'i',\n",
       " 'if',\n",
       " 'in',\n",
       " 'into',\n",
       " 'is',\n",
       " 'isn',\n",
       " \"isn't\",\n",
       " 'it',\n",
       " \"it's\",\n",
       " 'its',\n",
       " 'itself',\n",
       " 'just',\n",
       " 'll',\n",
       " 'm',\n",
       " 'ma',\n",
       " 'me',\n",
       " 'mightn',\n",
       " \"mightn't\",\n",
       " 'more',\n",
       " 'most',\n",
       " 'mustn',\n",
       " \"mustn't\",\n",
       " 'my',\n",
       " 'myself',\n",
       " 'needn',\n",
       " \"needn't\",\n",
       " 'no',\n",
       " 'nor',\n",
       " 'not',\n",
       " 'now',\n",
       " 'o',\n",
       " 'of',\n",
       " 'off',\n",
       " 'on',\n",
       " 'once',\n",
       " 'only',\n",
       " 'or',\n",
       " 'other',\n",
       " 'our',\n",
       " 'ours',\n",
       " 'ourselves',\n",
       " 'out',\n",
       " 'over',\n",
       " 'own',\n",
       " 're',\n",
       " 's',\n",
       " 'same',\n",
       " 'shan',\n",
       " \"shan't\",\n",
       " 'she',\n",
       " \"she's\",\n",
       " 'should',\n",
       " \"should've\",\n",
       " 'shouldn',\n",
       " \"shouldn't\",\n",
       " 'so',\n",
       " 'some',\n",
       " 'such',\n",
       " 't',\n",
       " 'than',\n",
       " 'that',\n",
       " \"that'll\",\n",
       " 'the',\n",
       " 'their',\n",
       " 'theirs',\n",
       " 'them',\n",
       " 'themselves',\n",
       " 'then',\n",
       " 'there',\n",
       " 'these',\n",
       " 'they',\n",
       " 'this',\n",
       " 'those',\n",
       " 'through',\n",
       " 'to',\n",
       " 'too',\n",
       " 'under',\n",
       " 'until',\n",
       " 'up',\n",
       " 've',\n",
       " 'very',\n",
       " 'was',\n",
       " 'wasn',\n",
       " \"wasn't\",\n",
       " 'we',\n",
       " 'were',\n",
       " 'weren',\n",
       " \"weren't\",\n",
       " 'what',\n",
       " 'when',\n",
       " 'where',\n",
       " 'which',\n",
       " 'while',\n",
       " 'who',\n",
       " 'whom',\n",
       " 'why',\n",
       " 'will',\n",
       " 'with',\n",
       " 'won',\n",
       " \"won't\",\n",
       " 'wouldn',\n",
       " \"wouldn't\",\n",
       " 'y',\n",
       " 'you',\n",
       " \"you'd\",\n",
       " \"you'll\",\n",
       " \"you're\",\n",
       " \"you've\",\n",
       " 'your',\n",
       " 'yours',\n",
       " 'yourself',\n",
       " 'yourselves'}"
      ]
     },
     "execution_count": 53,
     "metadata": {},
     "output_type": "execute_result"
    }
   ],
   "source": [
    "stop"
   ]
  },
  {
   "cell_type": "code",
   "execution_count": 55,
   "metadata": {},
   "outputs": [],
   "source": [
    "from collections import defaultdict\n",
    "dic=defaultdict(int)\n",
    "for word in Corpus:\n",
    "    if word in stop:\n",
    "        dic[word]+=1\n",
    "        \n",
    "top = sorted(dic.items(), key=lambda x:x[1],reverse=True)[:10] "
   ]
  },
  {
   "cell_type": "code",
   "execution_count": 57,
   "metadata": {},
   "outputs": [
    {
     "data": {
      "text/plain": [
       "[('the', 11910099),\n",
       " ('of', 7090533),\n",
       " ('and', 5404345),\n",
       " ('to', 5320783),\n",
       " ('in', 3632299),\n",
       " ('a', 2877979),\n",
       " ('is', 2640826),\n",
       " ('that', 2467894),\n",
       " ('for', 1382061),\n",
       " ('as', 1375256)]"
      ]
     },
     "execution_count": 57,
     "metadata": {},
     "output_type": "execute_result"
    }
   ],
   "source": [
    "dic.items()\n",
    "top"
   ]
  },
  {
   "cell_type": "code",
   "execution_count": 59,
   "metadata": {},
   "outputs": [],
   "source": [
    "Corpus2 = create_corpus(df_AI_pcs,'output')\n",
    "dic2=defaultdict(int)\n",
    "for word in Corpus2:\n",
    "    if word in stop:\n",
    "        dic2[word]+=1\n",
    "        \n",
    "top2 = sorted(dic2.items(), key=lambda x:x[1],reverse=True)[:10] "
   ]
  },
  {
   "cell_type": "code",
   "execution_count": 66,
   "metadata": {},
   "outputs": [
    {
     "data": {
      "text/plain": [
       "Text(0.5, 0.98, 'Stop Words')"
      ]
     },
     "execution_count": 66,
     "metadata": {},
     "output_type": "execute_result"
    },
    {
     "data": {
      "image/png": "[encoded data removed]",
      "text/plain": [
       "<Figure size 1000x500 with 2 Axes>"
      ]
     },
     "metadata": {},
     "output_type": "display_data"
    }
   ],
   "source": [
    "# Create subplots\n",
    "fig, (ax1, ax2) = plt.subplots(1, 2, figsize=(10, 5))\n",
    "x,y=zip(*top)\n",
    "ax1.bar(x,y,color='blue')\n",
    "ax1.set_ylabel('Count')\n",
    "ax1.set_title('AI Generated Samples')\n",
    "x2,y2=zip(*top2)\n",
    "ax2.bar(x2,y2,color='orange')\n",
    "ax2.set_title('Human Generated Samples')\n",
    "plt.suptitle(\"Stop Words\")"
   ]
  },
  {
   "cell_type": "code",
   "execution_count": 67,
   "metadata": {},
   "outputs": [
    {
     "data": {
      "text/plain": [
       "<BarContainer object of 38 artists>"
      ]
     },
     "execution_count": 67,
     "metadata": {},
     "output_type": "execute_result"
    },
    {
     "data": {
      "image/png": "[encoded data removed]",
      "text/plain": [
       "<Figure size 640x480 with 1 Axes>"
      ]
     },
     "metadata": {},
     "output_type": "display_data"
    }
   ],
   "source": [
    "dic=defaultdict(int)\n",
    "import string\n",
    "special = string.punctuation\n",
    "for i in (Corpus):\n",
    "    if i in special:\n",
    "        dic[i]+=1\n",
    "        \n",
    "x,y=zip(*dic.items())\n",
    "plt.bar(x,y)"
   ]
  },
  {
   "cell_type": "code",
   "execution_count": 68,
   "metadata": {},
   "outputs": [
    {
     "data": {
      "text/plain": [
       "<BarContainer object of 43 artists>"
      ]
     },
     "execution_count": 68,
     "metadata": {},
     "output_type": "execute_result"
    },
    {
     "data": {
      "image/png": "[encoded data removed]",
      "text/plain": [
       "<Figure size 640x480 with 1 Axes>"
      ]
     },
     "metadata": {},
     "output_type": "display_data"
    }
   ],
   "source": [
    "dic=defaultdict(int)\n",
    "import string\n",
    "special = string.punctuation\n",
    "for i in (Corpus2):\n",
    "    if i in special:\n",
    "        dic[i]+=1\n",
    "        \n",
    "x,y=zip(*dic.items())\n",
    "plt.bar(x,y,color='red')"
   ]
  },
  {
   "cell_type": "code",
   "execution_count": 69,
   "metadata": {},
   "outputs": [],
   "source": [
    "from collections import  Counter\n"
   ]
  },
  {
   "cell_type": "code",
   "execution_count": 70,
   "metadata": {},
   "outputs": [],
   "source": [
    "counter=Counter(Corpus)\n",
    "most=counter.most_common()\n",
    "x_c=[]\n",
    "y_c=[]\n",
    "for word,count in most[:40]:\n",
    "    if (word not in stop) :\n",
    "        x_c.append(word)\n",
    "        y_c.append(count)\n",
    "        "
   ]
  },
  {
   "cell_type": "code",
   "execution_count": 71,
   "metadata": {},
   "outputs": [
    {
     "data": {
      "text/plain": [
       "<Axes: >"
      ]
     },
     "execution_count": 71,
     "metadata": {},
     "output_type": "execute_result"
    },
    {
     "data": {
      "image/png": "[encoded data removed]",
      "text/plain": [
       "<Figure size 640x480 with 1 Axes>"
      ]
     },
     "metadata": {},
     "output_type": "display_data"
    }
   ],
   "source": [
    "import seaborn as sns\n",
    "sns.barplot(x=y_c,y=x_c)\n"
   ]
  },
  {
   "cell_type": "code",
   "execution_count": 72,
   "metadata": {},
   "outputs": [],
   "source": [
    "counter=Counter(Corpus2)\n",
    "most=counter.most_common()\n",
    "x_c2=[]\n",
    "y_c2=[]\n",
    "for word,count in most[:40]:\n",
    "    if (word not in stop) :\n",
    "        x_c2.append(word)\n",
    "        y_c2.append(count)        "
   ]
  },
  {
   "cell_type": "code",
   "execution_count": 73,
   "metadata": {},
   "outputs": [
    {
     "data": {
      "text/plain": [
       "<Axes: >"
      ]
     },
     "execution_count": 73,
     "metadata": {},
     "output_type": "execute_result"
    },
    {
     "data": {
      "image/png": "[encoded data removed]",
      "text/plain": [
       "<Figure size 640x480 with 1 Axes>"
      ]
     },
     "metadata": {},
     "output_type": "display_data"
    }
   ],
   "source": [
    "sns.barplot(x=y_c2,y=x_c2)"
   ]
  },
  {
   "cell_type": "markdown",
   "metadata": {},
   "source": [
    "### To-do: Create n-grams "
   ]
  },
  {
   "cell_type": "code",
   "execution_count": null,
   "metadata": {},
   "outputs": [],
   "source": [
    "#create ngrams from the samples"
   ]
  },
  {
   "cell_type": "markdown",
   "metadata": {},
   "source": [
    "### Data Cleaning"
   ]
  },
  {
   "cell_type": "markdown",
   "metadata": {},
   "source": []
  }
 ],
 "metadata": {
  "kernelspec": {
   "display_name": "genmodNN",
   "language": "python",
   "name": "python3"
  },
  "language_info": {
   "codemirror_mode": {
    "name": "ipython",
    "version": 3
   },
   "file_extension": ".py",
   "mimetype": "text/x-python",
   "name": "python",
   "nbconvert_exporter": "python",
   "pygments_lexer": "ipython3",
   "version": "3.11.9"
  }
 },
 "nbformat": 4,
 "nbformat_minor": 2
}
