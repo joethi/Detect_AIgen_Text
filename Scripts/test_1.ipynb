{
 "cells": [
  {
   "cell_type": "code",
   "execution_count": 1,
   "metadata": {},
   "outputs": [
    {
     "name": "stderr",
     "output_type": "stream",
     "text": [
      "/opt/anaconda3/envs/Azure_end_to_end_project/lib/python3.12/site-packages/tqdm/auto.py:21: TqdmWarning: IProgress not found. Please update jupyter and ipywidgets. See https://ipywidgets.readthedocs.io/en/stable/user_install.html\n",
      "  from .autonotebook import tqdm as notebook_tqdm\n",
      "Using the latest cached version of the dataset since yelp_review_full couldn't be found on the Hugging Face Hub\n",
      "Found the latest cached dataset configuration 'yelp_review_full' at /Users/jothimanithondiraj/.cache/huggingface/datasets/yelp_review_full/yelp_review_full/0.0.0/c1f9ee939b7d05667af864ee1cb066393154bf85 (last modified on Sun Aug 11 13:46:41 2024).\n"
     ]
    }
   ],
   "source": [
    "from datasets import load_dataset\n",
    "dataset = load_dataset(\"yelp_review_full\")"
   ]
  },
  {
   "cell_type": "code",
   "execution_count": 5,
   "metadata": {},
   "outputs": [
    {
     "name": "stderr",
     "output_type": "stream",
     "text": [
      "/opt/anaconda3/envs/Azure_end_to_end_project/lib/python3.12/site-packages/transformers/tokenization_utils_base.py:1601: FutureWarning: `clean_up_tokenization_spaces` was not set. It will be set to `True` by default. This behavior will be depracted in transformers v4.45, and will be then set to `False` by default. For more details check this issue: https://github.com/huggingface/transformers/issues/31884\n",
      "  warnings.warn(\n"
     ]
    }
   ],
   "source": [
    "from transformers import AutoTokenizer\n",
    "tokenizer = AutoTokenizer.from_pretrained(\"bert-base-cased\")"
   ]
  },
  {
   "cell_type": "code",
   "execution_count": 8,
   "metadata": {},
   "outputs": [],
   "source": [
    "def add_prefix(example):\n",
    "    example[\"sentence1\"] = 'My sentence: ' + example[\"sentence1\"]\n",
    "    return example"
   ]
  },
  {
   "cell_type": "code",
   "execution_count": 9,
   "metadata": {},
   "outputs": [
    {
     "name": "stderr",
     "output_type": "stream",
     "text": [
      "Downloading readme: 100%|██████████| 35.3k/35.3k [00:00<00:00, 992kB/s]\n",
      "Downloading data: 100%|██████████| 649k/649k [00:00<00:00, 1.48MB/s]\n",
      "Downloading data: 100%|██████████| 75.7k/75.7k [00:00<00:00, 482kB/s]\n",
      "Downloading data: 100%|██████████| 308k/308k [00:00<00:00, 1.89MB/s]\n",
      "Generating train split: 100%|██████████| 3668/3668 [00:00<00:00, 443580.63 examples/s]\n",
      "Generating validation split: 100%|██████████| 408/408 [00:00<00:00, 228963.88 examples/s]\n",
      "Generating test split: 100%|██████████| 1725/1725 [00:00<00:00, 753978.16 examples/s]\n"
     ]
    }
   ],
   "source": [
    "dataset = load_dataset(\"glue\", \"mrpc\", split=\"train\")"
   ]
  },
  {
   "cell_type": "code",
   "execution_count": 10,
   "metadata": {},
   "outputs": [
    {
     "data": {
      "text/plain": [
       "Dataset({\n",
       "    features: ['sentence1', 'sentence2', 'label', 'idx'],\n",
       "    num_rows: 3668\n",
       "})"
      ]
     },
     "execution_count": 10,
     "metadata": {},
     "output_type": "execute_result"
    }
   ],
   "source": [
    "dataset"
   ]
  },
  {
   "cell_type": "code",
   "execution_count": 37,
   "metadata": {},
   "outputs": [
    {
     "data": {
      "text/plain": [
       "11"
      ]
     },
     "execution_count": 37,
     "metadata": {},
     "output_type": "execute_result"
    }
   ],
   "source": [
    "small_dataset = dataset.select([0, 10, 20, 30, 40, 50, 51, 52, 53, 54, 55])\n",
    "len(small_dataset)"
   ]
  },
  {
   "cell_type": "code",
   "execution_count": 38,
   "metadata": {},
   "outputs": [
    {
     "data": {
      "text/plain": [
       "[1, 0, 1, 1, 1, 1, 1, 0, 0, 0, 1]"
      ]
     },
     "execution_count": 38,
     "metadata": {},
     "output_type": "execute_result"
    }
   ],
   "source": [
    "small_dataset[\"label\"]"
   ]
  },
  {
   "cell_type": "code",
   "execution_count": 39,
   "metadata": {},
   "outputs": [
    {
     "data": {
      "text/plain": [
       "['Amrozi accused his brother , whom he called \" the witness \" , of deliberately distorting his evidence .',\n",
       " 'Legislation making it harder for consumers to erase their debts in bankruptcy court won overwhelming House approval in March .',\n",
       " 'But tropical storm warnings and watches were posted today for Haiti , western portions of the Dominican Republic , the southeastern Bahamas and the Turk and Caicos islands .',\n",
       " 'Trading in Loral was halted yesterday ; the shares closed on Monday at $ 3.01 .',\n",
       " 'The group will be headed by State Department official John S. Wolf , who has served in Australia , Vietnam , Greece and Pakistan .',\n",
       " 'Several of the questions asked by the audience in the fast-paced forum were new to the candidates .',\n",
       " 'Meanwhile , the global death toll approached 770 with more than 8,300 people sickened since the severe acute respiratory syndrome virus first appeared in southern China in November .',\n",
       " \"The battles marked day four of a U.S. sweep to hunt down supporters of Saddam Hussein 's fallen regime .\",\n",
       " 'The women then had follow-up examinations after five , 12 and 24 years .',\n",
       " 'The Embraer jets are scheduled to be delivered by September 2006 .',\n",
       " 'Contrary to what PeopleSoft management would have you believe , Oracle intends to fully support PeopleSoft customers and products for many years to come . \"']"
      ]
     },
     "execution_count": 39,
     "metadata": {},
     "output_type": "execute_result"
    }
   ],
   "source": [
    "small_dataset[\"sentence1\"]"
   ]
  },
  {
   "cell_type": "code",
   "execution_count": 40,
   "metadata": {},
   "outputs": [
    {
     "data": {
      "text/plain": [
       "['Referring to him as only \" the witness \" , Amrozi accused his brother of deliberately distorting his evidence .',\n",
       " 'Legislation making it harder for consumers to erase their debts in bankruptcy court won speedy , House approval in March and was endorsed by the White House .',\n",
       " 'Tropical storm warnings were in place Thursday for Jamaica and Haiti and watches for the western Dominican Republic , the southeastern Bahamas and the Turks and Caicos islands .',\n",
       " 'The New York Stock Exchange suspended trading yesterday in Loral , which closed at $ 3.01 Friday .',\n",
       " 'The group will be headed by John S. Wolf , an assistant secretary of state who has served in Australia , Vietnam , Greece and Pakistan .',\n",
       " 'Several of the audience questions were new to the candidates as well .',\n",
       " 'The global death toll from SARS was at least 767 , with more than 8,300 people sickened since the virus first appeared in southern China in November .',\n",
       " \"Twenty-seven Iraqis were killed , pushing the number of opposition deaths to about 100 in a U.S. operation to hunt down supporters of Saddam Hussein 's fallen regime .\",\n",
       " 'The women had follow-up examinations in 1974-75 , 1980-81 and 1992-93 , but were not asked about stress again .',\n",
       " 'The Bombardier and Embraer aircraft will be delivered to U.S. Airways by September 2006 .',\n",
       " 'Ellison said that contrary to the contentions of PeopleSoft management , Oracle intends to \" fully support PeopleSoft customers and products \" for many years to come .']"
      ]
     },
     "execution_count": 40,
     "metadata": {},
     "output_type": "execute_result"
    }
   ],
   "source": [
    "small_dataset[\"sentence2\"]"
   ]
  },
  {
   "cell_type": "code",
   "execution_count": 41,
   "metadata": {},
   "outputs": [
    {
     "name": "stderr",
     "output_type": "stream",
     "text": [
      "Map: 100%|██████████| 11/11 [00:00<00:00, 1963.88 examples/s]\n"
     ]
    },
    {
     "data": {
      "text/plain": [
       "['My sentence: Amrozi accused his brother , whom he called \" the witness \" , of deliberately distorting his evidence .',\n",
       " 'My sentence: Legislation making it harder for consumers to erase their debts in bankruptcy court won overwhelming House approval in March .',\n",
       " 'My sentence: But tropical storm warnings and watches were posted today for Haiti , western portions of the Dominican Republic , the southeastern Bahamas and the Turk and Caicos islands .',\n",
       " 'My sentence: Trading in Loral was halted yesterday ; the shares closed on Monday at $ 3.01 .',\n",
       " 'My sentence: The group will be headed by State Department official John S. Wolf , who has served in Australia , Vietnam , Greece and Pakistan .',\n",
       " 'My sentence: Several of the questions asked by the audience in the fast-paced forum were new to the candidates .',\n",
       " 'My sentence: Meanwhile , the global death toll approached 770 with more than 8,300 people sickened since the severe acute respiratory syndrome virus first appeared in southern China in November .',\n",
       " \"My sentence: The battles marked day four of a U.S. sweep to hunt down supporters of Saddam Hussein 's fallen regime .\",\n",
       " 'My sentence: The women then had follow-up examinations after five , 12 and 24 years .',\n",
       " 'My sentence: The Embraer jets are scheduled to be delivered by September 2006 .',\n",
       " 'My sentence: Contrary to what PeopleSoft management would have you believe , Oracle intends to fully support PeopleSoft customers and products for many years to come . \"']"
      ]
     },
     "execution_count": 41,
     "metadata": {},
     "output_type": "execute_result"
    }
   ],
   "source": [
    "updated_dataset = small_dataset.map(add_prefix)\n",
    "updated_dataset[\"sentence1\"]"
   ]
  },
  {
   "cell_type": "code",
   "execution_count": 42,
   "metadata": {},
   "outputs": [
    {
     "data": {
      "text/plain": [
       "list"
      ]
     },
     "execution_count": 42,
     "metadata": {},
     "output_type": "execute_result"
    }
   ],
   "source": [
    "type(updated_dataset[\"sentence2\"])"
   ]
  },
  {
   "cell_type": "code",
   "execution_count": 43,
   "metadata": {},
   "outputs": [],
   "source": [
    "def add_prefix_s2(example):\n",
    "    example[\"sentence2\"] = ['My sentence: ' + sentence for sentence in example[\"sentence2\"] ]\n",
    "    return example"
   ]
  },
  {
   "cell_type": "code",
   "execution_count": 44,
   "metadata": {},
   "outputs": [
    {
     "name": "stderr",
     "output_type": "stream",
     "text": [
      "Map: 100%|██████████| 11/11 [00:00<00:00, 3949.44 examples/s]\n"
     ]
    }
   ],
   "source": [
    "updated_dataset1 = small_dataset.map(add_prefix_s2, batched=True)"
   ]
  },
  {
   "cell_type": "code",
   "execution_count": 45,
   "metadata": {},
   "outputs": [
    {
     "data": {
      "text/plain": [
       "['Amrozi accused his brother , whom he called \" the witness \" , of deliberately distorting his evidence .',\n",
       " 'Legislation making it harder for consumers to erase their debts in bankruptcy court won overwhelming House approval in March .',\n",
       " 'But tropical storm warnings and watches were posted today for Haiti , western portions of the Dominican Republic , the southeastern Bahamas and the Turk and Caicos islands .',\n",
       " 'Trading in Loral was halted yesterday ; the shares closed on Monday at $ 3.01 .',\n",
       " 'The group will be headed by State Department official John S. Wolf , who has served in Australia , Vietnam , Greece and Pakistan .',\n",
       " 'Several of the questions asked by the audience in the fast-paced forum were new to the candidates .',\n",
       " 'Meanwhile , the global death toll approached 770 with more than 8,300 people sickened since the severe acute respiratory syndrome virus first appeared in southern China in November .',\n",
       " \"The battles marked day four of a U.S. sweep to hunt down supporters of Saddam Hussein 's fallen regime .\",\n",
       " 'The women then had follow-up examinations after five , 12 and 24 years .',\n",
       " 'The Embraer jets are scheduled to be delivered by September 2006 .',\n",
       " 'Contrary to what PeopleSoft management would have you believe , Oracle intends to fully support PeopleSoft customers and products for many years to come . \"']"
      ]
     },
     "execution_count": 45,
     "metadata": {},
     "output_type": "execute_result"
    }
   ],
   "source": [
    "updated_dataset1[\"sentence1\"]"
   ]
  },
  {
   "cell_type": "code",
   "execution_count": 46,
   "metadata": {},
   "outputs": [
    {
     "data": {
      "text/plain": [
       "['My sentence: Referring to him as only \" the witness \" , Amrozi accused his brother of deliberately distorting his evidence .',\n",
       " 'My sentence: Legislation making it harder for consumers to erase their debts in bankruptcy court won speedy , House approval in March and was endorsed by the White House .',\n",
       " 'My sentence: Tropical storm warnings were in place Thursday for Jamaica and Haiti and watches for the western Dominican Republic , the southeastern Bahamas and the Turks and Caicos islands .',\n",
       " 'My sentence: The New York Stock Exchange suspended trading yesterday in Loral , which closed at $ 3.01 Friday .',\n",
       " 'My sentence: The group will be headed by John S. Wolf , an assistant secretary of state who has served in Australia , Vietnam , Greece and Pakistan .',\n",
       " 'My sentence: Several of the audience questions were new to the candidates as well .',\n",
       " 'My sentence: The global death toll from SARS was at least 767 , with more than 8,300 people sickened since the virus first appeared in southern China in November .',\n",
       " \"My sentence: Twenty-seven Iraqis were killed , pushing the number of opposition deaths to about 100 in a U.S. operation to hunt down supporters of Saddam Hussein 's fallen regime .\",\n",
       " 'My sentence: The women had follow-up examinations in 1974-75 , 1980-81 and 1992-93 , but were not asked about stress again .',\n",
       " 'My sentence: The Bombardier and Embraer aircraft will be delivered to U.S. Airways by September 2006 .',\n",
       " 'My sentence: Ellison said that contrary to the contentions of PeopleSoft management , Oracle intends to \" fully support PeopleSoft customers and products \" for many years to come .']"
      ]
     },
     "execution_count": 46,
     "metadata": {},
     "output_type": "execute_result"
    }
   ],
   "source": [
    "updated_dataset1[\"sentence2\"]"
   ]
  },
  {
   "cell_type": "code",
   "execution_count": 47,
   "metadata": {},
   "outputs": [],
   "source": [
    "# a_list = [\"example_sentence\"]\n",
    "# b_list = [\"he is a guy\", \"she is a girl\"]\n",
    "# [a_list[0] + i for i in b_list]"
   ]
  },
  {
   "cell_type": "code",
   "execution_count": 48,
   "metadata": {},
   "outputs": [],
   "source": [
    "ds_updated = updated_dataset1.train_test_split(test_size=0.2, stratify_by_column=\"label\")"
   ]
  },
  {
   "cell_type": "code",
   "execution_count": 50,
   "metadata": {},
   "outputs": [
    {
     "data": {
      "text/plain": [
       "Dataset({\n",
       "    features: ['sentence1', 'sentence2', 'label', 'idx'],\n",
       "    num_rows: 11\n",
       "})"
      ]
     },
     "execution_count": 50,
     "metadata": {},
     "output_type": "execute_result"
    }
   ],
   "source": [
    "updated_dataset1"
   ]
  },
  {
   "cell_type": "code",
   "execution_count": 52,
   "metadata": {},
   "outputs": [
    {
     "data": {
      "text/plain": [
       "[1, 0, 0, 1, 1, 0, 1, 1]"
      ]
     },
     "execution_count": 52,
     "metadata": {},
     "output_type": "execute_result"
    }
   ],
   "source": [
    "ds_updated[\"train\"][\"label\"]"
   ]
  },
  {
   "cell_type": "code",
   "execution_count": 53,
   "metadata": {},
   "outputs": [
    {
     "data": {
      "text/plain": [
       "[1, 1, 0]"
      ]
     },
     "execution_count": 53,
     "metadata": {},
     "output_type": "execute_result"
    }
   ],
   "source": [
    "ds_updated[\"test\"][\"label\"]"
   ]
  },
  {
   "cell_type": "code",
   "execution_count": null,
   "metadata": {},
   "outputs": [],
   "source": []
  },
  {
   "cell_type": "markdown",
   "metadata": {},
   "source": [
    "## Tokenize using AutoTokenizer"
   ]
  },
  {
   "cell_type": "code",
   "execution_count": 6,
   "metadata": {},
   "outputs": [],
   "source": [
    "def tokenize_function(examples):\n",
    "    return tokenizer(examples[\"text\"], padding=\"max_length\", truncation=True)"
   ]
  },
  {
   "cell_type": "code",
   "execution_count": 7,
   "metadata": {},
   "outputs": [
    {
     "name": "stderr",
     "output_type": "stream",
     "text": [
      "Map: 100%|██████████| 650000/650000 [01:23<00:00, 7763.81 examples/s]\n",
      "Map: 100%|██████████| 50000/50000 [00:06<00:00, 7816.61 examples/s]\n"
     ]
    }
   ],
   "source": [
    "tokenized_datasets = dataset.map(tokenize_function, batched=True)"
   ]
  },
  {
   "cell_type": "code",
   "execution_count": 2,
   "metadata": {},
   "outputs": [
    {
     "name": "stderr",
     "output_type": "stream",
     "text": [
      "/opt/anaconda3/envs/Azure_end_to_end_project/lib/python3.12/site-packages/transformers/tokenization_utils_base.py:1601: FutureWarning: `clean_up_tokenization_spaces` was not set. It will be set to `True` by default. This behavior will be depracted in transformers v4.45, and will be then set to `False` by default. For more details check this issue: https://github.com/huggingface/transformers/issues/31884\n",
      "  warnings.warn(\n"
     ]
    }
   ],
   "source": [
    "tokenizer = AutoTokenizer.from_pretrained(\"google-bert/bert-base-uncased\")"
   ]
  }
 ],
 "metadata": {
  "kernelspec": {
   "display_name": "Azure_end_to_end_project",
   "language": "python",
   "name": "python3"
  },
  "language_info": {
   "codemirror_mode": {
    "name": "ipython",
    "version": 3
   },
   "file_extension": ".py",
   "mimetype": "text/x-python",
   "name": "python",
   "nbconvert_exporter": "python",
   "pygments_lexer": "ipython3",
   "version": "3.12.2"
  }
 },
 "nbformat": 4,
 "nbformat_minor": 2
}
