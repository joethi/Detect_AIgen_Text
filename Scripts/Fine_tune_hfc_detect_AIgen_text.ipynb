{
 "cells": [
  {
   "cell_type": "markdown",
   "metadata": {},
   "source": [
    "# End To End Azure NLP Project: Detect AI Generated Text \n",
    "In this project, I will fine-tune a BERT model to detect AI-generated text and subsequently deploy the model on Azure. The data cleaning is performed in a separate notebook, which can be accessed through the following [link](https://github.com/joethi/Detect_AIgen_Text/blob/31ebf267850f44f6bcbcb8d4a2075858fd7c7dca/Scripts/clean_data_AIgen_hmnwrttn_text.ipynb). For the exploratory data analysis (EDA) portion of this project, please refer to the [link](https://github.com/joethi/Detect_AIgen_Text/blob/31ebf267850f44f6bcbcb8d4a2075858fd7c7dca/Scripts/EDA_bigbrain_ivypandaessays_NLP_git_v2.ipynb)."
   ]
  },
  {
   "cell_type": "code",
   "execution_count": 81,
   "metadata": {},
   "outputs": [],
   "source": [
    "# pip install evaluate"
   ]
  },
  {
   "cell_type": "code",
   "execution_count": 82,
   "metadata": {},
   "outputs": [],
   "source": [
    "import numpy as np\n",
    "import pandas as pd\n",
    "from sklearn import metrics\n",
    "import transformers\n",
    "import torch\n",
    "from torch.utils.data import Dataset, DataLoader, RandomSampler, SequentialSampler\n",
    "from transformers import BertTokenizer, BertModel, BertConfig"
   ]
  },
  {
   "cell_type": "code",
   "execution_count": 83,
   "metadata": {},
   "outputs": [],
   "source": [
    "# # Setting up the device for GPU usage\n",
    "from torch import cuda\n",
    "device = 'cuda' if cuda.is_available() else 'cpu'"
   ]
  },
  {
   "cell_type": "code",
   "execution_count": 84,
   "metadata": {},
   "outputs": [
    {
     "name": "stdout",
     "output_type": "stream",
     "text": [
      "device:  cpu\n"
     ]
    }
   ],
   "source": [
    "print(\"device: \", device)"
   ]
  },
  {
   "cell_type": "markdown",
   "metadata": {},
   "source": [
    "## 1. Prepare the Dataset:"
   ]
  },
  {
   "cell_type": "markdown",
   "metadata": {},
   "source": [
    "### 1.1. Load the Clean Datasets"
   ]
  },
  {
   "cell_type": "code",
   "execution_count": 85,
   "metadata": {},
   "outputs": [],
   "source": [
    "hmn_df = pd.read_csv(\"../Clean_data/human_wrttn_text.csv\")\n",
    "ai_df = pd.read_csv(\"../Clean_data/ai_gen_text.csv\")"
   ]
  },
  {
   "cell_type": "code",
   "execution_count": 86,
   "metadata": {},
   "outputs": [
    {
     "name": "stdout",
     "output_type": "stream",
     "text": [
      "daatset_df:\n",
      "                                                 Text  label\n",
      "0  12 Years a Slave An Analysis of the Film Essay...      0\n",
      "1  20 Social Media Post Ideas to Radically Simpli...      0\n",
      "2  2022 Russian Invasion of Ukraine in Global Med...      0\n",
      "3  533 US 27 2001 Kyllo v United States The Use o...      0\n",
      "4  A Charles Schwab Corporation Case Essay\\n\\nCha...      0\n"
     ]
    }
   ],
   "source": [
    "# Concatenate the Datasets and Change the Feature Type of the Label:\n",
    "from datasets import Dataset, ClassLabel, Features, Value\n",
    "dataset_df = pd.concat([hmn_df, ai_df], ignore_index=True)\n",
    "print(\"daatset_df:\\n\", dataset_df.head())\n",
    "features_chng = Features({\"Text\": Value(\"string\"),\"label\": ClassLabel(num_classes=2,names=[0,1])})\n",
    "dataset = Dataset.from_pandas(dataset_df, features=features_chng)"
   ]
  },
  {
   "cell_type": "code",
   "execution_count": 87,
   "metadata": {},
   "outputs": [
    {
     "data": {
      "text/plain": [
       "{'Text': Value(dtype='string', id=None),\n",
       " 'label': ClassLabel(names=[0, 1], id=None)}"
      ]
     },
     "execution_count": 87,
     "metadata": {},
     "output_type": "execute_result"
    }
   ],
   "source": [
    "type(dataset[0][\"label\"])\n",
    "dataset.features"
   ]
  },
  {
   "cell_type": "code",
   "execution_count": 88,
   "metadata": {},
   "outputs": [],
   "source": [
    "# dataset.class_encode_column('label')\n",
    "# dataset"
   ]
  },
  {
   "cell_type": "markdown",
   "metadata": {},
   "source": [
    "### 1.2. Split the Datasets into Train and Test Dataset:"
   ]
  },
  {
   "cell_type": "code",
   "execution_count": 89,
   "metadata": {},
   "outputs": [
    {
     "name": "stdout",
     "output_type": "stream",
     "text": [
      "train_points:  6 \n",
      "val_points:  1\n"
     ]
    }
   ],
   "source": [
    "train_points = 6\n",
    "val_points = int(int(train_points/0.8) * 0.2)\n",
    "print(\"train_points: \", train_points, \"\\nval_points: \", val_points)\n",
    "dataset_dict = dataset.train_test_split(test_size=0.2, stratify_by_column=\"label\")\n",
    "small_train_dataset = dataset_dict[\"train\"].shuffle(seed=40).select(range(train_points))\n",
    "small_test_dataset = dataset_dict[\"test\"].shuffle(seed=40).select(range(val_points))"
   ]
  },
  {
   "cell_type": "code",
   "execution_count": 90,
   "metadata": {},
   "outputs": [
    {
     "data": {
      "text/plain": [
       "['The correct answer to the question is A tell the lawyer what he did with the money after spending it The article mentions that Hobbs received one thousand dollars from a lawyer and the lawyer informed him that he must bring a paper showing exactly what he did with the money after spending it as per his uncles will Therefore Hobbs was asked to tell the lawyer what he did with the money after spending it',\n",
       " 'History of the Civil War in Sierra Leone Case Study\\n\\nIntroduction Brief History of the Civil War in Sierra Leone\\n\\nThe famous Sierra Leone Civil War erupted in March 1991 lasting for more than a decade before peaceful intervention calmed the prevailing tensions in 2002 The conflict emanated from a move by former Liberian government official Charles Taylor who returned to Liberia with the aim of upsetting the regime in the early 1990s Consequently Taylor’s actions triggered civil unrest that took root in Liberia before spreading to Sierra Leone within a short period Sierra Leone’s rebel army the Revolutionary United Front RUF in collaboration with special forces from Taylor’s previous government associates in the National Patriotic Front of Liberia NPFL sought to overthrow Sierra Leone’s president Joseph Saidu Momoh\\n\\nIn response President Momoh sent his troops to push the rebels fighting for Taylor back into Liberia In the course of events Taylor’s rebels and RUF supporters led by Foday Sankoh a former leader of Sierra Leone’s defense force ambushed Momoh’s army thereby intensifying the conflict A close examination of the civil war reveals the extent to which it exposed Sierra Leone to devastation and adversity while at the same time claiming the lives of over 50000 people\\n\\nMajor Problems of the War\\n\\nThe unrest witnessed in Sierra Leone triggered significant problems disrupting peace in the country for over a decade One notable problem associated with these civil hostilities was the high death rate recorded between 1991 and 2002 Estimates indicate that the civil war in Sierra Leone led to the loss of approximately 30000 to 50000livesand left over 40000 people injured Ainley et al “Transitional Justice” 11\\n\\nWar atrocities and crimes against humanity triggered by perpetrators such as Taylor and his supporters accounted for the massive death count witnessed in Sierra Leone The war also reduced the country’s population to a state of poverty Currently Sierra Leone is considered among the poorest countries in the world in 14th position out of 25 countries having populations subject to extreme poverty Millar 1703 Approximately 70 of citizens in this country live below the poverty line The civil war which spanned slightly over a decade considerably undermined developmental agendas in Sierra Leone despite the country’s possession of valuable natural resources especially diamonds gold and iron ore\\n\\nAfter gaining independence from Great Britain in 1961 Sierra Leone was projected to record substantial growth and development due to its rich resources Ainley et al “Transitional Justice” 9 Thus the civil war that Taylor orchestrated also denoted his interest in diamonds leading to the emergence of the phrase “blood diamonds” As such by targeting the rich resources in Sierra Leone’s eastern provinces Taylor financed rebels and supplied them with arms to gain control of all eastern territories The adverse effects of the confrontations that followed entailed substantial losses at mining centers To date the interest of RUF supporters in controlling mining bases remains evident\\n\\nInternational actors led by the UN participated in Sierra Leone’s civil war to facilitate conflict resolution processes The UN’s relationship with the state as well as the country’s society has been characterized by mixed reactions since some parties express support while others raise concerns regarding its effectiveness in promoting peace and cohesion in Sierra Leone The establishment of the Special Courts for Sierra Leone SCSL through the efforts of the UN in 2002 is regarded as a move that fostered links between the international body the state and its society Evans 168 Nonetheless the composition of the SCSL has been criticized due to the ineffectiveness of the UN in addressing peace and justicerelated issues for the Sierra Leonean society\\n\\nThe Emergence of the Idea of Transitional Justice\\n\\nThe need to restore peace and facilitate reconciliation in Sierra Leone prompted adoption of the idea of transitional justice The legacy of the national war in Sierra Leone has been characterized by intense violence against innocent civilians bloody struggles over the control of the country’s diamond mines the recruitment of child soldiers and the abduction of women and children Other elements that have formed part of this legacy have included sexual slavery and vicious destruction of villages and towns among other adversities This situation called for the adoption of a transitional justice TJ system Evans 173 TJ was aimed at promoting peace and justice in the country by addressing issues triggered by the civil war\\n\\nIn July 1999 the Lomé Peace Agreement was established to facilitate the realization of transitional justice in Sierra Leone The International Center for Transition Justice ICTJ backed the need to establish the Truth and Reconciliation Commission TRC and the Special Court for Sierra Leone SCSL to help in enforcing the Lomé Peace Agreement Evans 180 In addition the idea of transition justice emerged due to the need for establishing truth and reconciliation as well as reparations As a result the TJ concept was seen as a promising platform that provided opportunities to the victims of the civil war to share their experiences with the aim of promoting peace and justice\\n\\nSpecial Courts and the TRC\\n\\nThe SCSL and the TRC constituted the major forms of transitional justice in Sierra Leone These two tribunals simultaneously addressed various issues of peace justice and reconciliation in Sierra Leone following the violent conflict that had afflicted this country for more than a decade The SCSL was created in 2002 after the government of Sierra Leone agreed to collaborate with the UN to bring about peace and justice amid the problems caused by the civil war Evans 184 The major mandate of the SCSL was to address serious crimes perpetrated by particular individuals against innocent civilians The SCSL served as an initial hybrid international criminal tribunal facilitated by the government of Sierra Leone and the UN that sought to scrutinize the parties alleged to have triggered the civil war\\n\\nIn comparison the TRC was created following the establishment of a condition in the Lomé Peace Accord The international community assisted in the development of the TRC due to the need for collaboration in the interest of realizing justice and reconciliation in Sierra Leone Evans 169 The TRC had several mandates it needed to fulfill when working together with the SCSL between 2002 and 2004\\n\\nFor example this body helped to develop a neutral historical account of the violations and abuses of human rights during Sierra Leone’s armed conflict The TRC also focused on addressing the issue of impunity taking care of victims fostering healing and reconciliation and curbing repetition of similar atrocities and abusesThe TRC presented a final report in 2002 to the UN and the government of Sierra Leone capturing the details of its intervention in bringing justice and reconciliation after a decadelong civil war\\n\\nThe Positives and Negatives of the SCSL and the TRC\\n\\nPositives of the SCSL\\n\\nThe establishment of the SCSL embodied a strategy that clarified the issue of ownership when scrutinizing the main perpetrators who violated and abused human rights during the civil war Cohen 3 The formation of the first hybrid tribunal to address justice matters regarding the unrest involved a formal agreement between Sierra Leone and the United Nations Hence the shared ownership of the International Criminal Tribunal eliminated the possibility of conflicts of interests or biases\\n\\nThe SCSL also had a positive impact in promoting peace justice and reconciliation in Sierra Leone after the civil war since it did not experience interference from the national government Cohen 13 thus the efficiency of the processes that the SCSL facilitated can be attributed to a lack of government intrusion Moreover the SCSL successfully conducted capacitybuilding exercises in domestic courts Cohen 22 Financial resources allocated to the SCSL allowed it to establish initiatives that enabled the domestic court system to record substantial improvements\\n\\nNegatives of the SCL\\n\\nThe structural composition of the SCSL could not act as an effective hybrid international criminal tribunal Structurally it consisted of one appeals chamber and two trials chambers Cohen 12 This composition seemed unbalanced in terms of offering limited opportunities for appeals Furthermore the composition of the jury in the SCSL was perceived to be unfair because only two judges from Sierra Leone one in the appeals chambers and the other in the trials chambers participated in the proceedings of the SCSL\\n\\nThe rest of the judges came from the international community promoting a sense of misrepresentation or lack of neutrality Moreover the composition of the prosecution teams mainly constituted members from the international community whereas the defense panel was comprised of Sierra Leonean and international members creating room for compromise in the cases heard by the court\\n\\nPositives of the TRC\\n\\nThe TRC reported key findings to the administration of Sierra Leone and the UN concerning the civil war thus streamlining the SCSL processes Some remarkable results of the TRC included identifying the central causes of the violence which included greed nepotism and corruption Evans 176 The TRC report also provided descriptions of government accountability in targeting civilians the role of diamond resources in the conflict and the underlining inalienability of the right to truth\\n\\nThe TRC also fostered reparations in Sierra Leone after the violent conflict ended It facilitated the implementation of specific programs that enhanced reparation and reconciliation between abusers and the victims of the atrocities that came out of the civil war Friedman 59 For example the TRC identified the beneficiaries of such reparations programs as agricultural assistance and remembrance ceremonies Moreover the TRC offered valuable recommendations that played a central part in mitigating the return of civil war tensions in Sierra Leone Such proposals have helped to foster the accountability of institutions and the adoption of a modern human rights culture in this country Ainley et al “The Potential and Politics” 271 The TRC also encouraged visionary leadership in Sierra Leone\\n\\nNegatives of the TRC\\n\\nThe failure of the government of Sierra Leone to fully implement the recommendations of the TRC illustrates the limitations of the TRC Ainley et al “The Potential and Politics” 269 For example the execution of visionary leadership in Sierra Leone remains poor and close to 70 of the country’s population languishes in abject poverty\\n\\nSpecific Elements Within Transition Justice\\n\\nThe TRC included truth commissions that facilitated the execution of justice initiatives in Sierra Leone For instance the TRC conducted public hearings and communitybased reconciliation Jackson 204 The TRC also boosted connections with the SCSL and the entire justice system in Sierra Leone to promote reforms Evans 181 Collaboration between truth commissions and the SCSL played a crucial role in enhancing legitimacy and reunification after the conclusion of the fierce conflict\\n\\nThe TRC also established various programs to facilitate reparations in Sierra Leone The TRC’s implementation of these compensation initiatives sought to benefit the actual victims of the conflict Jackson 207 in that the TRC focused on meeting the needs of the victims of atrocities as well as dealing with the human rights abuses reported during the civil war\\n\\nInteractions Between the Global and the Local\\n\\nAfter 2002 which marked the end of the civil unrest witnessed in Sierra Leone local and international actors joined to help this country to transition effectively to peace In particular they proposed the need for an operational transitional justice program to integrate legal personalities whose goal would be to establish mechanisms for circumventing similar occurrences in the future  Adityavarman \\n\\nAccomplishing this objective has called for the continued participation of both international and domestic political agencies and individuals who have offered constructive support which has paved way for peacebuilding opportunities and the initiation of efficient approaches to dispensing justice in Sierra Leone According to Ainley et al it is crucial to assess the degree to which transitional justice procedures in this country can be deemed effective “The Potential and Politics” 265 Overall the success of TJ efforts in Sierra Leone will highly depend on the level of dedication sustainable planning and collaboration among local and international actors\\n\\nAinley et al however confirm the existence of difficulties due to the diverse interpretations of parameters that should be considered when appraising the extent of TJ procedures’ efficiency in Sierra Leone “The Potential and Politics” 266 Such challenges can be attributed to the inevitable globalization of transitional justice highlighting the need to factor in interactions on local and global levels The possibility of conflicts especially when the above two levels overlap has been a challenge reported in the interpretation of SCSL rulings and international criminal law Ainley et al “The Potential and Politics” 266 Millar 1703\\n\\nDespite the observed variety of scholarly perspectives it may be wise to gauge the efficacy of TJ procedures based on the legacies established such as SCSL’s efforts to enhance the operations of the International Criminal Tribunal for Rwanda ICTR\\n\\nWhose Justice Is It\\n\\nAccording to Jackson the dispensation of justice in Sierra Leone after the civil war ending in 2002 follows a process characterized by complicated local organizational systems as opposed to globally recognized structures 197 Such issues as the changing nature of these institutions and their excessive dependence on other agencies have contributed to the reported compromised interpretation and dispensation of justice  Adityavarman \\n\\nThe results of Sierra Leone’s justice frameworks and procedures have typically reflected the biased views of the prevailing social systems This situation has contradicted efforts by citizens and statelevel pacts seeking to implement human rights policies Jackson 197 In the context of Sierra Leone the execution of local authority is not fully supported despite its role in helping to accord justice to the country’s marginalized groups including individuals at the village level\\n\\nSpecifically local power has been manifested through court arrangements and the deployment of elders to settle disputes at the rural community level However this strategy of exercising authority in Sierra Leone has been criticized for discriminating against women and young adults because they are given little opportunity to participate in the justice dispensation process an indictment of the entire system’s inefficiency Jackson 197\\n\\nTransitional justice approaches that were deployed postSierra Leone’s civil unrest did not take into account the complex nature of the above configurations  Adityavarman  For example according to Jackson the TRC and the SCSL only focused on dispensing justice to people who lived in Freetown Sierra Leone’s capital 197 As a result this arrangement faced heavy criticism for failing to integrate local structures into transitional justice procedures\\n\\nIn the end the SCLC and the TRC failed to accomplish the mandates they were established to achieve such as working closely with the prevailing conventional systems in Sierra Leone Nonetheless despite efforts by the Justice Sector Development Program JSDP to transform Sierra Leone’s failing justice structures in 2005 the country has yet to develop and implement a strategy that can help in addressing issues regarding the accumulation of cases pitiable documentation approaches and inadequate space in various detention centers Millar 1702 As a result justice should be granted to individuals in rural communities instead of marginalizing them asthe current system has done  Adityavarman  The idea of deploying village elders and chiefs may need to be emphasized because this approach guarantees effective dispensation of justice to Sierra Leone’s countryside population\\n\\nPeace or Justice Are Both Possible\\n\\nScholars have continued to debate the incompatibility of peace and justice especially when applied to any country that like Sierra Leone is characterized by complicated conflicts According to Adityavarman these two goals seem ambiguous due to the implied idea of promoting peace while at the same time demanding that culprits be held responsible for their actions that led to the civil war In the case of a vulnerable country such as Sierra Leone deploying peacebuilding strategies can play a huge role in enhancing reconciliation which highly determines its citizens’ future Jackson 198 Millar 1701\\n\\nAlthough justice may appear to trigger further conflicts including hostility and separation its contribution to the overall goal of fighting unrest in Sierra Leone cannot be underestimated According to Adityavarman peace and justice need to be emphasized due to their capacity to boost stability and lasting progress as this country’s postconflict modernization process proceeds\\n\\nDeploying the two mechanisms simultaneously ensures that Sierra Leone will realize sustainable advancements as it recovers from the consequences of the civil war ending in 2002 However according to Adityavarman  another transitional justice component that cannot be overlooked in the case of Sierra Leone entails the prosecution of wrongdoers This strategy must be deployed by holding all criminals answerable for their illegal actions as a way of averting further excesses in this country Overall peace and justice are possible and worth implementing in Sierra Leone\\n\\nConclusion\\n\\nThe civil war witnessed in Sierra Leone created major problems including high death rates poverty and complex relationships between international actors the state and the society The idea of transitional justice adopted in 2002 led to the formation of the SCSL and the TRC These two agencies worked simultaneously resulting in benefits such as the successful promotion of peace justice and reconciliation capacity building reparations and recommendations Nonetheless some disadvantages of the transitional justice process entailed unbalanced arrangements of judges prosecutors and defense lawyers in the hybrid criminal tribunal Criticism also followed the failure of the government of Sierra Leone to fully implement the recommendations of the country’s truth commission\\n\\nWorks Cited\\n\\nAdityavarman Ranissa editor “ Peace or Justice Transitional Justice in Sierra Leone ” Cornell Policy Review  2018 Web\\n\\nAinley Kirsten et al “The Potential and Politics of Transitional Justice Interactions between the Global and the Local in Evaluations of Success” Evaluating Transitional Justice Rethinking Peace and Conflict Studies edited by Kirsten Ainley et al Palgrave Macmillan 2015 pp 265279\\n\\n— “Transitional Justice in Sierra Leone Theory History and Evaluation” Evaluating Transitional Justice Rethinking Peace and Conflict Studies edited by Kirsten Ainley et al Palgrave Macmillan 2015 pp 118\\n\\nCohen David “Hybrid Justice in East Timor Sierra Leone and Cambodia Lessons Learned and Prospects for the Future” Stanford Journal of International Law vol 43 no 1 2007 pp 138\\n\\nEvans Christine The Right to Reparation in International Law for Victims of Armed Conflict The Role of the UN in Advocating for State Responsibility  Cambridge University Press 2012\\n\\nFriedman Rebekka “Restorative Justice in Sierra Leone Promises and Limitations” Evaluating Transitional Justice Rethinking Peace and Conflict Studies edited by Kirsten Ainley et al Palgrave Macmillan 2015 pp 5576\\n\\nJackson Paul “Whose Justice in Sierra Leone Power Security and Justice in PostConflict Reconstruction” Evaluating Transitional Justice Rethinking Peace and Conflict Studies edited by Kirsten Ainley et al Palgrave Macmillan 2015 pp 197215\\n\\nMillar Gearoid “Investing in Peace Foreign Direct Investment as Economic Restoration in Sierra Leone” Third World Quarterly vol 36 no 9 2015 pp 17001716\\n',\n",
       " 'To find the modular inverse of 4 modulo 21 we need to find an integer x such that 4x equiv 1 pmod21\\n\\nWe can use the extended Euclidean algorithm to find the modular inverse\\n\\nWe start with the equation 21  5 cdot 4  1\\n\\nRearranging we have 1  21  5 cdot 4\\n\\nTaking this equation modulo 21 we get 1 equiv 5 cdot 4 pmod21\\n\\nSo the modular inverse of 4 modulo 21 is 5\\n\\nHowever we want our answer to be between 0 and 20 inclusive\\n\\nSo we add 21 to 5 to get a positive number\\n\\n5  21  16\\n\\nTherefore the modular inverse of 4 modulo 21 is boxed16The answer is 16',\n",
       " 'Step 1 Identify the different pieces of data and categorize them\\n\\nAfter analyzing the data provided I have identified the following categories\\n\\n1 Date 30 August 1996\\n2 Result 31\\n3 Competition 1998 FIFA World Cup qualification\\n4 Number 2\\n5 Opponent Panama\\n6 Name Carlo Corazzin\\n7 Second Date Instance 30 August 1996\\n\\nStep 2 Determine the relationships between the data\\n\\nIn this step I will identify the connections between the different pieces of data The main connection is between the date result competition and opponent data which provide information about a particular football match The name Carlo Corazzin may represent a player involved in the match The number 2 and the second date instance need further analysis for their relevance\\n\\nStep 3 Write a detailed description of the data\\n\\nOn 30th August 1996 a football match took place as part of the 1998 FIFA World Cup qualification competition The game featured two teams one of which was Panama the identified opponent The match ended with a score of 31 but it is unclear which team scored three goals and which scored one\\n\\nCarlo Corazzin possibly a player participating in the match is mentioned in the data However without context it is difficult to ascertain his specific involvement in the game such as whether he scored one of the goals or played a significant role in the match\\n\\nThe number 2 and the second mention of the date 30 August 1996 are not directly related to the datas primary focus The number 2 could potentially signify a ranking or the number of goals scored by a player It might have a connection to Carlo Corazzin but without further context or information its meaning remains unclear Similarly the repeated date does not elaborate further on any of the other data points\\n\\nIn conclusion the provided data primarily focuses on a FIFA World Cup qualification match held on 30 August 1996 featuring an opponent team of Panama with a final score of 31 Carlo Corazzins involvement in the match is mentioned but without context its unclear what specific role he played The significance of the number 2 and the repeated date remain ambiguous without more information',\n",
       " 'Sure To calculate the monthly payment for a loan amount of 30000 with an annual interest rate of 80 and a monthly payment period of 5 years in Excel you can use the PMT function Heres the formula\\n\\n\\nPMTInterest Rate  Number of Periods per Year Total Number of Periods Loan Amount\\n\\n\\nFor your specific scenario the formula will look like this\\n\\n\\nPMT008  12 5  12 30000\\n\\n\\n008  12 calculates the monthly interest rate 5  12 represents the total number of periods 5 years  12 months per year and 30000 is the loan amount\\n\\nThe result of this formula will give you the monthly payment amount for the given loan which for this example is approximately 60829',\n",
       " 'The Rigidity Effects in Organizational Behavior A Multilevel Analysis Research Paper\\n\\nTable of Contents\\n 1 Abstract\\n 2 Introduction\\n 3 Method\\n 4 Results\\n 5 Discussion\\n 6 Conclusion\\n 7 Work Cited\\n\\nAbstract\\n\\nBusiness environment keep on changing with time Many changes have been witnessed forcing other businesses to close even as others to thrive This difference therefore is squarely credited to the management for failing to timely accept the changes within the organization or its environment\\n\\nWhenever a change or a crisis occurs the management team is mandated with the task of acting decisively by either giving directives on how best the organization can effectively adapt to the changes without jeopardizing its noble future and its relation with their customers A business success relies on how fast a company can comply positively with the ever changing environment\\n\\nIntroduction\\n\\nThreat Rigidity Effects in Organization are the reactions of the organization after an unusual trend in the business operating environment These changes can be either in terms of technology employment requirement government policies or market chances such as price or cost of production\\n\\nOn the other hand organizational behavior is the expected reaction from an organization after a certain change in the line of business Some management team in certain organizations tend to not to react swiftly towards the changing business environment because their decision making process is either slow or insensitive Hamblin 323 Most organizations take long to act hence subjecting their organization to hostile operating conditions\\n\\nTechnology and other changes that affect businesses directly have increase crisis in corporate business management because not all the changes they pose to the organization calls for or need quick action to be taken Hamblin 324 This is because some of the changes need to be reexamined and scrutinized carefully\\n\\nAt the same time however corporate bodies should always act on time to avoid unnecessary avoidable losses that might be brought forth by slow decision taking For prudent management corporate institutions should put in place good plans for the coming challenges for effective future management\\n\\nMethod\\n\\nBy observing how two big companies namely The Penn Central Railroad and Evening Post failed in their mission in business environment The reasons why and how these two companies should have managed the crisis that eventually pushed them out of business is considered Also addressed is the prevailing condition at the time and the impact this had on the business\\n\\nResults\\n\\nThe Penn Central Railroad collapsed because they continued with their normal operations schedules without factoring in the oil crises that had a major impact on the company’s line of operation They failed to meet their operational costs while in operation hence leading to a closure of their company\\n\\nOn the other hand Evening Post considered transferring the high cost of production they met during production to their customers Staw Sanderlands and Dutton 503\\n\\nThe price of their end product became more expensive and as a result their customers could not afford it Sales dropped significantly hence a major negative profit drop was experienced They were no longer able to meet their daily operational costs and these resulted to the closure of their company\\n\\nDiscussion\\n\\nAlthough failure is part of life in business failure is one factor that is not given a chance at all costs Managers are employed by companies to steer the company towards the path of success The prime reason of a company to engage itself in any form of business is to make profit and a steady continuation of its operations\\n\\nAny possible threat to the core interest of any corporate body should be dealt with on time and effectively Despite this noble knowledge that is expected to be owned by those who are at management level assumptions and lack of proper and timely information regarding this guide tends to be misleading\\n\\nThe Penn Central Railroad is a living example of threat rigidity effects in an organization that brought it down The Penn Central Railroad a transport company was hard hit by the oil crises The company’s decision makers believed that the harsh and unbearable cost of giving their services would soon come down\\n\\nInstead of this transport company transferring the cost of service delivery to the customer or cutting down their operations they were rigid and not willing to change positively to counter the threat that was haunting them The cost of production went high to unexpected limits Profits shrunk and the company could no longer operate within its means Straw et al 511\\n\\nDuring this challenging economic time Railroad management board continued to pay dividend to their shareholders and heavy salaries to their workers The continuity spirit was not considered in any way The threats posed by the oil prices did not make them divert or changed the company strategies in stead they pushed on to their goals blindly\\n\\nRailroad could have reduced their operation costs to avoid heavy losses or transferred the costs to the consumers of their services Also the number of employees could have been reduced not to mention that the management could have avoided paying dividends to the shareholders because dividends can only be paid if a company had or is making profits in a certain stipulated financial period\\n\\nAfter realizing their situation albeit late they abruptly decided to merge with other like minded companies This reasoning was not perfect because on their side they were not stable from within They failed miserably in that mission and they could not be able to continue with their operations\\n\\nIn the other case of Evening Post News paper Company the management was rigid to their objectives of increasing the prices of their products in the market without putting into consideration the quality which remained constant irrespective of the price change The consumer’s ability to continue enjoying their services was not put into consideration\\n\\nFor this newspaper company to continue making profit readers must be willing and able to consume their services In their case the ability of the reader to buy their newspaper was compromised hence no massive sales were made Consumers are motivated by attaining the value of their money in whichever product they consume in the market\\n\\nThe Evening Post Company could have put more consideration on the quality of their paper first before increasing the value of their product to the customers Customer retaining skills were not promptly used to cover the ensuing losses owing to a loss of customers’ loyalty Hall 186\\n\\nThe company could have concentrated on producing more quality paper that could be easy to move in the market rather than producing less and of substandard quality paper\\n\\nTheir profits could have only been maximized by selling more affordable papers other than producing more expensive paper that were not selling as fast They failed to understand the changing competitive environment from the other market players but instead stack to their prices and quality to maintain their customers Hall 187\\n\\nThe organizational behavior by multilevel analysis shows that for a company to successfully achieve its goals and objectives through friendly and unfriendly environment it must be willing to be flexible Although all companies are guided by well stipulated rules and regulations they must be willing to change with the environment Hall 187\\n\\nFailure to change with time these companies should expect either to be edged out in business by their competitors or collapse due to their inability to cope with the new business environment For example if the above mention company were flexible and not rigid to their old principles in their line of production could have managed to survive the threats that they were facing\\n\\nThe decision making process should also be harmonized to favor the management when a threat is noted The decision making process take long to arrive to the most favorable decision hence an able to shield the company from potential risks Divisional managers should be liable of their area of operation This will therefore ease the decision making process that might take long consulting to the seniors or even shareholders\\n\\nSlow decision making have resulted in the collapse of many companies and there is the need to reverse this trend At the same time right and timely information is paramount in any business Strategists should help the company to oversee the future by providing the right information to the management and planners in the organization\\n\\nThis factor therefore will help managers and planers put in place the right measure to counter the foreseeable risks In case of an unavoidable risk proper risk control measures should be implemented to shield the company from massive destruction of its programs All possible counter measures should be put on board for the sake of company continuity and prosperity\\n\\nThe decision on whether to cut down there production or to rebrand their products can be decided only to survive a harsh business environment By so doing corporate should first consider the flow of the same or more quality service they offer to the customers Bourgeois McAllister and Mitchell 509 There should be no halts of the follow of the products or service to their loyal customer while implementing changes\\n\\nFeedback is another important source of reliable information for an operating company This program shows the customers’ reactions in comparison with the company performance Improvements should be made as first as possible when alarms are raised by customers\\n\\nWhile the company is growing feedback is important because one can easily note the unsatisfied and dissatisfied customers and therefore improve on that effect The customer’s wish is paramount and should always be put in to force while making any decision\\n\\nThe image of the company is equally portrayed by its workers If a company fails to change or improve on the relationship between the workers managers and the share holders among others that company will repute badly to them and no one will be will be willing to relate with it Hannan and Freeman 130\\n\\nWorkers may fail to keep and maintain the standards of the company if the company itself fails to motivate them equally with the contribution they offer to the company Some managers tend to remain on the old fashioned motivational processes without considering the changes in business environment among other related areas that the workers are involved in\\n\\nCompanies should considers their employees fairly and enhance good communication as per the changes in economic situations for them to maintain a good working force in their company Also the employees’ pay should be relevant to the profits made by the company Hamblin 326 This will help attain good labor force as well as retaining the best workers for a company prominent future\\n\\nConclusion\\n\\nThe most prudent management should act as a phase of change while managing a cooperate body Flexibility and timely decisions should always be put in place always when the need arise Change is inevitable and as such this concept should be kept practiced and always guided towards ensuring that the organization changes with the prevailing changes in their respective business environment\\n\\nPositive growth will only be achieved when and only if the decision makers allow changes to take its course All threats that stand to change the company course should be allowed to take place but within the companies goals objectives and vision\\n\\nWork Cited\\n\\nBourgeois John McAllister Daniel and Mitchell Terence The Effects of Different Organizational Environments upon Decisions about Organizational Structure The Academy of Management Journal  2131978 508514\\n\\nHall Roger A System Pathology of an Organization The Rise and Fall of the Old Saturday Evening Post Administrative Science Quarterly  21 21976 185211\\n\\nHamblin Robert Leadership and Crises Sociometry  2141958 322335\\n\\nHannan Michael and Freeman John The Population Ecology of Organizations The American Journal of Sociology  82 51977 929964\\n\\nStaw Barry Sanderlands Lance and Dutton Jane Threat Rigidity Effects in Organizational Behavior A Multilevel Analysis Administrative Science Quarterly  26 41981 501524\\n']"
      ]
     },
     "execution_count": 90,
     "metadata": {},
     "output_type": "execute_result"
    }
   ],
   "source": [
    "small_train_dataset[\"Text\"]"
   ]
  },
  {
   "cell_type": "code",
   "execution_count": 91,
   "metadata": {},
   "outputs": [
    {
     "data": {
      "text/plain": [
       "[1, 0, 1, 1, 1, 0]"
      ]
     },
     "execution_count": 91,
     "metadata": {},
     "output_type": "execute_result"
    }
   ],
   "source": [
    "small_train_dataset[\"label\"]"
   ]
  },
  {
   "cell_type": "code",
   "execution_count": 92,
   "metadata": {},
   "outputs": [
    {
     "data": {
      "text/plain": [
       "DatasetDict({\n",
       "    train: Dataset({\n",
       "        features: ['Text', 'label'],\n",
       "        num_rows: 205268\n",
       "    })\n",
       "    test: Dataset({\n",
       "        features: ['Text', 'label'],\n",
       "        num_rows: 51318\n",
       "    })\n",
       "})"
      ]
     },
     "execution_count": 92,
     "metadata": {},
     "output_type": "execute_result"
    }
   ],
   "source": [
    "dataset_dict"
   ]
  },
  {
   "cell_type": "markdown",
   "metadata": {},
   "source": [
    "### 1.3. Tokenize the Datasets:"
   ]
  },
  {
   "cell_type": "code",
   "execution_count": 93,
   "metadata": {},
   "outputs": [
    {
     "name": "stderr",
     "output_type": "stream",
     "text": [
      "/opt/anaconda3/envs/Azure_end_to_end_project/lib/python3.12/site-packages/transformers/tokenization_utils_base.py:1601: FutureWarning: `clean_up_tokenization_spaces` was not set. It will be set to `True` by default. This behavior will be depracted in transformers v4.45, and will be then set to `False` by default. For more details check this issue: https://github.com/huggingface/transformers/issues/31884\n",
      "  warnings.warn(\n"
     ]
    }
   ],
   "source": [
    "from transformers import AutoTokenizer\n",
    "tokenizer = AutoTokenizer.from_pretrained(\"google-bert/bert-base-uncased\")"
   ]
  },
  {
   "cell_type": "code",
   "execution_count": 94,
   "metadata": {},
   "outputs": [],
   "source": [
    "def tokenize_function(examples):\n",
    "    return tokenizer(examples[\"Text\"], padding=\"max_length\", truncation=True)"
   ]
  },
  {
   "cell_type": "code",
   "execution_count": 95,
   "metadata": {},
   "outputs": [
    {
     "name": "stderr",
     "output_type": "stream",
     "text": [
      "Map: 100%|██████████| 6/6 [00:00<00:00, 388.63 examples/s]\n",
      "Map: 100%|██████████| 1/1 [00:00<00:00, 539.32 examples/s]\n"
     ]
    }
   ],
   "source": [
    "tokenized_sml_trn_ds = small_train_dataset.map(tokenize_function, batched=True)\n",
    "tokenized_sml_tst_ds = small_test_dataset.map(tokenize_function, batched=True)"
   ]
  },
  {
   "cell_type": "code",
   "execution_count": 96,
   "metadata": {},
   "outputs": [
    {
     "data": {
      "text/plain": [
       "'[CLS] the correct answer to the question is a tell the lawyer what he did with the money after spending it the article mentions that hobbs received one thousand dollars from a lawyer and the lawyer informed him that he must bring a paper showing exactly what he did with the money after spending it as per his uncles will therefore hobbs was asked to tell the lawyer what he did with the money after spending it [SEP] [PAD] [PAD] [PAD] [PAD] [PAD] [PAD] [PAD] [PAD] [PAD] [PAD] [PAD] [PAD] [PAD] [PAD] [PAD] [PAD] [PAD] [PAD] [PAD] [PAD] [PAD] [PAD] [PAD] [PAD] [PAD] [PAD] [PAD] [PAD] [PAD] [PAD] [PAD] [PAD] [PAD] [PAD] [PAD] [PAD] [PAD] [PAD] [PAD] [PAD] [PAD] [PAD] [PAD] [PAD] [PAD] [PAD] [PAD] [PAD] [PAD] [PAD] [PAD] [PAD] [PAD] [PAD] [PAD] [PAD] [PAD] [PAD] [PAD] [PAD] [PAD] [PAD] [PAD] [PAD] [PAD] [PAD] [PAD] [PAD] [PAD] [PAD] [PAD] [PAD] [PAD] [PAD] [PAD] [PAD] [PAD] [PAD] [PAD] [PAD] [PAD] [PAD] [PAD] [PAD] [PAD] [PAD] [PAD] [PAD] [PAD] [PAD] [PAD] [PAD] [PAD] [PAD] [PAD] [PAD] [PAD] [PAD] [PAD] [PAD] [PAD] [PAD] [PAD] [PAD] [PAD] [PAD] [PAD] [PAD] [PAD] [PAD] [PAD] [PAD] [PAD] [PAD] [PAD] [PAD] [PAD] [PAD] [PAD] [PAD] [PAD] [PAD] [PAD] [PAD] [PAD] [PAD] [PAD] [PAD] [PAD] [PAD] [PAD] [PAD] [PAD] [PAD] [PAD] [PAD] [PAD] [PAD] [PAD] [PAD] [PAD] [PAD] [PAD] [PAD] [PAD] [PAD] [PAD] [PAD] [PAD] [PAD] [PAD] [PAD] [PAD] [PAD] [PAD] [PAD] [PAD] [PAD] [PAD] [PAD] [PAD] [PAD] [PAD] [PAD] [PAD] [PAD] [PAD] [PAD] [PAD] [PAD] [PAD] [PAD] [PAD] [PAD] [PAD] [PAD] [PAD] [PAD] [PAD] [PAD] [PAD] [PAD] [PAD] [PAD] [PAD] [PAD] [PAD] [PAD] [PAD] [PAD] [PAD] [PAD] [PAD] [PAD] [PAD] [PAD] [PAD] [PAD] [PAD] [PAD] [PAD] [PAD] [PAD] [PAD] [PAD] [PAD] [PAD] [PAD] [PAD] [PAD] [PAD] [PAD] [PAD] [PAD] [PAD] [PAD] [PAD] [PAD] [PAD] [PAD] [PAD] [PAD] [PAD] [PAD] [PAD] [PAD] [PAD] [PAD] [PAD] [PAD] [PAD] [PAD] [PAD] [PAD] [PAD] [PAD] [PAD] [PAD] [PAD] [PAD] [PAD] [PAD] [PAD] [PAD] [PAD] [PAD] [PAD] [PAD] [PAD] [PAD] [PAD] [PAD] [PAD] [PAD] [PAD] [PAD] [PAD] [PAD] [PAD] [PAD] [PAD] [PAD] [PAD] [PAD] [PAD] [PAD] [PAD] [PAD] [PAD] [PAD] [PAD] [PAD] [PAD] [PAD] [PAD] [PAD] [PAD] [PAD] [PAD] [PAD] [PAD] [PAD] [PAD] [PAD] [PAD] [PAD] [PAD] [PAD] [PAD] [PAD] [PAD] [PAD] [PAD] [PAD] [PAD] [PAD] [PAD] [PAD] [PAD] [PAD] [PAD] [PAD] [PAD] [PAD] [PAD] [PAD] [PAD] [PAD] [PAD] [PAD] [PAD] [PAD] [PAD] [PAD] [PAD] [PAD] [PAD] [PAD] [PAD] [PAD] [PAD] [PAD] [PAD] [PAD] [PAD] [PAD] [PAD] [PAD] [PAD] [PAD] [PAD] [PAD] [PAD] [PAD] [PAD] [PAD] [PAD] [PAD] [PAD] [PAD] [PAD] [PAD] [PAD] [PAD] [PAD] [PAD] [PAD] [PAD] [PAD] [PAD] [PAD] [PAD] [PAD] [PAD] [PAD] [PAD] [PAD] [PAD] [PAD] [PAD] [PAD] [PAD] [PAD] [PAD] [PAD] [PAD] [PAD] [PAD] [PAD] [PAD] [PAD] [PAD] [PAD] [PAD] [PAD] [PAD] [PAD] [PAD] [PAD] [PAD] [PAD] [PAD] [PAD] [PAD] [PAD] [PAD] [PAD] [PAD] [PAD] [PAD] [PAD] [PAD] [PAD] [PAD] [PAD] [PAD] [PAD] [PAD] [PAD] [PAD] [PAD] [PAD] [PAD] [PAD] [PAD] [PAD] [PAD] [PAD] [PAD] [PAD] [PAD] [PAD] [PAD] [PAD] [PAD] [PAD] [PAD] [PAD] [PAD] [PAD] [PAD] [PAD] [PAD] [PAD] [PAD] [PAD] [PAD] [PAD] [PAD] [PAD] [PAD] [PAD] [PAD] [PAD]'"
      ]
     },
     "execution_count": 96,
     "metadata": {},
     "output_type": "execute_result"
    }
   ],
   "source": [
    "tokenizer.decode(tokenized_sml_trn_ds[\"input_ids\"][0])"
   ]
  },
  {
   "cell_type": "code",
   "execution_count": 97,
   "metadata": {},
   "outputs": [],
   "source": [
    "# [len(tokenized_sml_trn_ds[\"input_ids\"][i]) for i in range(1000)]"
   ]
  },
  {
   "cell_type": "markdown",
   "metadata": {},
   "source": [
    "## 2. Train the Model using Native PyTorch:"
   ]
  },
  {
   "cell_type": "markdown",
   "metadata": {},
   "source": [
    "### 2.1. Preprocessing Datasets for Integration with Hugging Face Models"
   ]
  },
  {
   "cell_type": "code",
   "execution_count": 98,
   "metadata": {},
   "outputs": [],
   "source": [
    "# Remove the columns named \"Text\" since the model won't accept the text strings.\n",
    "tokenized_sml_trn_ds = tokenized_sml_trn_ds.remove_columns([\"Text\"])\n",
    "tokenized_sml_tst_ds = tokenized_sml_tst_ds.remove_columns([\"Text\"])"
   ]
  },
  {
   "cell_type": "code",
   "execution_count": 99,
   "metadata": {},
   "outputs": [
    {
     "data": {
      "text/plain": [
       "Dataset({\n",
       "    features: ['label', 'input_ids', 'token_type_ids', 'attention_mask'],\n",
       "    num_rows: 1\n",
       "})"
      ]
     },
     "execution_count": 99,
     "metadata": {},
     "output_type": "execute_result"
    }
   ],
   "source": [
    "tokenized_sml_trn_ds\n",
    "tokenized_sml_tst_ds"
   ]
  },
  {
   "cell_type": "code",
   "execution_count": 100,
   "metadata": {},
   "outputs": [],
   "source": [
    "# Rename the column name \"label\" to \"labels\" as this is expected for the model input.\n",
    "tokenized_sml_trn_ds = tokenized_sml_trn_ds.rename_column(\"label\",\"labels\")\n",
    "tokenized_sml_tst_ds = tokenized_sml_tst_ds.rename_column(\"label\",\"labels\")"
   ]
  },
  {
   "cell_type": "code",
   "execution_count": 101,
   "metadata": {},
   "outputs": [
    {
     "data": {
      "text/plain": [
       "Dataset({\n",
       "    features: ['labels', 'input_ids', 'token_type_ids', 'attention_mask'],\n",
       "    num_rows: 6\n",
       "})"
      ]
     },
     "execution_count": 101,
     "metadata": {},
     "output_type": "execute_result"
    }
   ],
   "source": [
    "tokenized_sml_trn_ds"
   ]
  },
  {
   "cell_type": "code",
   "execution_count": 102,
   "metadata": {},
   "outputs": [
    {
     "data": {
      "text/plain": [
       "Dataset({\n",
       "    features: ['labels', 'input_ids', 'token_type_ids', 'attention_mask'],\n",
       "    num_rows: 1\n",
       "})"
      ]
     },
     "execution_count": 102,
     "metadata": {},
     "output_type": "execute_result"
    }
   ],
   "source": [
    "tokenized_sml_tst_ds"
   ]
  },
  {
   "cell_type": "code",
   "execution_count": 103,
   "metadata": {},
   "outputs": [],
   "source": [
    "# Set the Data Format to Torch:\n",
    "tokenized_sml_trn_ds.set_format(\"torch\")\n",
    "tokenized_sml_tst_ds.set_format(\"torch\")"
   ]
  },
  {
   "cell_type": "code",
   "execution_count": 104,
   "metadata": {},
   "outputs": [
    {
     "data": {
      "text/plain": [
       "tensor([ 101, 1996, 6149, 3437, 2000])"
      ]
     },
     "execution_count": 104,
     "metadata": {},
     "output_type": "execute_result"
    }
   ],
   "source": [
    "tokenized_sml_trn_ds[\"input_ids\"][0][:5]"
   ]
  },
  {
   "cell_type": "markdown",
   "metadata": {},
   "source": [
    "### 2.2. Prepare the DataLoader\n"
   ]
  },
  {
   "cell_type": "code",
   "execution_count": 105,
   "metadata": {},
   "outputs": [],
   "source": [
    "from torch.utils.data import DataLoader\n",
    "train_dataloader = DataLoader(tokenized_sml_trn_ds, shuffle=True, batch_size=8)\n",
    "eval_dataloader = DataLoader(tokenized_sml_tst_ds, shuffle=True, batch_size=8)"
   ]
  },
  {
   "cell_type": "markdown",
   "metadata": {},
   "source": [
    "### 2.3. Prepare the Model"
   ]
  },
  {
   "cell_type": "code",
   "execution_count": 106,
   "metadata": {},
   "outputs": [
    {
     "name": "stderr",
     "output_type": "stream",
     "text": [
      "A parameter name that contains `beta` will be renamed internally to `bias`. Please use a different name to suppress this warning.\n",
      "A parameter name that contains `gamma` will be renamed internally to `weight`. Please use a different name to suppress this warning.\n",
      "A parameter name that contains `beta` will be renamed internally to `bias`. Please use a different name to suppress this warning.\n",
      "A parameter name that contains `gamma` will be renamed internally to `weight`. Please use a different name to suppress this warning.\n",
      "A parameter name that contains `beta` will be renamed internally to `bias`. Please use a different name to suppress this warning.\n",
      "A parameter name that contains `gamma` will be renamed internally to `weight`. Please use a different name to suppress this warning.\n",
      "A parameter name that contains `beta` will be renamed internally to `bias`. Please use a different name to suppress this warning.\n",
      "A parameter name that contains `gamma` will be renamed internally to `weight`. Please use a different name to suppress this warning.\n",
      "A parameter name that contains `beta` will be renamed internally to `bias`. Please use a different name to suppress this warning.\n",
      "A parameter name that contains `gamma` will be renamed internally to `weight`. Please use a different name to suppress this warning.\n",
      "A parameter name that contains `beta` will be renamed internally to `bias`. Please use a different name to suppress this warning.\n",
      "A parameter name that contains `gamma` will be renamed internally to `weight`. Please use a different name to suppress this warning.\n",
      "A parameter name that contains `beta` will be renamed internally to `bias`. Please use a different name to suppress this warning.\n",
      "A parameter name that contains `gamma` will be renamed internally to `weight`. Please use a different name to suppress this warning.\n",
      "A parameter name that contains `beta` will be renamed internally to `bias`. Please use a different name to suppress this warning.\n",
      "A parameter name that contains `gamma` will be renamed internally to `weight`. Please use a different name to suppress this warning.\n",
      "A parameter name that contains `beta` will be renamed internally to `bias`. Please use a different name to suppress this warning.\n",
      "A parameter name that contains `gamma` will be renamed internally to `weight`. Please use a different name to suppress this warning.\n",
      "A parameter name that contains `beta` will be renamed internally to `bias`. Please use a different name to suppress this warning.\n",
      "A parameter name that contains `gamma` will be renamed internally to `weight`. Please use a different name to suppress this warning.\n",
      "A parameter name that contains `beta` will be renamed internally to `bias`. Please use a different name to suppress this warning.\n",
      "A parameter name that contains `gamma` will be renamed internally to `weight`. Please use a different name to suppress this warning.\n",
      "A parameter name that contains `beta` will be renamed internally to `bias`. Please use a different name to suppress this warning.\n",
      "A parameter name that contains `gamma` will be renamed internally to `weight`. Please use a different name to suppress this warning.\n",
      "A parameter name that contains `beta` will be renamed internally to `bias`. Please use a different name to suppress this warning.\n",
      "A parameter name that contains `gamma` will be renamed internally to `weight`. Please use a different name to suppress this warning.\n",
      "A parameter name that contains `beta` will be renamed internally to `bias`. Please use a different name to suppress this warning.\n",
      "A parameter name that contains `gamma` will be renamed internally to `weight`. Please use a different name to suppress this warning.\n",
      "A parameter name that contains `beta` will be renamed internally to `bias`. Please use a different name to suppress this warning.\n",
      "A parameter name that contains `gamma` will be renamed internally to `weight`. Please use a different name to suppress this warning.\n",
      "A parameter name that contains `beta` will be renamed internally to `bias`. Please use a different name to suppress this warning.\n",
      "A parameter name that contains `gamma` will be renamed internally to `weight`. Please use a different name to suppress this warning.\n",
      "A parameter name that contains `beta` will be renamed internally to `bias`. Please use a different name to suppress this warning.\n",
      "A parameter name that contains `gamma` will be renamed internally to `weight`. Please use a different name to suppress this warning.\n",
      "A parameter name that contains `beta` will be renamed internally to `bias`. Please use a different name to suppress this warning.\n",
      "A parameter name that contains `gamma` will be renamed internally to `weight`. Please use a different name to suppress this warning.\n",
      "A parameter name that contains `beta` will be renamed internally to `bias`. Please use a different name to suppress this warning.\n",
      "A parameter name that contains `gamma` will be renamed internally to `weight`. Please use a different name to suppress this warning.\n",
      "A parameter name that contains `beta` will be renamed internally to `bias`. Please use a different name to suppress this warning.\n",
      "A parameter name that contains `gamma` will be renamed internally to `weight`. Please use a different name to suppress this warning.\n",
      "A parameter name that contains `beta` will be renamed internally to `bias`. Please use a different name to suppress this warning.\n",
      "A parameter name that contains `gamma` will be renamed internally to `weight`. Please use a different name to suppress this warning.\n",
      "A parameter name that contains `beta` will be renamed internally to `bias`. Please use a different name to suppress this warning.\n",
      "A parameter name that contains `gamma` will be renamed internally to `weight`. Please use a different name to suppress this warning.\n",
      "A parameter name that contains `beta` will be renamed internally to `bias`. Please use a different name to suppress this warning.\n",
      "A parameter name that contains `gamma` will be renamed internally to `weight`. Please use a different name to suppress this warning.\n",
      "A parameter name that contains `beta` will be renamed internally to `bias`. Please use a different name to suppress this warning.\n",
      "A parameter name that contains `gamma` will be renamed internally to `weight`. Please use a different name to suppress this warning.\n",
      "A parameter name that contains `beta` will be renamed internally to `bias`. Please use a different name to suppress this warning.\n",
      "A parameter name that contains `gamma` will be renamed internally to `weight`. Please use a different name to suppress this warning.\n",
      "A parameter name that contains `beta` will be renamed internally to `bias`. Please use a different name to suppress this warning.\n",
      "A parameter name that contains `gamma` will be renamed internally to `weight`. Please use a different name to suppress this warning.\n",
      "Some weights of BertForSequenceClassification were not initialized from the model checkpoint at google-bert/bert-base-uncased and are newly initialized: ['classifier.bias', 'classifier.weight']\n",
      "You should probably TRAIN this model on a down-stream task to be able to use it for predictions and inference.\n"
     ]
    }
   ],
   "source": [
    "from transformers import AutoModelForSequenceClassification\n",
    "model = AutoModelForSequenceClassification.from_pretrained(\"google-bert/bert-base-uncased\", num_labels=2)"
   ]
  },
  {
   "cell_type": "code",
   "execution_count": 107,
   "metadata": {},
   "outputs": [],
   "source": [
    "from torch.optim import AdamW\n",
    "optimizer = AdamW(model.parameters(), lr=5e-5)"
   ]
  },
  {
   "cell_type": "code",
   "execution_count": 108,
   "metadata": {},
   "outputs": [],
   "source": [
    "from transformers import get_scheduler\n",
    "num_epochs = 20\n",
    "num_training_steps = num_epochs * len(train_dataloader)\n",
    "lr_scheduler = get_scheduler(\n",
    "    name=\"linear\", optimizer=optimizer, num_warmup_steps=0, num_training_steps=num_training_steps)"
   ]
  },
  {
   "cell_type": "code",
   "execution_count": 109,
   "metadata": {},
   "outputs": [
    {
     "data": {
      "text/plain": [
       "BertForSequenceClassification(\n",
       "  (bert): BertModel(\n",
       "    (embeddings): BertEmbeddings(\n",
       "      (word_embeddings): Embedding(30522, 768, padding_idx=0)\n",
       "      (position_embeddings): Embedding(512, 768)\n",
       "      (token_type_embeddings): Embedding(2, 768)\n",
       "      (LayerNorm): LayerNorm((768,), eps=1e-12, elementwise_affine=True)\n",
       "      (dropout): Dropout(p=0.1, inplace=False)\n",
       "    )\n",
       "    (encoder): BertEncoder(\n",
       "      (layer): ModuleList(\n",
       "        (0-11): 12 x BertLayer(\n",
       "          (attention): BertAttention(\n",
       "            (self): BertSdpaSelfAttention(\n",
       "              (query): Linear(in_features=768, out_features=768, bias=True)\n",
       "              (key): Linear(in_features=768, out_features=768, bias=True)\n",
       "              (value): Linear(in_features=768, out_features=768, bias=True)\n",
       "              (dropout): Dropout(p=0.1, inplace=False)\n",
       "            )\n",
       "            (output): BertSelfOutput(\n",
       "              (dense): Linear(in_features=768, out_features=768, bias=True)\n",
       "              (LayerNorm): LayerNorm((768,), eps=1e-12, elementwise_affine=True)\n",
       "              (dropout): Dropout(p=0.1, inplace=False)\n",
       "            )\n",
       "          )\n",
       "          (intermediate): BertIntermediate(\n",
       "            (dense): Linear(in_features=768, out_features=3072, bias=True)\n",
       "            (intermediate_act_fn): GELUActivation()\n",
       "          )\n",
       "          (output): BertOutput(\n",
       "            (dense): Linear(in_features=3072, out_features=768, bias=True)\n",
       "            (LayerNorm): LayerNorm((768,), eps=1e-12, elementwise_affine=True)\n",
       "            (dropout): Dropout(p=0.1, inplace=False)\n",
       "          )\n",
       "        )\n",
       "      )\n",
       "    )\n",
       "    (pooler): BertPooler(\n",
       "      (dense): Linear(in_features=768, out_features=768, bias=True)\n",
       "      (activation): Tanh()\n",
       "    )\n",
       "  )\n",
       "  (dropout): Dropout(p=0.1, inplace=False)\n",
       "  (classifier): Linear(in_features=768, out_features=2, bias=True)\n",
       ")"
      ]
     },
     "execution_count": 109,
     "metadata": {},
     "output_type": "execute_result"
    }
   ],
   "source": [
    "device = torch.device(\"cuda\") if torch.cuda.is_available() else torch.device(\"cpu\")\n",
    "model.to(device)"
   ]
  },
  {
   "cell_type": "markdown",
   "metadata": {},
   "source": [
    "### 2.4. Training Loop:"
   ]
  },
  {
   "cell_type": "code",
   "execution_count": 123,
   "metadata": {},
   "outputs": [],
   "source": [
    "# pip install matplotlib"
   ]
  },
  {
   "cell_type": "code",
   "execution_count": 111,
   "metadata": {},
   "outputs": [
    {
     "name": "stderr",
     "output_type": "stream",
     "text": [
      "100%|██████████| 20/20 [02:18<00:00,  6.91s/it]\n",
      "  5%|▌         | 1/20 [00:03<01:11,  3.76s/it]"
     ]
    },
    {
     "name": "stdout",
     "output_type": "stream",
     "text": [
      "epoch: 0, loss: 0.838150680065155\n"
     ]
    },
    {
     "name": "stderr",
     "output_type": "stream",
     "text": [
      " 10%|█         | 2/20 [00:07<01:04,  3.56s/it]"
     ]
    },
    {
     "name": "stdout",
     "output_type": "stream",
     "text": [
      "epoch: 1, loss: 0.6255324482917786\n"
     ]
    },
    {
     "name": "stderr",
     "output_type": "stream",
     "text": [
      " 15%|█▌        | 3/20 [00:10<00:59,  3.48s/it]"
     ]
    },
    {
     "name": "stdout",
     "output_type": "stream",
     "text": [
      "epoch: 2, loss: 0.5137391686439514\n"
     ]
    },
    {
     "name": "stderr",
     "output_type": "stream",
     "text": [
      " 20%|██        | 4/20 [00:13<00:55,  3.44s/it]"
     ]
    },
    {
     "name": "stdout",
     "output_type": "stream",
     "text": [
      "epoch: 3, loss: 0.38279780745506287\n"
     ]
    },
    {
     "name": "stderr",
     "output_type": "stream",
     "text": [
      " 25%|██▌       | 5/20 [00:17<00:51,  3.42s/it]"
     ]
    },
    {
     "name": "stdout",
     "output_type": "stream",
     "text": [
      "epoch: 4, loss: 0.3321742117404938\n"
     ]
    },
    {
     "name": "stderr",
     "output_type": "stream",
     "text": [
      " 30%|███       | 6/20 [00:20<00:47,  3.40s/it]"
     ]
    },
    {
     "name": "stdout",
     "output_type": "stream",
     "text": [
      "epoch: 5, loss: 0.26399853825569153\n"
     ]
    },
    {
     "name": "stderr",
     "output_type": "stream",
     "text": [
      " 35%|███▌      | 7/20 [00:24<00:44,  3.39s/it]"
     ]
    },
    {
     "name": "stdout",
     "output_type": "stream",
     "text": [
      "epoch: 6, loss: 0.2573760449886322\n"
     ]
    },
    {
     "name": "stderr",
     "output_type": "stream",
     "text": [
      " 40%|████      | 8/20 [00:27<00:40,  3.37s/it]"
     ]
    },
    {
     "name": "stdout",
     "output_type": "stream",
     "text": [
      "epoch: 7, loss: 0.23181475698947906\n"
     ]
    },
    {
     "name": "stderr",
     "output_type": "stream",
     "text": [
      " 45%|████▌     | 9/20 [00:30<00:37,  3.37s/it]"
     ]
    },
    {
     "name": "stdout",
     "output_type": "stream",
     "text": [
      "epoch: 8, loss: 0.19910061359405518\n"
     ]
    },
    {
     "name": "stderr",
     "output_type": "stream",
     "text": [
      " 50%|█████     | 10/20 [00:34<00:33,  3.38s/it]"
     ]
    },
    {
     "name": "stdout",
     "output_type": "stream",
     "text": [
      "epoch: 9, loss: 0.16111303865909576\n"
     ]
    },
    {
     "name": "stderr",
     "output_type": "stream",
     "text": [
      " 55%|█████▌    | 11/20 [00:37<00:30,  3.38s/it]"
     ]
    },
    {
     "name": "stdout",
     "output_type": "stream",
     "text": [
      "epoch: 10, loss: 0.1559191197156906\n"
     ]
    },
    {
     "name": "stderr",
     "output_type": "stream",
     "text": [
      " 60%|██████    | 12/20 [00:40<00:27,  3.38s/it]"
     ]
    },
    {
     "name": "stdout",
     "output_type": "stream",
     "text": [
      "epoch: 11, loss: 0.1348467618227005\n"
     ]
    },
    {
     "name": "stderr",
     "output_type": "stream",
     "text": [
      " 65%|██████▌   | 13/20 [00:44<00:24,  3.44s/it]"
     ]
    },
    {
     "name": "stdout",
     "output_type": "stream",
     "text": [
      "epoch: 12, loss: 0.1315905600786209\n"
     ]
    },
    {
     "name": "stderr",
     "output_type": "stream",
     "text": [
      " 70%|███████   | 14/20 [00:47<00:20,  3.46s/it]"
     ]
    },
    {
     "name": "stdout",
     "output_type": "stream",
     "text": [
      "epoch: 13, loss: 0.12582151591777802\n"
     ]
    },
    {
     "name": "stderr",
     "output_type": "stream",
     "text": [
      " 75%|███████▌  | 15/20 [00:51<00:17,  3.46s/it]"
     ]
    },
    {
     "name": "stdout",
     "output_type": "stream",
     "text": [
      "epoch: 14, loss: 0.10944955796003342\n"
     ]
    },
    {
     "name": "stderr",
     "output_type": "stream",
     "text": [
      " 80%|████████  | 16/20 [00:54<00:13,  3.45s/it]"
     ]
    },
    {
     "name": "stdout",
     "output_type": "stream",
     "text": [
      "epoch: 15, loss: 0.11045210808515549\n"
     ]
    },
    {
     "name": "stderr",
     "output_type": "stream",
     "text": [
      " 85%|████████▌ | 17/20 [00:58<00:10,  3.44s/it]"
     ]
    },
    {
     "name": "stdout",
     "output_type": "stream",
     "text": [
      "epoch: 16, loss: 0.09918961673974991\n"
     ]
    },
    {
     "name": "stderr",
     "output_type": "stream",
     "text": [
      " 90%|█████████ | 18/20 [01:01<00:06,  3.42s/it]"
     ]
    },
    {
     "name": "stdout",
     "output_type": "stream",
     "text": [
      "epoch: 17, loss: 0.08984313160181046\n"
     ]
    },
    {
     "name": "stderr",
     "output_type": "stream",
     "text": [
      " 95%|█████████▌| 19/20 [01:05<00:03,  3.41s/it]"
     ]
    },
    {
     "name": "stdout",
     "output_type": "stream",
     "text": [
      "epoch: 18, loss: 0.09363368153572083\n"
     ]
    },
    {
     "name": "stderr",
     "output_type": "stream",
     "text": [
      "100%|██████████| 20/20 [01:08<00:00,  3.41s/it]"
     ]
    },
    {
     "name": "stdout",
     "output_type": "stream",
     "text": [
      "epoch: 19, loss: 0.09687241911888123\n"
     ]
    }
   ],
   "source": [
    "from tqdm.auto import tqdm\n",
    "import matplotlib.pyplot as plt\n",
    "progress_bar = tqdm(range(num_training_steps))\n",
    "model.train()\n",
    "count = 0\n",
    "loss_lst = []\n",
    "for epoch in range(num_epochs): \n",
    "    for batch in train_dataloader:\n",
    "        count += 1\n",
    "        batch = {k: v.to(device) for k, v in batch.items()}\n",
    "\n",
    "        # if epoch == 0 and count == 1:\n",
    "        #     print(\"batch: \", batch)  \n",
    "            # break\n",
    "        # import pdb; pdb.set_trace() \n",
    "        outputs = model(**batch)\n",
    "        loss = outputs.loss\n",
    "        loss.backward()\n",
    "        optimizer.step()\n",
    "        lr_scheduler.step()\n",
    "        optimizer.zero_grad()\n",
    "        print(f\"epoch: {epoch}, loss: {loss}\")\n",
    "        loss_lst.append(loss.item())\n",
    "        progress_bar.update(1)\n",
    "\n",
    "\n"
   ]
  },
  {
   "cell_type": "code",
   "execution_count": 120,
   "metadata": {},
   "outputs": [
    {
     "data": {
      "image/png": "[encoded data removed]",
      "text/plain": [
       "<Figure size 1000x600 with 1 Axes>"
      ]
     },
     "metadata": {},
     "output_type": "display_data"
    }
   ],
   "source": [
    "# Plotting\n",
    "plt.figure(figsize=(10, 6))  # Increase the size of the plot\n",
    "plt.plot(np.array(loss_lst), color='blue', linestyle='--', marker='o', markersize=6, markerfacecolor='red', label='Loss')\n",
    "\n",
    "# Adding title and labels\n",
    "plt.title('Training Loss over Epochs', fontsize=18, fontweight='bold')\n",
    "plt.xlabel('Epochs', fontsize=14)\n",
    "plt.ylabel('Loss', fontsize=14)\n",
    "\n",
    "# Adding a grid\n",
    "plt.grid(True, linestyle='--', alpha=0.7)\n",
    "\n",
    "# Adding a legend\n",
    "plt.legend()\n",
    "\n",
    "# Customizing tick parameters\n",
    "plt.xticks(fontsize=12)\n",
    "plt.yticks(fontsize=12)\n",
    "\n",
    "# Show the plot\n",
    "plt.show()"
   ]
  },
  {
   "cell_type": "code",
   "execution_count": 113,
   "metadata": {},
   "outputs": [
    {
     "data": {
      "text/plain": [
       "torch.Size([6, 512])"
      ]
     },
     "execution_count": 113,
     "metadata": {},
     "output_type": "execute_result"
    }
   ],
   "source": [
    "batch['token_type_ids'].size()"
   ]
  },
  {
   "cell_type": "code",
   "execution_count": 114,
   "metadata": {},
   "outputs": [
    {
     "name": "stdout",
     "output_type": "stream",
     "text": [
      "key: labels\n",
      "key: input_ids\n",
      "key: token_type_ids\n",
      "key: attention_mask\n"
     ]
    }
   ],
   "source": [
    "for key in batch.keys():\n",
    "    print(\"key:\", key) "
   ]
  },
  {
   "cell_type": "markdown",
   "metadata": {},
   "source": [
    "### 2.5. Evaluation Phase:"
   ]
  },
  {
   "cell_type": "code",
   "execution_count": 115,
   "metadata": {},
   "outputs": [
    {
     "data": {
      "text/plain": [
       "{'accuracy': 1.0}"
      ]
     },
     "execution_count": 115,
     "metadata": {},
     "output_type": "execute_result"
    }
   ],
   "source": [
    "import evaluate\n",
    "\n",
    "metric = evaluate.load(\"accuracy\")\n",
    "model.eval()\n",
    "for batch in eval_dataloader:\n",
    "    batch = {k: v.to(device) for k, v in batch.items()}\n",
    "    with torch.no_grad():\n",
    "        outputs = model(**batch)\n",
    "\n",
    "    logits = outputs.logits\n",
    "    predictions = torch.argmax(logits, dim=-1)\n",
    "    metric.add_batch(predictions=predictions, references=batch[\"labels\"])\n",
    "\n",
    "metric.compute()"
   ]
  },
  {
   "cell_type": "code",
   "execution_count": 116,
   "metadata": {},
   "outputs": [
    {
     "data": {
      "text/plain": [
       "tensor([[-0.8683,  0.9719]])"
      ]
     },
     "execution_count": 116,
     "metadata": {},
     "output_type": "execute_result"
    }
   ],
   "source": [
    "logits"
   ]
  },
  {
   "cell_type": "code",
   "execution_count": 117,
   "metadata": {},
   "outputs": [
    {
     "data": {
      "text/plain": [
       "tensor([1])"
      ]
     },
     "execution_count": 117,
     "metadata": {},
     "output_type": "execute_result"
    }
   ],
   "source": [
    "torch.argmax(logits, dim=-1)"
   ]
  },
  {
   "cell_type": "code",
   "execution_count": 118,
   "metadata": {},
   "outputs": [
    {
     "name": "stdout",
     "output_type": "stream",
     "text": [
      "a:  tensor([[-0.5719, -0.7091,  1.8932,  1.4689, -0.4575],\n",
      "        [ 0.5674, -1.1667, -1.9380,  0.5509,  0.7978],\n",
      "        [-0.6589,  0.4792,  1.0191,  0.1713,  0.3747],\n",
      "        [ 0.8622,  0.9321, -1.0182, -0.5714, -1.4404]])\n"
     ]
    },
    {
     "data": {
      "text/plain": [
       "tensor([2, 4, 2, 1])"
      ]
     },
     "execution_count": 118,
     "metadata": {},
     "output_type": "execute_result"
    }
   ],
   "source": [
    "a = torch.randn(4, 5)\n",
    "print(\"a: \", a)\n",
    "torch.argmax(a, dim=-1)"
   ]
  },
  {
   "cell_type": "markdown",
   "metadata": {},
   "source": [
    "### 2.6. Code Sanity Check:"
   ]
  },
  {
   "cell_type": "code",
   "execution_count": 122,
   "metadata": {},
   "outputs": [
    {
     "name": "stdout",
     "output_type": "stream",
     "text": [
      "Targets:  tensor([1, 0, 1, 1, 0, 1])\n",
      "Predictions:  tensor([1, 0, 1, 1, 0, 1])\n"
     ]
    },
    {
     "data": {
      "text/plain": [
       "{'accuracy': 1.0}"
      ]
     },
     "execution_count": 122,
     "metadata": {},
     "output_type": "execute_result"
    }
   ],
   "source": [
    "# Overfitting a few data points.\n",
    "import evaluate\n",
    "\n",
    "metric = evaluate.load(\"accuracy\")\n",
    "model.eval()\n",
    "for batch in train_dataloader:\n",
    "    batch = {k: v.to(device) for k, v in batch.items()}\n",
    "    print(\"Targets: \", batch[\"labels\"])\n",
    "    with torch.no_grad():\n",
    "        outputs = model(**batch)\n",
    "    logits = outputs.logits\n",
    "    predictions = torch.argmax(logits, dim=-1)\n",
    "    print(\"Predictions: \", predictions)\n",
    "    metric.add_batch(predictions=predictions, references=batch[\"labels\"])\n",
    "\n",
    "metric.compute()"
   ]
  },
  {
   "cell_type": "code",
   "execution_count": null,
   "metadata": {},
   "outputs": [],
   "source": []
  }
 ],
 "metadata": {
  "kernelspec": {
   "display_name": "Azure_end_to_end_project",
   "language": "python",
   "name": "python3"
  },
  "language_info": {
   "codemirror_mode": {
    "name": "ipython",
    "version": 3
   },
   "file_extension": ".py",
   "mimetype": "text/x-python",
   "name": "python",
   "nbconvert_exporter": "python",
   "pygments_lexer": "ipython3",
   "version": "3.12.2"
  }
 },
 "nbformat": 4,
 "nbformat_minor": 2
}
